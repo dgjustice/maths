{
 "cells": [
  {
   "cell_type": "code",
   "execution_count": null,
   "id": "e0a70c30-51b5-4b81-8386-507ccfacff6b",
   "metadata": {},
   "outputs": [],
   "source": [
    "from IPython.display import display\n",
    "\n",
    "import sympy\n",
    "import scipy\n",
    "import numpy as np\n",
    "\n",
    "# x, y, z = symbols('x y z')\n",
    "sympy.init_printing(use_unicode=True)"
   ]
  },
  {
   "cell_type": "markdown",
   "id": "dfd21f62-f2e5-4f31-a656-359d575d9180",
   "metadata": {},
   "source": [
    "# Homework\n",
    "\n",
    "## Exercise set 6.1\n",
    "\n",
    "### 6a\n",
    "\n",
    "**solution**\n",
    "\n",
    "### 6c\n",
    "\n",
    "**solution**\n",
    "\n",
    "### 14d\n",
    "\n",
    "**solution**\n"
   ]
  },
  {
   "cell_type": "markdown",
   "id": "a00331ba-79c4-4817-829c-52a68194cb18",
   "metadata": {},
   "source": [
    "## Exercise set 6.2\n",
    "\n",
    "### 10b\n",
    "\n",
    "**solution**\n",
    "\n",
    "### 14b\n",
    "\n",
    "**solution**\n",
    "\n",
    "### 18b\n",
    "\n",
    "**solution**\n",
    "\n"
   ]
  },
  {
   "cell_type": "markdown",
   "id": "46269472-2fa7-4570-94a1-1cde1a125f34",
   "metadata": {},
   "source": [
    "## Exercise set 6.5\n",
    "\n",
    "### 2a\n",
    "\n",
    "**solution**\n",
    "\n",
    "### 6a\n",
    "\n",
    "**solution**\n"
   ]
  },
  {
   "cell_type": "markdown",
   "id": "6442352c-2db1-460e-837f-e7b361ff28e0",
   "metadata": {},
   "source": [
    "## Exercise set 6.6\n",
    "\n",
    "### 2\n",
    "\n",
    "**solution**\n",
    "\n",
    "### 4a\n",
    "\n",
    "**solution**\n",
    "\n",
    "### 6a\n",
    "\n",
    "**solution**\n",
    "\n",
    "### 12c\n",
    "\n",
    "**solution**\n"
   ]
  }
 ],
 "metadata": {
  "kernelspec": {
   "display_name": "Python 3 (ipykernel)",
   "language": "python",
   "name": "python3"
  },
  "language_info": {
   "codemirror_mode": {
    "name": "ipython",
    "version": 3
   },
   "file_extension": ".py",
   "mimetype": "text/x-python",
   "name": "python",
   "nbconvert_exporter": "python",
   "pygments_lexer": "ipython3",
   "version": "3.9.2"
  }
 },
 "nbformat": 4,
 "nbformat_minor": 5
}
