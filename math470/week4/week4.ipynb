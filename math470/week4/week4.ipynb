{
 "cells": [
  {
   "cell_type": "code",
   "execution_count": 2,
   "id": "3e370525-983b-4d30-ac91-a369db87144b",
   "metadata": {},
   "outputs": [],
   "source": [
    "from IPython.display import display\n",
    "\n",
    "from sympy import *\n",
    "import numpy as np\n",
    "\n",
    "x, y, z = symbols('x y z')\n",
    "init_printing(use_unicode=True)"
   ]
  },
  {
   "cell_type": "markdown",
   "id": "3ce84803-a379-4a3c-96b7-e2f6fde0fc38",
   "metadata": {},
   "source": [
    "# Homework\n",
    "\n",
    "## Exercise set 4.1\n",
    "\n",
    "### 2a\n",
    "\n",
    "Use the forward-difference forumlas and backward-difference formulas to determine each missing entry in the following tables.\n",
    "\n",
    "|$x$|$f(x)$|$f'(x)$|\n",
    "|---|---|---|\n",
    "|-0.3|1.9507| |\n",
    "|-0.2|2.0421| |\n",
    "|-0.1|2.0601| |\n",
    "\n",
    "**solution**\n",
    "\n",
    "### 4a\n",
    "\n",
    "The data in Exercise 2 were taken from the following functions.\n",
    "Compute the actual errors in Exercise 2, and find error bounds using the error formulas.\n",
    "\n",
    "$f(x)=2\\cos 2x-x$\n",
    "\n",
    "**solution**\n",
    "\n"
   ]
  },
  {
   "cell_type": "code",
   "execution_count": null,
   "id": "4795085a-4633-465e-8c10-4ec930f80a72",
   "metadata": {},
   "outputs": [],
   "source": []
  },
  {
   "cell_type": "code",
   "execution_count": null,
   "id": "afd4e20e-7b2c-43d1-aefe-ed4413056514",
   "metadata": {},
   "outputs": [],
   "source": [
    "### 6a\n",
    "\n",
    "Use the most accurate three-point formula to determine each missing entry in the following tables.\n",
    "\n",
    "|$x$|$f(x)$|$f'(x)$|\n",
    "|---|---|---|\n",
    "|-0.3|-0.27652| |\n",
    "|-0.2|-0.25074| |\n",
    "|-0.1|-0.16134| |\n",
    "|0|0| |\n",
    "\n",
    "**solution**\n",
    "\n",
    "### 8a\n",
    "\n",
    "The data in Exercise 6 were taken from the following functions.\n",
    "Compute the actual errors in Exercise 6, and find error bounds using the error formulas.\n",
    "\n",
    "$f(x)=e^{2x}- \\cos 2x$\n",
    "\n",
    "**solution**\n",
    "\n"
   ]
  },
  {
   "cell_type": "code",
   "execution_count": null,
   "id": "598fc30f-b21a-470d-bca7-1d21f70c3a96",
   "metadata": {},
   "outputs": [],
   "source": []
  },
  {
   "cell_type": "code",
   "execution_count": null,
   "id": "e7b45165-c5ec-409e-8ddb-e7d486cda10e",
   "metadata": {},
   "outputs": [],
   "source": []
  },
  {
   "cell_type": "markdown",
   "id": "8b98124d-79cf-4eb2-bd14-82753c95a11c",
   "metadata": {},
   "source": [
    "## Exercise set 4.2\n",
    "\n",
    "### 1c\n",
    "\n",
    "Apply the extrapolation process described in Example 1 to determine $N_3(h)$, an approximation to $f'(x_0)$, for the following functions and stepsizes.\n",
    "\n",
    "$f(x)=2^x \\sin x, x_0=1.05, h=0.4$\n",
    "\n",
    "**solution**\n",
    "\n"
   ]
  },
  {
   "cell_type": "markdown",
   "id": "f0e8cc0e-731c-4aab-b655-a3c20f4dc964",
   "metadata": {},
   "source": [
    "## Exercise set 4.3\n",
    "\n",
    "### 2a\n",
    "\n",
    "Approximate the following integrals using the Trapezoidal rule.\n",
    "\n",
    "$$\\int_{-0.25}^{0.25} (\\cos x)^2 dx$$\n",
    "\n",
    "**solution**\n",
    "\n",
    "### 4a\n",
    "\n",
    "Find a bound for the error in Exercise 2 using the error formula, and compare this to the actual error.\n",
    "\n",
    "**solution**\n",
    "\n",
    "### 6a\n",
    "\n",
    "Repeat Exercise 2 using Simpson's rule.\n",
    "\n",
    "**solution**\n",
    "\n"
   ]
  },
  {
   "cell_type": "code",
   "execution_count": null,
   "id": "9862de23-63d7-4f05-85be-eccd4346c56e",
   "metadata": {},
   "outputs": [],
   "source": []
  }
 ],
 "metadata": {
  "kernelspec": {
   "display_name": "Python 3 (ipykernel)",
   "language": "python",
   "name": "python3"
  },
  "language_info": {
   "codemirror_mode": {
    "name": "ipython",
    "version": 3
   },
   "file_extension": ".py",
   "mimetype": "text/x-python",
   "name": "python",
   "nbconvert_exporter": "python",
   "pygments_lexer": "ipython3",
   "version": "3.9.2"
  }
 },
 "nbformat": 4,
 "nbformat_minor": 5
}
