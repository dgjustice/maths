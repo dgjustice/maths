{
 "cells": [
  {
   "cell_type": "code",
   "execution_count": 1,
   "id": "3e370525-983b-4d30-ac91-a369db87144b",
   "metadata": {},
   "outputs": [],
   "source": [
    "from IPython.display import display\n",
    "\n",
    "from sympy import *\n",
    "import numpy as np\n",
    "\n",
    "# x, y, z = symbols('x y z')\n",
    "init_printing(use_unicode=True)"
   ]
  },
  {
   "cell_type": "markdown",
   "id": "3ce84803-a379-4a3c-96b7-e2f6fde0fc38",
   "metadata": {},
   "source": [
    "# Homework\n",
    "\n",
    "## Exercise set 4.1\n",
    "\n",
    "### 2a\n",
    "\n",
    "Use the forward-difference forumlas and backward-difference formulas to determine each missing entry in the following tables.\n",
    "\n",
    "|$x$|$f(x)$|$f'(x)$|\n",
    "|---|---|---|\n",
    "|-0.3|1.9507||\n",
    "|-0.2|2.0421||\n",
    "|-0.1|2.0601||\n",
    "\n",
    "**solution**\n",
    "\n",
    "|$x$|$f(x)$|$f'(x)$|\n",
    "|---|---|---|\n",
    "|-0.3|1.9507|0.9140|\n",
    "|-0.2|2.0421|0.1800|\n",
    "|-0.1|2.0601|0.1800|"
   ]
  },
  {
   "cell_type": "code",
   "execution_count": 2,
   "id": "0af323aa-f3fb-4e35-a51e-f094de661655",
   "metadata": {},
   "outputs": [
    {
     "name": "stdout",
     "output_type": "stream",
     "text": [
      "0.9139999999999993\n",
      "0.17999999999999794\n",
      "0.9139999999999993\n",
      "0.17999999999999794\n"
     ]
    }
   ],
   "source": [
    "h = 0.1\n",
    "# forward\n",
    "print((2.0421 - 1.9507) / h)\n",
    "print((2.0601 - 2.0421) / h)\n",
    "\n",
    "h = -0.1\n",
    "\n",
    "# backward\n",
    "print((1.9507 - 2.0421) / h)\n",
    "print((2.0421 - 2.0601) / h)"
   ]
  },
  {
   "cell_type": "markdown",
   "id": "414cb52d-cd82-4734-96e1-febdaee57295",
   "metadata": {},
   "source": [
    "### 4a\n",
    "\n",
    "The data in Exercise 2 were taken from the following functions.\n",
    "Compute the actual errors in Exercise 2, and find error bounds using the error formulas.\n",
    "\n",
    "$f(x)=2\\cos 2x-x$\n",
    "\n",
    "**solution**\n",
    "\n",
    "$f'(x)=-4\\sin 2x - 1$\n",
    "\n",
    "$f''(x)=-8\\cos 2x$\n",
    "\n",
    "$$\\frac{|hf''(\\xi)|}{2}=\\frac{|-8h\\cos 2x|}{2}=|4hcos2x|$$\n",
    "\n",
    "$-0.3 < -\\xi < -0.2$\n",
    "\n",
    "$f'(-0.3)=1.2586$, Absolute error: 0.3446 , Error bound < 0.3684\n",
    "\n",
    "$-0.2 < -\\xi < -0.1$\n",
    "\n",
    "$f'(-0.2)=0.5577$, Absolute error: 0.3777 , Error bound < 0.3920\n",
    "\n",
    "$-0.2 < -\\xi < -0.1$\n",
    "\n",
    "$f'(-0.1)=-0.2053$, Absolute error: 0.3853 , Error bound < 0.3920"
   ]
  },
  {
   "cell_type": "code",
   "execution_count": 3,
   "id": "4795085a-4633-465e-8c10-4ec930f80a72",
   "metadata": {},
   "outputs": [
    {
     "name": "stdout",
     "output_type": "stream",
     "text": [
      "f'(-0.3) = 1.2586 , Absolute error: 0.3446 , Error bound < 0.3301\n",
      "f'(-0.2) = 0.5577 , Absolute error: 0.3777 , Error bound < 0.3684\n",
      "f'(-0.1) = -0.2053 , Absolute error: 0.3853 , Error bound < 0.4000\n"
     ]
    }
   ],
   "source": [
    "f = lambda v: -4 * sin(2 * v) - 1\n",
    "v = -0.3\n",
    "vp = round(f(v), 4)\n",
    "rel = max(abs(4 * h * cos(2 * v)), abs(4 * h * cos(2 * (v + h))))\n",
    "print(f'f\\'({v}) =', vp, ', Absolute error:', round(abs(vp - 0.914), 4), ', Error bound <', round(rel, 4))\n",
    "v = -0.2\n",
    "vp = round(f(v), 4)\n",
    "rel = max(abs(4 * h * cos(2 * v)), abs(4 * h * cos(2 * (v + h))))\n",
    "print(f'f\\'({v}) =', vp, ', Absolute error:', round(abs(vp-0.18), 4), ', Error bound <', round(rel, 4))\n",
    "v = -0.1\n",
    "vp = round(f(v), 4)\n",
    "rel = max(abs(4 * h * cos(2 * v)), abs(4 * h * cos(2 * (v - h))))\n",
    "print(f'f\\'({v}) =', vp, ', Absolute error:', round(abs(vp-0.18), 4), ', Error bound <', round(rel, 4))"
   ]
  },
  {
   "cell_type": "markdown",
   "id": "56d6c82e-8596-40ec-8942-f2219103177a",
   "metadata": {},
   "source": [
    "### 6a\n",
    "\n",
    "Use the most accurate three-point formula to determine each missing entry in the following tables.\n",
    "\n",
    "|$x$|$f(x)$|$f'(x)$|\n",
    "|---|---|---|\n",
    "|-0.3|-0.27652| |\n",
    "|-0.2|-0.25074| |\n",
    "|-0.1|-0.16134| |\n",
    "|0|0| |\n",
    "\n",
    "**solution**\n",
    "\n",
    "|$x$|$f(x)$|$f'(x)$|\n",
    "|---|---|---|\n",
    "|-0.3|-0.27652| -0.0603|\n",
    "|-0.2|-0.25074| 0.5759|\n",
    "|-0.1|-0.16134| 1.2537|\n",
    "|0|0| 1.9731|"
   ]
  },
  {
   "cell_type": "code",
   "execution_count": 4,
   "id": "598fc30f-b21a-470d-bca7-1d21f70c3a96",
   "metadata": {},
   "outputs": [
    {
     "name": "stdout",
     "output_type": "stream",
     "text": [
      "-0.0603\n",
      "0.5759\n",
      "1.2537\n",
      "1.9731\n"
     ]
    }
   ],
   "source": [
    "h = 0.1\n",
    "f = [-0.27652, -0.25074, -0.16134, 0]\n",
    "\n",
    "# endpoint\n",
    "endpoint = lambda i: 1/(2 * h) * (-3 * f[i] + 4 * f[i + 1] - f[i + 2])\n",
    "\n",
    "# midpoint\n",
    "midpoint = lambda i: 1/(2 * h) * (f[i + 1] - f[i - 1])\n",
    "\n",
    "# -0.3\n",
    "print(round(endpoint(0), 5))\n",
    "\n",
    "# -0.2\n",
    "print(round(midpoint(1), 5))\n",
    "\n",
    "# -0.1\n",
    "print(round(midpoint(2), 5))\n",
    "\n",
    "# 0\n",
    "h = -0.1\n",
    "endpoint = lambda i: 1/(2 * h) * (-3 * f[i] + 4 * f[i - 1] - f[i - 2])\n",
    "print(round(endpoint(3), 5))"
   ]
  },
  {
   "cell_type": "markdown",
   "id": "b20f0044-8360-4f7a-9d38-d6614bf34df2",
   "metadata": {},
   "source": [
    "### 8a\n",
    "\n",
    "The data in Exercise 6 were taken from the following functions.\n",
    "Compute the actual errors in Exercise 6, and find error bounds using the error formulas.\n",
    "\n",
    "$f(x)=e^{2x}- \\cos 2x$\n",
    "\n",
    "**solution**\n",
    "\n",
    "$f'(x)=2(e^{2x} + \\sin 2x)$\n",
    "\n",
    "$f''(x)=4(e^{2x} + \\cos 2x)$\n",
    "\n",
    "$$\\frac{|hf''(\\xi)|}{2}=\\frac{|4h(e^{2x} + \\cos 2x)|}{2}=|2h(e^{2x} + \\cos 2x)|$$\n",
    "\n",
    "$f'(-0.3) = -0.0317$ , Absolute error: 0.0286 , Error bound < 0.6366\n",
    "\n",
    "$f'(-0.2) = 0.5618$ , Absolute error: 0.0141 , Error bound < 0.7195\n",
    "\n",
    "$f'(-0.1) = 1.2401$ , Absolute error: 0.0136 , Error bound < 0.8000\n",
    "\n",
    "$f'(0) = 2$ , Absolute error: 0.0269 , Error bound < 0.8000\n"
   ]
  },
  {
   "cell_type": "code",
   "execution_count": 5,
   "id": "269cc67a-79ab-41db-ae83-63d095cc4466",
   "metadata": {},
   "outputs": [
    {
     "name": "stdout",
     "output_type": "stream",
     "text": [
      "$f'(-0.3) = -0.0317$ , Absolute error: 0.0286 , Error bound < 0.6366\n",
      "$f'(-0.2) = 0.5618$ , Absolute error: 0.0141 , Error bound < 0.7195\n",
      "$f'(-0.1) = 1.2401$ , Absolute error: 0.0136 , Error bound < 0.8000\n",
      "$f'(0) = 2$ , Absolute error: 0.0269 , Error bound < 0.8000\n"
     ]
    }
   ],
   "source": [
    "h = 0.1\n",
    "fp = lambda X: 2 * (exp(2 * X) + sin(2 * X))\n",
    "fpp = lambda X: 4 * (exp(2 * X) + cos(2 * X))\n",
    "for X, est in zip([-0.3, -0.2, -0.1, 0], [-0.0603, 0.5759, 1.2537, 1.9731]):\n",
    "    rel = max(fpp(X), fpp(X + h)) if X != 0 else max(fpp(X), fpp(X - h))\n",
    "    print(f'$f\\'({X}) = {round(fp(X), 4)}$', ', Absolute error:', round(abs(fp(X) - est), 4), ', Error bound <', round(rel * h, 4))"
   ]
  },
  {
   "cell_type": "markdown",
   "id": "8b98124d-79cf-4eb2-bd14-82753c95a11c",
   "metadata": {},
   "source": [
    "## Exercise set 4.2\n",
    "\n",
    "### 1c\n",
    "\n",
    "Apply the extrapolation process described in Example 1 to determine $N_3(h)$, an approximation to $f'(x_0)$, for the following functions and stepsizes.\n",
    "\n",
    "$f(x)=2^x \\sin x, x_0=1.05, h=0.4$\n",
    "\n",
    "**solution**\n",
    "\n",
    "$f'(x)=2^x (\\cos x + \\ln 2 \\sin x)$\n",
    "\n",
    "$f'(1.05) = 2.2751458417295467$\n",
    "\n",
    "$N_3(1.05) = 2.27515$"
   ]
  },
  {
   "cell_type": "code",
   "execution_count": 58,
   "id": "481c46e4-8884-4d19-b1d0-7e31c09c595a",
   "metadata": {},
   "outputs": [
    {
     "name": "stdout",
     "output_type": "stream",
     "text": [
      "2.2751458417295467\n",
      "[2.2031656973915594, 2.257237243413355, 2.2706741673063457]\n"
     ]
    },
    {
     "data": {
      "text/plain": [
       "array([[2.2031657 , 0.        , 0.        ],\n",
       "       [2.25723724, 2.27526109, 0.        ],\n",
       "       [2.27067417, 2.27515314, 2.27514595]])"
      ]
     },
     "execution_count": 58,
     "metadata": {},
     "output_type": "execute_result"
    }
   ],
   "source": [
    "f = lambda X: np.power(2, X) * np.sin(X)\n",
    "fp = lambda X: np.power(2, X) * (np.cos(X) + np.log(2) * np.sin(X))\n",
    "print(fp(1.05))\n",
    "\n",
    "# https://www.marksmath.org/classes/Spring2016NumericalAnalysis/demos/RichardsonExtrapolation.html\n",
    "# center diff\n",
    "def phi(X,h): return (f(X+h)-f(X-h))/(2*h)\n",
    "\n",
    "d = [phi(1.05, h) for h in [0.4 * 2**(-n) for n in range(3)]]\n",
    "print(d)\n",
    "\n",
    "N = len(d)\n",
    "D = np.zeros((N,N))\n",
    "D[:,0] = d\n",
    "for m in range(1,N):\n",
    "    for n in range(m,N):\n",
    "        D[n,m] = (4**m*D[n,m-1]-D[n-1,m-1])/(4**m-1)\n",
    "D"
   ]
  },
  {
   "cell_type": "markdown",
   "id": "f0e8cc0e-731c-4aab-b655-a3c20f4dc964",
   "metadata": {},
   "source": [
    "## Exercise set 4.3\n",
    "\n",
    "### 2a\n",
    "\n",
    "Approximate the following integrals using the Trapezoidal rule.\n",
    "\n",
    "$$\\int_{-0.25}^{0.25} (\\cos x)^2 dx$$\n",
    "\n",
    "**solution**\n",
    "\n",
    "$$\\int_{-0.25}^{0.25} f(x) dx \\approx \\frac{(0.25 + 0.25)}{2}(f(-0.25) + f(0.25)) \\approx 0.470$$"
   ]
  },
  {
   "cell_type": "code",
   "execution_count": 81,
   "id": "900303ac-f4fd-462c-8451-2ae130030db6",
   "metadata": {},
   "outputs": [
    {
     "data": {
      "text/latex": [
       "$\\displaystyle 0.469395640472593$"
      ],
      "text/plain": [
       "0.46939564047259336"
      ]
     },
     "execution_count": 81,
     "metadata": {},
     "output_type": "execute_result"
    }
   ],
   "source": [
    "f = lambda X: np.power(np.cos(X), 2)\n",
    "(0.5/2) * (f(-0.25) + f(0.25))"
   ]
  },
  {
   "cell_type": "markdown",
   "id": "553e6929-1d33-499e-85e7-d3bac8521315",
   "metadata": {},
   "source": [
    "### 4a\n",
    "\n",
    "Find a bound for the error in Exercise 2 using the error formula, and compare this to the actual error.\n",
    "\n",
    "**solution**\n",
    "\n",
    "Actual error: $0.489713 - 0.46940 < 0.021$\n",
    "\n",
    "Error bound:\n",
    "\n",
    "$f''(x) = 2\\sin^2 x - 2\\cos^2 x$\n",
    "\n",
    "$$\\frac{h^3}{12}f''(\\xi)=\\frac{h^3}{6}\\sin^2 \\xi \\cos^2 \\xi \\approx 0.0012$$\n",
    "\n",
    "I'm missing something in the above calculation, or my original estimate is wrong."
   ]
  },
  {
   "cell_type": "code",
   "execution_count": 77,
   "id": "5c1f3ee7-8972-47fb-a7a2-650820a950dd",
   "metadata": {},
   "outputs": [
    {
     "name": "stdout",
     "output_type": "stream",
     "text": [
      "0.020317360000000007\n"
     ]
    },
    {
     "data": {
      "text/latex": [
       "$\\displaystyle 0.00119712941180172$"
      ],
      "text/plain": [
       "0.0011971294118017202"
      ]
     },
     "execution_count": 77,
     "metadata": {},
     "output_type": "execute_result"
    }
   ],
   "source": [
    "# abs err\n",
    "print(0.489713 - 0.46939564)\n",
    "\n",
    "(np.power(0.5, 3) / 6) * (pow(np.sin(0.25), 2) * pow(np.cos(0.25), 2))"
   ]
  },
  {
   "cell_type": "markdown",
   "id": "67d2fee3-4f10-4aff-bd0b-83a34e4613fc",
   "metadata": {},
   "source": [
    "### 6a\n",
    "\n",
    "Repeat Exercise 2 using Simpson's rule.\n",
    "\n",
    "**solution**\n",
    "\n",
    "$$\\int_{-0.25}^{0.25} f(x) dx \\approx \\frac{(0.25 + 0.25)}{3}(f(-0.25) + 4f(0)+ f(0.25)) \\approx 0.490$$"
   ]
  },
  {
   "cell_type": "code",
   "execution_count": 87,
   "id": "310c6088-3edc-432a-9ea2-efe45dd40b66",
   "metadata": {},
   "outputs": [
    {
     "data": {
      "text/latex": [
       "$\\displaystyle 0.489798546824198$"
      ],
      "text/plain": [
       "0.4897985468241977"
      ]
     },
     "execution_count": 87,
     "metadata": {},
     "output_type": "execute_result"
    }
   ],
   "source": [
    "f = lambda X: np.power(np.cos(X), 2)\n",
    "h = 0.25\n",
    "(h / 3) * (f(-0.25) + 4 * f(0) + f(0.25))"
   ]
  }
 ],
 "metadata": {
  "kernelspec": {
   "display_name": "Python 3 (ipykernel)",
   "language": "python",
   "name": "python3"
  },
  "language_info": {
   "codemirror_mode": {
    "name": "ipython",
    "version": 3
   },
   "file_extension": ".py",
   "mimetype": "text/x-python",
   "name": "python",
   "nbconvert_exporter": "python",
   "pygments_lexer": "ipython3",
   "version": "3.9.2"
  }
 },
 "nbformat": 4,
 "nbformat_minor": 5
}
