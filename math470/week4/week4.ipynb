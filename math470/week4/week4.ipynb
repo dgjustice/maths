{
 "cells": [
  {
   "cell_type": "code",
   "execution_count": 2,
   "id": "3e370525-983b-4d30-ac91-a369db87144b",
   "metadata": {},
   "outputs": [],
   "source": [
    "from IPython.display import display\n",
    "\n",
    "from sympy import *\n",
    "import numpy as np\n",
    "\n",
    "x, y, z = symbols('x y z')\n",
    "init_printing(use_unicode=True)"
   ]
  },
  {
   "cell_type": "markdown",
   "id": "3ce84803-a379-4a3c-96b7-e2f6fde0fc38",
   "metadata": {},
   "source": [
    "# Homework\n",
    "\n",
    "## Exercise set 4.1\n",
    "\n",
    "### 2a\n",
    "\n",
    "**solution**\n",
    "\n",
    "### 4a\n",
    "\n",
    "**solution**\n",
    "\n",
    "### 6a\n",
    "\n",
    "**solution**\n",
    "\n",
    "### 8a\n",
    "\n",
    "**solution**\n",
    "\n"
   ]
  },
  {
   "cell_type": "markdown",
   "id": "8b98124d-79cf-4eb2-bd14-82753c95a11c",
   "metadata": {},
   "source": [
    "## Exercise set 4.2\n",
    "\n",
    "### 1c\n",
    "\n",
    "**solution**\n",
    "\n"
   ]
  },
  {
   "cell_type": "markdown",
   "id": "f0e8cc0e-731c-4aab-b655-a3c20f4dc964",
   "metadata": {},
   "source": [
    "## Exercise set 4.3\n",
    "\n",
    "### 2a\n",
    "\n",
    "**solution**\n",
    "\n",
    "### 4a\n",
    "\n",
    "**solution**\n",
    "\n",
    "### 6a\n",
    "\n",
    "**solution**\n",
    "\n"
   ]
  }
 ],
 "metadata": {
  "kernelspec": {
   "display_name": "Python 3 (ipykernel)",
   "language": "python",
   "name": "python3"
  },
  "language_info": {
   "codemirror_mode": {
    "name": "ipython",
    "version": 3
   },
   "file_extension": ".py",
   "mimetype": "text/x-python",
   "name": "python",
   "nbconvert_exporter": "python",
   "pygments_lexer": "ipython3",
   "version": "3.9.2"
  }
 },
 "nbformat": 4,
 "nbformat_minor": 5
}
