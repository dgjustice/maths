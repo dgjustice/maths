{
 "cells": [
  {
   "cell_type": "code",
   "execution_count": null,
   "id": "3c8f78b6-d65a-49e6-a0c2-d0303af6ab38",
   "metadata": {},
   "outputs": [],
   "source": [
    "from IPython.display import display\n",
    "\n",
    "import math\n",
    "import sympy\n",
    "import scipy\n",
    "import numpy as np\n",
    "\n",
    "# x, y, z = symbols('x y z')\n",
    "sympy.init_printing(use_unicode=True)"
   ]
  },
  {
   "cell_type": "markdown",
   "id": "773a8996-bc07-424e-a237-4202557f7ac7",
   "metadata": {},
   "source": [
    "# Homework\n",
    "\n",
    "## Exercise set 9.6\n",
    "\n",
    "Determine the singular values of the following matrices.\n",
    "\n",
    "### 2a\n",
    "\n",
    "$A=\n",
    "\\quad\n",
    "\\begin{bmatrix}\n",
    "2 & 1 \\\\\n",
    "1 & 0 \\\\\n",
    "\\end{bmatrix}$\n",
    "\n",
    "**solution**\n"
   ]
  },
  {
   "cell_type": "markdown",
   "id": "5c7ed10d-b744-4236-bad7-f7cfc4ca272c",
   "metadata": {},
   "source": [
    "### 2d\n",
    "\n",
    "$A=\n",
    "\\quad\n",
    "\\begin{bmatrix}\n",
    "1 & 1 & 0 \\\\\n",
    "-1 & 0 & 1 \\\\\n",
    "0 & 1 & -1 \\\\\n",
    "1 & 1 & -1 \\\\\n",
    "\\end{bmatrix}$\n",
    "\n",
    "**solution**\n"
   ]
  },
  {
   "cell_type": "markdown",
   "id": "a2cb3181-8f58-48f7-ae77-85e6356b95c6",
   "metadata": {},
   "source": [
    "### 4a\n",
    "\n",
    "Determine a singular value decomposition for the matrices in Exercise 2.\n",
    "\n",
    "**solution**\n"
   ]
  },
  {
   "cell_type": "markdown",
   "id": "df9d0c60-de9a-4ed2-9c56-60d4af3363dd",
   "metadata": {},
   "source": [
    "### 4d\n",
    "\n",
    "**solution**\n"
   ]
  },
  {
   "cell_type": "code",
   "execution_count": null,
   "id": "3dfc7bf6-a4a1-46ff-9735-a32022287640",
   "metadata": {},
   "outputs": [],
   "source": []
  }
 ],
 "metadata": {
  "kernelspec": {
   "display_name": "Python 3 (ipykernel)",
   "language": "python",
   "name": "python3"
  },
  "language_info": {
   "codemirror_mode": {
    "name": "ipython",
    "version": 3
   },
   "file_extension": ".py",
   "mimetype": "text/x-python",
   "name": "python",
   "nbconvert_exporter": "python",
   "pygments_lexer": "ipython3",
   "version": "3.9.2"
  }
 },
 "nbformat": 4,
 "nbformat_minor": 5
}
