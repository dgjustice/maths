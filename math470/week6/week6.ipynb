{
 "cells": [
  {
   "cell_type": "code",
   "execution_count": 1,
   "id": "c7936a0e-ef46-42bb-925b-57ba3d418f2d",
   "metadata": {},
   "outputs": [],
   "source": [
    "from IPython.display import display\n",
    "\n",
    "import sympy\n",
    "import scipy\n",
    "import numpy as np\n",
    "\n",
    "# x, y, z = symbols('x y z')\n",
    "sympy.init_printing(use_unicode=True)"
   ]
  },
  {
   "cell_type": "markdown",
   "id": "b90e1a8e-6c1e-4a95-adfb-148ebd63f011",
   "metadata": {},
   "source": [
    "# Homework\n",
    "\n",
    "## Exercise set 5.1\n",
    "\n",
    "### 4a\n",
    "\n",
    "For each choice of $f(t, y)$ given in parts (a):\n",
    "\n",
    "**i.** Does $f$ satisfy a Lipschitz condition on $D={(t, y) | 0 \\le t \\le 1, -\\infty < y < \\infty }$?\n",
    "\n",
    "**ii.** Can Theorem 5.6 be used to show that the initial-value-problem\n",
    "$$y'=f(t, y), 0 \\le t \\le 1, y(0)=1,$$\n",
    "is well-posed?\n",
    "\n",
    "**a.** $f(t, y) = e^{t-y}$\n",
    "\n",
    "**solution**\n",
    "\n",
    "$f(t, y) = e^{t-y}$\n",
    "\n",
    "$\\frac{d}{dy}f(t, \\xi)=-e^{t-\\xi}$\n",
    "\n",
    "$|f(t, y_2)-f(t, y_1)| = |y_2 - y_1||-e^{t-\\xi}| \\le -|y_2 - y-_1|$\n",
    "\n",
    "**i.** Yes, $L=-1$\n",
    "\n",
    "**ii.** Yes"
   ]
  },
  {
   "cell_type": "markdown",
   "id": "cda1d772-2bbb-4bc5-95c8-6caf40d66376",
   "metadata": {},
   "source": [
    "### 4c\n",
    "\n",
    "**c.** $f(t, y) = \\cos(yt)$\n",
    "\n",
    "**solution**\n",
    "\n",
    "$\\frac{d}{dy}f(t, \\xi)=-t \\sin(t \\xi)$\n",
    "\n",
    "$|f(t, y_2)-f(t, y_1)| = |y_2 - y_1||-t \\sin(t \\xi)| \\le |y_2 - y-_1|$\n",
    "\n",
    "**i.** Yes, $L=1$\n",
    "\n",
    "**ii.** Yes"
   ]
  },
  {
   "cell_type": "markdown",
   "id": "0d2d0599-fb24-49cf-a173-de94da7bbe30",
   "metadata": {},
   "source": [
    "## Exercise set 5.2\n",
    "\n",
    "### 2c\n",
    "\n",
    "Use Euler's method to approximate the solutions for each of the following initial-value problems.\n",
    "\n",
    "**c.** $y'=-y + ty^{1/2}, 2 \\le t \\le 3, y(2)=2$, with $h=0.25$.\n",
    "\n",
    "**solution**\n",
    "\n",
    "```\n",
    "t_i  w_i\n",
    "____________\n",
    "2.00 2.00000\n",
    "2.25 2.20711\n",
    "2.50 2.49100\n",
    "2.75 2.85468\n",
    "3.00 3.30260\n",
    "```"
   ]
  },
  {
   "cell_type": "code",
   "execution_count": 23,
   "id": "499b4b9f-f6cc-411a-a51a-256d24a05be2",
   "metadata": {},
   "outputs": [
    {
     "name": "stdout",
     "output_type": "stream",
     "text": [
      "t_i  w_i\n",
      "____________\n",
      "2.00 2.00000\n",
      "2.25 2.20711\n",
      "2.50 2.49100\n",
      "2.75 2.85468\n",
      "3.00 3.30260\n"
     ]
    }
   ],
   "source": [
    "def euler(f, a, b, N, alpha):\n",
    "    out = []\n",
    "    h = (b - a)/N\n",
    "    t = a\n",
    "    w = alpha\n",
    "    out.append((t, w))\n",
    "    for i in range(1, N+1):\n",
    "        w = w + h * f(t, w)\n",
    "        t = a + i * h\n",
    "        out.append((t, w))\n",
    "    return out\n",
    "\n",
    "# Sanity check example from text\n",
    "# f = lambda t, y: y - np.power(t, 2) + 1\n",
    "# euler(f, 0, 2, 10, 0.5)\n",
    "\n",
    "print(\"t_i  w_i\")\n",
    "print(\"_\"*12)\n",
    "f = lambda t, y: -1 * y + t * np.sqrt(y)\n",
    "for t, w in euler(f, 2, 3, 4, 2):\n",
    "    print(f\"{t:.2f} {round(w, 5):.5f}\")\n"
   ]
  },
  {
   "cell_type": "markdown",
   "id": "91ccef55-e3fb-41e7-9810-bfe30ccd9101",
   "metadata": {},
   "source": [
    "### 4c\n",
    "\n",
    "The acutal solutions to the initial-value problems in Exercise 2 are given here.\n",
    "Compute the actual error and compare this to the error bound if Theorem 5.9 can be applied.\n",
    "\n",
    "**c.** $y(t)=\\big(t-2+\\sqrt{2} e e^{-t/2}\\big)^2$\n",
    "\n",
    "**solution**\n",
    "\n",
    "&emsp; $t_i$ &emsp; $w_i$ &emsp; $y_i=y(t_i)$ &emsp; $|y_i - w_i|$\n",
    "\n",
    "```\n",
    "2.00 2.00000 2.0 0.0\n",
    "2.25 2.20711 2.24412 0.03701\n",
    "2.50 2.49100 2.56445 0.07345\n",
    "2.75 2.85468 2.96519 0.11051\n",
    "3.00 3.30260 3.45129 0.14869\n",
    "```"
   ]
  },
  {
   "cell_type": "code",
   "execution_count": 38,
   "id": "506c8f99-4689-4f4d-bef4-a97b34bbb42f",
   "metadata": {},
   "outputs": [
    {
     "name": "stdout",
     "output_type": "stream",
     "text": [
      "t_i  w_i y_i=y(t_i) |y_i - w_i|\n",
      "____________________\n",
      "2.00 2.00000 2.0 0.0\n",
      "2.25 2.20711 2.24412 0.03701\n",
      "2.50 2.49100 2.56445 0.07345\n",
      "2.75 2.85468 2.96519 0.11051\n",
      "3.00 3.30260 3.45129 0.14869\n"
     ]
    }
   ],
   "source": [
    "y_t = lambda t: np.power(t - 2 + np.sqrt(2) * np.e * np.power(np.e, -1 * t / 2), 2)\n",
    "real = []\n",
    "for i in range(5):\n",
    "    t = i * 1/4 + 2\n",
    "    real.append(y_t(t))\n",
    "\n",
    "f = lambda t, y: -1 * y + t * np.sqrt(y)\n",
    "approx = euler(f, 2, 3, 4, 2)\n",
    "errs = []\n",
    "for i in range(5):\n",
    "    errs.append(abs(real[i] - approx[i][1]))\n",
    "\n",
    "print(\"t_i  w_i y_i=y(t_i) |y_i - w_i|\")\n",
    "print(\"_\"*20)\n",
    "for i in range(5):\n",
    "    print(f\"{approx[i][0]:.2f} {round(approx[i][1], 5):.5f} {round(real[i], 5)} {round(errs[i], 5)}\")"
   ]
  },
  {
   "cell_type": "markdown",
   "id": "81be6cc8-2f4d-4429-b241-627be3102717",
   "metadata": {},
   "source": [
    "## Exercise set 5.3\n",
    "\n",
    "### 10\n",
    "\n",
    "Given the initial-value problem\n",
    "\n",
    "$$y'=\\frac{1}{t^2}-\\frac{y}{t} - y^2, 1 \\le t \\le 2, y(1)=-1$$\n",
    "\n",
    "with exact solution $y(t)=-1/t$:\n",
    "\n",
    "**a.** Use Taylor's method of order two with h=0.05 to approximate the solution, and compare it with the acutal values of $y$.\n",
    "\n",
    "**b.** Use the answers generated in part (a) and linear interpolation to approximate the following values of $y$, and compare them to the actual values.\n",
    "\n",
    "&emsp; **i.** $y(1.052)$ &emsp; **ii.** $y(1.555)$ &emsp; **iii.** $y(1.978)$\n",
    "\n",
    "**c.** Use Taylor's method of order four with h=0.05 to approximate the solution, and compare it with the acutal values of $y$.\n",
    "\n",
    "**d.** Use the answers generated in part (c) and piecewise cubic Hermite interpolation to approximate the following values of $y$, and compare them to the actual values.\n",
    "\n",
    "&emsp; **i.** $y(1.052)$ &emsp; **ii.** $y(1.555)$ &emsp; **iii.** $y(1.978)$\n",
    "\n",
    "**solution**"
   ]
  },
  {
   "cell_type": "code",
   "execution_count": 2,
   "id": "4e8b0c0a-3475-4816-adc9-647f61b24372",
   "metadata": {},
   "outputs": [
    {
     "data": {
      "text/plain": [
       "array([ 7.749984  , -1.0625    , -1.546872  ,  1.13281175])"
      ]
     },
     "execution_count": 2,
     "metadata": {},
     "output_type": "execute_result"
    }
   ],
   "source": [
    "# Hermite interpolation\n",
    "x0 = -0.25\n",
    "x1 = 0.25\n",
    "data = np.array([\n",
    "    [x0**3, x0**2, x0, 1],\n",
    "    [x1**3, x1**2, x1, 1],\n",
    "    [3*(x0**2), 2*x0, 1, 0],\n",
    "    [3*(x1**2), 2*x1, 1, 0],\n",
    "])\n",
    "dep = np.array([1.33203, 0.800781, 0.437500, -0.625000])\n",
    "np.linalg.solve(data, dep)"
   ]
  },
  {
   "cell_type": "markdown",
   "id": "830acf41-dd03-42ff-b58a-94a26bef1af2",
   "metadata": {},
   "source": [
    "## Exercise set 5.4\n",
    "\n",
    "### 4a\n",
    "\n",
    "Use the Modified Euler method to approximate the solutions to each of the folowing initial-value problems, and compare the results to the actual values.\n",
    "\n",
    "**a.** $y'=\\frac{2-2ty}{t^2+1}, 0 \\le t \\le 1, y(0)=1$, with $h=0.1$; actual solution $y(t)=\\frac{2t+1}{t^2+1}$\n",
    "\n",
    "**solution**"
   ]
  },
  {
   "cell_type": "markdown",
   "id": "3c2edc15-3362-468b-bce1-8551c914655b",
   "metadata": {},
   "source": [
    "### 8a\n",
    "\n",
    "Repeat Exercise 4 using the Midpoint method.\n",
    "\n",
    "**solution**"
   ]
  },
  {
   "cell_type": "markdown",
   "id": "95007360-0919-4ee8-9e48-5d9e1e6a26b1",
   "metadata": {},
   "source": [
    "### 12a\n",
    "\n",
    "Repeat Exercise 4 using Heun's method.\n",
    "\n",
    "**solution**"
   ]
  },
  {
   "cell_type": "markdown",
   "id": "1e5ccb45-64ed-40a4-9a9e-2a841045d868",
   "metadata": {},
   "source": [
    "### 16a\n",
    "\n",
    "Repeat Exercise 4 using the Runge-Kutta method of order four.\n",
    "\n",
    "**solution**"
   ]
  },
  {
   "cell_type": "markdown",
   "id": "98c77365-cb66-4163-91d0-0e28cbe545cb",
   "metadata": {},
   "source": [
    "### 26a\n",
    "\n",
    "Compare the results of Exercise 16 and Cubic Hermite interpolation to approxiamte the values of $y(t)$, and compare the approximations to the actual values.\n",
    "\n",
    "**a.** $y(1.25)$ and $y(1.93)$\n",
    "\n",
    "**solution**"
   ]
  },
  {
   "cell_type": "markdown",
   "id": "36876d66-888a-4316-a7be-0ceabab3c606",
   "metadata": {},
   "source": [
    "## Exercise set 5.5\n",
    "\n",
    "### 2b\n",
    "\n",
    "Use the Runge-Kutta-Fehlberg Algorithm with tolerance $TOL=10^{-4}$ to approximate the solution to the following initial-value problems.\n",
    "\n",
    "**b.** $y'=\\sin t + e^{-t}, 0 \\le t \\le 1, y(0) = 0$, with $hmax=0.25$ and $hmin=0.02$.\n",
    "\n",
    "**solution**"
   ]
  }
 ],
 "metadata": {
  "kernelspec": {
   "display_name": "Python 3 (ipykernel)",
   "language": "python",
   "name": "python3"
  },
  "language_info": {
   "codemirror_mode": {
    "name": "ipython",
    "version": 3
   },
   "file_extension": ".py",
   "mimetype": "text/x-python",
   "name": "python",
   "nbconvert_exporter": "python",
   "pygments_lexer": "ipython3",
   "version": "3.9.2"
  }
 },
 "nbformat": 4,
 "nbformat_minor": 5
}
