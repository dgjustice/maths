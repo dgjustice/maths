{
 "cells": [
  {
   "cell_type": "code",
   "execution_count": 1,
   "id": "c7936a0e-ef46-42bb-925b-57ba3d418f2d",
   "metadata": {},
   "outputs": [],
   "source": [
    "from IPython.display import display\n",
    "\n",
    "import sympy\n",
    "import scipy\n",
    "import numpy as np\n",
    "\n",
    "# x, y, z = symbols('x y z')\n",
    "sympy.init_printing(use_unicode=True)"
   ]
  },
  {
   "cell_type": "markdown",
   "id": "b90e1a8e-6c1e-4a95-adfb-148ebd63f011",
   "metadata": {},
   "source": [
    "# Homework\n",
    "\n",
    "## Exercise set 5.1\n",
    "\n",
    "### 4a\n",
    "\n",
    "**solution**\n"
   ]
  },
  {
   "cell_type": "markdown",
   "id": "cda1d772-2bbb-4bc5-95c8-6caf40d66376",
   "metadata": {},
   "source": [
    "### 4c\n",
    "\n",
    "**solution**"
   ]
  },
  {
   "cell_type": "markdown",
   "id": "0d2d0599-fb24-49cf-a173-de94da7bbe30",
   "metadata": {},
   "source": [
    "## Exercise set 5.2\n",
    "\n",
    "### 2c\n",
    "\n",
    "**solution**\n"
   ]
  },
  {
   "cell_type": "markdown",
   "id": "91ccef55-e3fb-41e7-9810-bfe30ccd9101",
   "metadata": {},
   "source": [
    "### 4c\n",
    "\n",
    "**solution**\n"
   ]
  },
  {
   "cell_type": "markdown",
   "id": "81be6cc8-2f4d-4429-b241-627be3102717",
   "metadata": {},
   "source": [
    "## Exercise set 5.3\n",
    "\n",
    "### 10\n",
    "\n",
    "**solution**"
   ]
  },
  {
   "cell_type": "markdown",
   "id": "830acf41-dd03-42ff-b58a-94a26bef1af2",
   "metadata": {},
   "source": [
    "## Exercise set 5.4\n",
    "\n",
    "### 4a\n",
    "\n",
    "**solution**"
   ]
  },
  {
   "cell_type": "markdown",
   "id": "3c2edc15-3362-468b-bce1-8551c914655b",
   "metadata": {},
   "source": [
    "### 8a\n",
    "\n",
    "**solution**"
   ]
  },
  {
   "cell_type": "markdown",
   "id": "95007360-0919-4ee8-9e48-5d9e1e6a26b1",
   "metadata": {},
   "source": [
    "### 12a\n",
    "\n",
    "**solution**"
   ]
  },
  {
   "cell_type": "markdown",
   "id": "1e5ccb45-64ed-40a4-9a9e-2a841045d868",
   "metadata": {},
   "source": [
    "### 16a\n",
    "\n",
    "**solution**"
   ]
  },
  {
   "cell_type": "markdown",
   "id": "98c77365-cb66-4163-91d0-0e28cbe545cb",
   "metadata": {},
   "source": [
    "### 26a\n",
    "\n",
    "**solution**"
   ]
  },
  {
   "cell_type": "markdown",
   "id": "36876d66-888a-4316-a7be-0ceabab3c606",
   "metadata": {},
   "source": [
    "## Exercise set 5.5\n",
    "\n",
    "### 2b\n",
    "\n",
    "**solution**"
   ]
  }
 ],
 "metadata": {
  "kernelspec": {
   "display_name": "Python 3 (ipykernel)",
   "language": "python",
   "name": "python3"
  },
  "language_info": {
   "codemirror_mode": {
    "name": "ipython",
    "version": 3
   },
   "file_extension": ".py",
   "mimetype": "text/x-python",
   "name": "python",
   "nbconvert_exporter": "python",
   "pygments_lexer": "ipython3",
   "version": "3.9.2"
  }
 },
 "nbformat": 4,
 "nbformat_minor": 5
}
