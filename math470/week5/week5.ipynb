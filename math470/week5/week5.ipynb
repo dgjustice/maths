{
 "cells": [
  {
   "cell_type": "code",
   "execution_count": 117,
   "id": "5b1926f0-6a20-40ec-98f8-96de28dd6e03",
   "metadata": {},
   "outputs": [],
   "source": [
    "from IPython.display import display\n",
    "\n",
    "import sympy\n",
    "import scipy\n",
    "import numpy as np\n",
    "\n",
    "# x, y, z = symbols('x y z')\n",
    "sympy.init_printing(use_unicode=True)"
   ]
  },
  {
   "cell_type": "markdown",
   "id": "8e4fb598-6421-4e60-a647-f90450730b76",
   "metadata": {},
   "source": [
    "# Homework\n",
    "\n",
    "## Exercise set 4.3\n",
    "\n",
    "### 8a\n",
    "\n",
    "Repeat Exercise 4 using Simpson's rule and the results of Exercise 6.\n",
    "\n",
    "**solution**\n",
    "\n",
    "Actual error: $0.4898 - 0.489713 < 8.7 \\times 10^{-5}$\n",
    "\n",
    "Error bound:\n",
    "\n",
    "$f''(x) = 2\\sin^2 x - 2\\cos^2 x$\n",
    "\n",
    "$$\\frac{h^3}{12}f''(\\xi)=\\frac{h^3}{6}\\sin^2 \\xi \\cos^2 \\xi \\approx 1.5 \\times 10^{-4}$$"
   ]
  },
  {
   "cell_type": "code",
   "execution_count": 118,
   "id": "23ae459d-2b36-4ab4-8457-e942fc716fc6",
   "metadata": {},
   "outputs": [
    {
     "name": "stdout",
     "output_type": "stream",
     "text": [
      "-8.700000000000374e-05\n"
     ]
    },
    {
     "data": {
      "image/png": "[encoded data removed]",
      "text/latex": [
       "$\\displaystyle 0.000149641176475215$"
      ],
      "text/plain": [
       "0.00014964117647521503"
      ]
     },
     "execution_count": 118,
     "metadata": {},
     "output_type": "execute_result"
    }
   ],
   "source": [
    "# absolute error\n",
    "print(0.489713 - 0.4898)\n",
    "\n",
    "(np.power(0.25, 3) / 6) * (pow(np.sin(0.25), 2) * pow(np.cos(0.25), 2))"
   ]
  },
  {
   "cell_type": "markdown",
   "id": "57ea9ff9-b1b1-4598-ab2b-5bc08c940225",
   "metadata": {},
   "source": [
    "### 10a\n",
    "\n",
    "Repeat Exercise 2 using the Midpoint rule.\n",
    "\n",
    "Approximate the following integrals using the Trapezoidal rule.\n",
    "\n",
    "$$\\int_{-0.25}^{0.25} (\\cos x)^2 dx$$\n",
    "\n",
    "**solution**\n",
    "\n",
    "$$\\int_{-0.25}^{0.25} f(x) dx \\approx 2hf(0) \\approx 0.5$$"
   ]
  },
  {
   "cell_type": "code",
   "execution_count": 119,
   "id": "5305d282-7dc9-43c7-b0eb-a3df80ab4210",
   "metadata": {},
   "outputs": [
    {
     "data": {
      "image/png": "[encoded data removed]",
      "text/latex": [
       "$\\displaystyle 0.5$"
      ],
      "text/plain": [
       "0.5"
      ]
     },
     "execution_count": 119,
     "metadata": {},
     "output_type": "execute_result"
    }
   ],
   "source": [
    "f = lambda X: np.power(np.cos(X), 2)\n",
    "h = 0.25\n",
    "2 * h * f(0)"
   ]
  },
  {
   "cell_type": "markdown",
   "id": "bda1e1ad-7223-4673-b8b6-c7970eb7112a",
   "metadata": {},
   "source": [
    "### 12a\n",
    "\n",
    "Repeat Exercise 4 using the Midpoint rule and the results of Exercise 10.\n",
    "\n",
    "**solution**\n",
    "\n",
    "Actual error: $0.5 - 0.489713 < 0.0103$\n",
    "\n",
    "Error bound:\n",
    "\n",
    "$f''(x) = 2\\sin^2 x - 2\\cos^2 x$\n",
    "\n",
    "$$\\frac{h^3}{3}f''(\\xi)=\\frac{2h^3}{3}\\sin^2 \\xi \\cos^2 \\xi \\approx 6.0 \\times 10^{-4}$$"
   ]
  },
  {
   "cell_type": "code",
   "execution_count": 120,
   "id": "28dd4e39-c9cb-48cb-b000-656412bd8e81",
   "metadata": {},
   "outputs": [
    {
     "name": "stdout",
     "output_type": "stream",
     "text": [
      "0.01028699999999999\n"
     ]
    },
    {
     "data": {
      "image/png": "[encoded data removed]",
      "text/latex": [
       "$\\displaystyle 0.00059856470590086$"
      ],
      "text/plain": [
       "0.0005985647059008601"
      ]
     },
     "execution_count": 120,
     "metadata": {},
     "output_type": "execute_result"
    }
   ],
   "source": [
    "# absolute error\n",
    "print(0.5 - 0.489713)\n",
    "\n",
    "(2/3 * np.power(0.25, 3)) * (pow(np.sin(0.25), 2) * pow(np.cos(0.25), 2))"
   ]
  },
  {
   "cell_type": "markdown",
   "id": "e78d95a0-5953-44fc-89e4-cf463db31ca4",
   "metadata": {},
   "source": [
    "### 21a\n",
    "\n",
    "Approximate the following integrals using formulas (4.25) through (4.32).\n",
    "Are the accuracies of the approximations consistent with the error formulas?\n",
    "Which of parts (d) and (e) give the better approximation?\n",
    "\n",
    "$$\\int_{0}^{0.1} \\sqrt{1+x} \\, dx$$\n",
    "\n",
    "**solution**\n",
    "\n",
    "Actual value = 0.10246\n",
    "\n",
    "using (4.25) $\\approx 0.102440442408508$\n",
    "\n",
    "using (4.26) $\\approx 0.0512250654127685$\n",
    "\n",
    "using (4.27) $\\approx 0.102459820769143$\n",
    "\n",
    "using (4.28) $\\approx 0.102459821990859$\n",
    "\n",
    "using (4.29) $\\approx 0.0512347538297980$\n",
    "\n",
    "using (4.30) $\\approx 0.102466280222689$\n",
    "\n",
    "using (4.31) $\\approx 0.102459824395616$\n",
    "\n",
    "using (4.32) $\\approx 0.102459823662376$\n",
    "\n",
    "Intuitively, approximations with higher order of $n$ are more accurate, and the closed methods converge faster than the open ones."
   ]
  },
  {
   "cell_type": "code",
   "execution_count": 121,
   "id": "28fb529d-0f8d-4f3f-be2d-ecea1a4a7be3",
   "metadata": {},
   "outputs": [
    {
     "name": "stdout",
     "output_type": "stream",
     "text": [
      "using (4.25) $\\approx 0.10244044240850758$\n",
      "\n",
      "using (4.26) $\\approx 0.05122506541276853$\n",
      "\n",
      "using (4.27) $\\approx 0.10245982076914334$\n",
      "\n",
      "using (4.28) $\\approx 0.1024598219908594$\n",
      "\n",
      "using (4.29) $\\approx 0.051234753829798$\n",
      "\n",
      "using (4.30) $\\approx 0.10246628022268858$\n",
      "\n",
      "using (4.31) $\\approx 0.10245982439561567$\n",
      "\n",
      "using (4.32) $\\approx 0.10245982366237556$\n",
      "\n"
     ]
    }
   ],
   "source": [
    "f = lambda x: np.sqrt(1 + x)\n",
    "\n",
    "# 4.25\n",
    "h = 0.1\n",
    "print(f\"using (4.25) $\\\\approx {h/2 * (f(0) + f(0.1))}$\\n\")\n",
    "\n",
    "# 4.26\n",
    "h = 0.1/2\n",
    "print(f\"using (4.26) $\\\\approx {h/3 * (f(0) + f(0.05) + f(0.1))}$\\n\")\n",
    "\n",
    "# 4.27\n",
    "h = 0.1/3\n",
    "print(f\"using (4.27) $\\\\approx {3/8 * h * (f(0) + 3*f(0.1/3) + 3*f(2*0.1/3) + f(0.1))}$\\n\")\n",
    "\n",
    "# 4.28\n",
    "h = 0.1/4\n",
    "print(f\"using (4.28) $\\\\approx {2/45 * h * (7*f(0) + 32*f(0.1/4) + 12*f(2*0.1/4) + 32*f(3*0.1/4) + 7*f(0.1))}$\\n\")\n",
    "\n",
    "# 4.29\n",
    "h = 0.1\n",
    "print(f\"using (4.29) $\\\\approx {h/2 * (f(0.05))}$\\n\")\n",
    "\n",
    "# 4.30\n",
    "h = 0.1/3\n",
    "print(f\"using (4.30) $\\\\approx {3/2 * h * (f(0.1/3) + f(2*0.1/3))}$\\n\")\n",
    "\n",
    "# 4.31\n",
    "h = 0.1/4\n",
    "print(f\"using (4.31) $\\\\approx {4/3 * h * (2*f(0.025) - f(0.05) + 2 * f(0.075))}$\\n\")\n",
    "\n",
    "# 4.32\n",
    "h = 0.1/5\n",
    "print(f\"using (4.32) $\\\\approx {5/24 * h * (11*f(0.1/5) + f(2*0.1/5) + f(3*0.1/5) + 11*f(4*0.1/5))}$\\n\")\n"
   ]
  },
  {
   "cell_type": "markdown",
   "id": "4eade769-4b2b-439f-afe4-e9df68a7f9af",
   "metadata": {},
   "source": [
    "## Exercise set 4.4\n",
    "\n",
    "### 8\n",
    "\n",
    "Approximate $\\int_{0}^{2}x^2 e^{-x^2} \\, dx$ using $h=0.25$.\n",
    "Use\n",
    "\n",
    "a. Composite Trapezoidal rule.\n",
    "\n",
    "b. Composite Simpson's rule.\n",
    "\n",
    "c. Composite Midpoint rule.\n",
    "\n",
    "**solution**\n",
    "\n",
    "a. $\\approx 0.421582037198102$\n",
    "\n",
    "b. $\\approx 0.4227161879339765$\n",
    "\n",
    "c. $\\approx 0.39986394610174414$"
   ]
  },
  {
   "cell_type": "code",
   "execution_count": 122,
   "id": "93fca0a8-ffa6-4e36-a14e-8007419b342a",
   "metadata": {},
   "outputs": [
    {
     "name": "stdout",
     "output_type": "stream",
     "text": [
      "my trapezoid 0.421582037198102\n",
      "sci trapezoid 0.421582037198102\n",
      "my simpson 0.4227161879339765\n",
      "sci simpson 0.4227161879339765\n",
      "0.39986394610174414\n"
     ]
    }
   ],
   "source": [
    "def trapezoid(f, a, b, n):\n",
    "    h = (b - a) / n\n",
    "    xi0 = f(a) + f(b)\n",
    "    xi1 = 0\n",
    "    for i in range(1, n):\n",
    "        x = a + i * h\n",
    "        xi1 += f(x)\n",
    "    return h*(xi0 + 2*xi1) / 2\n",
    "\n",
    "def simpson(f, a, b, n):\n",
    "    h = (b - a) / n\n",
    "    xi0 = f(a) + f(b)\n",
    "    xi1 = 0\n",
    "    xi2 = 0\n",
    "    for i in range(1, n):\n",
    "        x = a + i * h\n",
    "        if i % 2 == 0:\n",
    "            xi2 += f(x)\n",
    "        else:\n",
    "            xi1 += f(x)\n",
    "    return h*(xi0 + 2*xi2 + 4*xi1) / 3\n",
    "\n",
    "\n",
    "def midpoint(f, a, b, n):\n",
    "    h = (b - a) / n\n",
    "    xj = 0\n",
    "    for j in range(1, n//2):\n",
    "        x = a + 2 * j * h\n",
    "        xj += f(x)\n",
    "    return 2*h*xj\n",
    "\n",
    "f = lambda x: pow(x, 2) * np.exp(-1 * pow(x, 2))\n",
    "x = np.array([0 + i * 0.25 for i in range(0, 9)])\n",
    "y = f(x)\n",
    "\n",
    "print('my trapezoid', trapezoid(f, 0, 2, 8))\n",
    "print('sci trapezoid', scipy.integrate.trapezoid(y, x))\n",
    "print('my simpson', simpson(f, 0, 2, 8))\n",
    "print('sci simpson', scipy.integrate.simpson(y, x))\n",
    "print(midpoint(f, 0, 2, 8))"
   ]
  },
  {
   "cell_type": "markdown",
   "id": "a6414850-fe1f-4da8-874d-d7096e8c5fef",
   "metadata": {},
   "source": [
    "### 12\n",
    "\n",
    "Repeat Exercise 11 for the integral $\\int_{0}^{\\pi} x^2 \\cos x \\, dx$.\n",
    "\n",
    "Determine the values of $n$ and $h$ required to approximate\n",
    "\n",
    "$$\\int_{0}^{\\pi} x^2 \\cos x \\, dx$$\n",
    "\n",
    "to within $10^{-4}$.\n",
    "Use\n",
    "\n",
    "a. Composite Trapezoidal rule.\n",
    "\n",
    "b. Composite Simpson's rule.\n",
    "\n",
    "c. Composite Midpoint rule.\n",
    "\n",
    "\n",
    "**solution**\n",
    "\n",
    "$$f''(\\mu) = -(\\mu^2 - 2)\\cos(\\mu)-4\\mu \\sin(\\mu)$$\n",
    "\n",
    "$max(f''), [0, \\pi] < 8$\n",
    "\n",
    "$$f^{(4)}(\\mu) = (x^2-12) \\cos(x) + 8x\\sin(x)$$\n",
    "\n",
    "$max(f^{(4)}), [0, \\pi] < 18.5$\n",
    "\n",
    "a. $$\\frac{8\\pi}{12}h^2 < 10^{-4}$$\n",
    "\n",
    "$$\\frac{2\\pi}{3}h^2 < 10^{-4}$$\n",
    "\n",
    "$h=\\pi/n$\n",
    "\n",
    "$$\\frac{2\\pi}{3}{\\pi/n}^2 < 10^{-4}$$\n",
    "\n",
    "$$\\frac{2\\pi^2}{3n^2} < 10^{-4}$$\n",
    "\n",
    "$$\\frac{2\\pi^2}{3\\cdot 10^{-4}}^{1/2} < n$$\n",
    "\n",
    "$n > 256.51$\n",
    "\n",
    "b. $$\\frac{\\pi}{180}h^4 f^{(4)}(\\mu) < 10^{-4}$$\n",
    "\n",
    "$$\\frac{18.5\\pi}{180}h^4 < 10^{-4}$$\n",
    "\n",
    "$$\\frac{18.5\\pi}{180}h^4 < 10^{-4}$$\n",
    "\n",
    "$h=\\pi/n$\n",
    "\n",
    "$$\\frac{18.5\\pi}{180}{\\pi/n}^4 < 10^{-4}$$\n",
    "\n",
    "$$\\frac{18.5\\pi^2}{180n^4} < 10^{-4}$$\n",
    "\n",
    "$$\\frac{18.5\\pi^2}{180\\cdot 10^{-4}}^{1/4} < n$$\n",
    "\n",
    "$n > 10.04$\n",
    "\n",
    "c. $$\\frac{\\pi}{6}h^2 f''(\\mu) < 10^{-4}$$\n",
    "\n",
    "$$\\frac{8\\pi}{6}h^2 < 10^{-4}$$\n",
    "\n",
    "$$\\frac{4\\pi}{3}h^2 < 10^{-4}$$\n",
    "\n",
    "$h=\\pi/n$\n",
    "\n",
    "$$\\frac{4\\pi}{3}{\\pi/n}^2 < 10^{-4}$$\n",
    "\n",
    "$$\\frac{4\\pi^2}{3n^2} < 10^{-4}$$\n",
    "\n",
    "$$\\frac{4\\pi^2}{3\\cdot 10^{-4}}^{1/2} < n$$\n",
    "\n",
    "$n > 362.76$"
   ]
  },
  {
   "cell_type": "markdown",
   "id": "ebaab56b-49e4-418e-bafb-f358c0713992",
   "metadata": {},
   "source": [
    "## Exercise set 4.5\n",
    "\n",
    "### 6a\n",
    "\n",
    "Use Romberg integration to approximate the integrals in Exercise 2 to withint $10^-6$.\n",
    "Compute the Romberg table until either $|R_{n-1,n-1} - R_{n,n}| < 10^{-6}$, or $n=10$.\n",
    "Compare your results to the exact values of the integrals.\n",
    "\n",
    "$$\\int_{-1}^{1}(\\cos x)^2 \\, dx$$\n",
    "\n",
    "**solution**\n",
    "\n",
    "Exact $\\approx 1.4546$\n",
    "\n",
    "Romberg $\\approx 1.4546481.454649$"
   ]
  },
  {
   "cell_type": "code",
   "execution_count": 123,
   "id": "c2ebd9b8-23dd-45d3-aed5-6348ef41aac9",
   "metadata": {},
   "outputs": [
    {
     "name": "stdout",
     "output_type": "stream",
     "text": [
      "my romberg  1.4546495948772336\n",
      "my romberg2 1.4546489337796908\n",
      "sci romberg 1.4546487134201067\n"
     ]
    }
   ],
   "source": [
    "def romberg(f, a, b, n):\n",
    "    # not quite right yet\n",
    "    h = (b - a)\n",
    "    r = np.zeros([n, n])\n",
    "    r[0, 0] = h / 2 * (f(a) + f(b))\n",
    "    for i in range(1, n):\n",
    "        v = 0\n",
    "        for k in range(1, pow(2, i - 1)+1):\n",
    "            v += f(a + (k - 0.5) * h)\n",
    "        r[i, 0] = 0.5 * (r[i-1, 0] + h * v)\n",
    "        for j in range(1, i+1):\n",
    "            r[i, j] = r[i, j-1] + (r[i, j - 1] - r[i-1, j - 1]) / (np.power(4, j - 1))\n",
    "        h /= 2\n",
    "    return r[-1][-1]\n",
    "\n",
    "def romberg2(f, a, b, n):\n",
    "    h = (b - a)\n",
    "    r = np.zeros([2, n])\n",
    "    r[0, 0] = h / 2 * (f(a) + f(b))\n",
    "    for i in range(1, n+1):\n",
    "        v = 0\n",
    "        for k in range(1, pow(2, i - 1)+1):\n",
    "            v += f(a + (k - 0.5) * h)\n",
    "        r[1, 0] = 0.5 * (r[0, 0] + h * v)\n",
    "        for j in range(1, i):\n",
    "            r[1, j] = r[1, j-1] + (r[1, j - 1] - r[0, j - 1]) / (np.power(4, j - 1))\n",
    "        h /= 2\n",
    "        for j in range(i):\n",
    "            r[0, j] = r[1, j]\n",
    "    return r[1][-1]\n",
    "\n",
    "f = lambda x: np.power(np.cos(x), 2)\n",
    "\n",
    "print('my romberg ', romberg(f, -1, 1, 10))\n",
    "print('my romberg2', romberg2(f, -1, 1, 10))\n",
    "print('sci romberg', scipy.integrate.romberg(f, -1, 1))\n"
   ]
  },
  {
   "cell_type": "markdown",
   "id": "fbd417d9-3d02-445e-93b5-343e006814f9",
   "metadata": {},
   "source": [
    "## Exercise set 4.9\n",
    "\n",
    "### 2a\n",
    "\n",
    "Use the Composite Simpson's rule and the given values of $n$ to approximate the following imporper integrals.\n",
    "\n",
    "$$\\int_{0}^{1} \\frac{e^{-x}}{\\sqrt{1-x}} \\, dx, n=6$$\n",
    "\n",
    "**solution**\n",
    "\n",
    "$h = 1/6$\n",
    "\n",
    "$$\\int_{0}^{1} \\frac{e^{-x}}{\\sqrt{1-x}} \\, dx \\approx 1.07616$$\n"
   ]
  },
  {
   "cell_type": "code",
   "execution_count": 124,
   "id": "8105381d-df83-4b0b-8fdf-ea58f9554fa6",
   "metadata": {},
   "outputs": [
    {
     "data": {
      "image/png": "[encoded data removed]",
      "text/latex": [
       "$\\displaystyle 1.07680131470813$"
      ],
      "text/plain": [
       "1.0768013147081275"
      ]
     },
     "execution_count": 124,
     "metadata": {},
     "output_type": "execute_result"
    }
   ],
   "source": [
    "f = lambda x: np.exp(-1 * x) / np.sqrt(1 - x)\n",
    "simpson(f, 0, 0.99, 6)"
   ]
  },
  {
   "cell_type": "markdown",
   "id": "cce02144-652a-45c6-924e-e78dc106409a",
   "metadata": {},
   "source": [
    "### 4a\n",
    "\n",
    "The improper integral $\\int_{0}^{\\infty} f(x) \\, dx$ cannot be converted into an integral with finite limits using the substitution $t=1/x$ because the limit at zero becomes infinite.\n",
    "The problem is resolved by first writing $\\int_{0}^{\\infty} f(x) \\, dx = \\int_{0}^{1} f(x) \\, dx + \\int_{1}^{\\infty} f(x) \\, dx$.\n",
    "Apply this technique to approximate the following improper integrals to within $10^{-6}$.\n",
    "\n",
    "$$\\int_{0}^{\\infty} \\frac{1}{1+x^4} \\, dx$$\n",
    "\n",
    "**solution**\n",
    "\n",
    "$$\\int_{0}^{\\infty} \\frac{1}{1+x^4} \\, dx \\approx 1.1107$$"
   ]
  },
  {
   "cell_type": "code",
   "execution_count": 125,
   "id": "f202d190-c728-45bf-8a62-6ba4629d2483",
   "metadata": {},
   "outputs": [
    {
     "data": {
      "image/png": "[encoded data removed]",
      "text/latex": [
       "$\\displaystyle 1.11074028862224$"
      ],
      "text/plain": [
       "1.110740288622238"
      ]
     },
     "execution_count": 125,
     "metadata": {},
     "output_type": "execute_result"
    }
   ],
   "source": [
    "f = lambda x: 1 / (1 + np.power(x, 4))\n",
    "simpson(f, 0, 1, 6) + simpson(f, 1, 100, 1000)"
   ]
  }
 ],
 "metadata": {
  "kernelspec": {
   "display_name": "Python 3 (ipykernel)",
   "language": "python",
   "name": "python3"
  },
  "language_info": {
   "codemirror_mode": {
    "name": "ipython",
    "version": 3
   },
   "file_extension": ".py",
   "mimetype": "text/x-python",
   "name": "python",
   "nbconvert_exporter": "python",
   "pygments_lexer": "ipython3",
   "version": "3.9.2"
  }
 },
 "nbformat": 4,
 "nbformat_minor": 5
}
