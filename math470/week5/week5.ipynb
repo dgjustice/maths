{
 "cells": [
  {
   "cell_type": "code",
   "execution_count": 1,
   "id": "5b1926f0-6a20-40ec-98f8-96de28dd6e03",
   "metadata": {},
   "outputs": [],
   "source": [
    "from IPython.display import display\n",
    "\n",
    "from sympy import *\n",
    "import numpy as np\n",
    "\n",
    "# x, y, z = symbols('x y z')\n",
    "init_printing(use_unicode=True)"
   ]
  },
  {
   "cell_type": "markdown",
   "id": "8e4fb598-6421-4e60-a647-f90450730b76",
   "metadata": {},
   "source": [
    "Chapter 4.3: 8a, 10a, 12a, 21a\n",
    "Chapter 4.4: 8, 12\n",
    "Chapter 4.5: 6a\n",
    "Chapter 4.9: 2a, 4a"
   ]
  }
 ],
 "metadata": {
  "kernelspec": {
   "display_name": "Python 3 (ipykernel)",
   "language": "python",
   "name": "python3"
  },
  "language_info": {
   "codemirror_mode": {
    "name": "ipython",
    "version": 3
   },
   "file_extension": ".py",
   "mimetype": "text/x-python",
   "name": "python",
   "nbconvert_exporter": "python",
   "pygments_lexer": "ipython3",
   "version": "3.9.2"
  }
 },
 "nbformat": 4,
 "nbformat_minor": 5
}
