{
 "cells": [
  {
   "cell_type": "markdown",
   "id": "77d273cc-2d6d-4109-b002-08622d340e0e",
   "metadata": {},
   "source": [
    "# Homework\n",
    "\n",
    "## Exercise set 1.1\n",
    "\n",
    "### 1b\n",
    "\n",
    "Show that the following equations have at least one solution in the given intervals.\n",
    "\n",
    "b. $(x-2)^2-\\ln x=0,\\ \\ \\  [1, 2] \\text{ and } [e, 4] $\n",
    "\n",
    "**solution**\n",
    "\n",
    "$$\n",
    "\\begin{align}\n",
    "    f(1) = (1-2)^2 - \\ln 1 \\\\\n",
    "    = 1 - 0 = 1 \\\\\n",
    "    f(2) = 0^2 - \\ln 2 \\\\\n",
    "    = - \\ln 2\n",
    "\\end{align}\n",
    "$$\n",
    "\n",
    "$f$ is continuous and $f(1) > 0 > f(2)$, so by the IVT, $f(0)$ has at least one solution.\n",
    "\n",
    "$$\n",
    "\\begin{align}\n",
    "    f(e) = (e-2)^2 - \\ln e \\\\\n",
    "    = (e-2)^2 - e < 0 \\\\\n",
    "    f(4) = (4-2)^2 - \\ln 4 \\\\\n",
    "    = 4 - \\ln 4  > 0\n",
    "\\end{align}\n",
    "$$\n",
    "\n",
    "$f$ is continuous and $f(4) > 0 > f(e)$, so by the IVT, $f(0)$ has at least one solution.\n",
    "\n",
    "### 2b\n",
    "\n",
    "Find intervals containing solutions to the following equations.\n",
    "\n",
    "b. $4x^2-e^x=0$\n",
    "\n",
    "$$\n",
    "\\begin{align}\n",
    "    f(-1) = 4-\\frac{1}{e} \\\\\n",
    "\\end{align}\n",
    "$$\n",
    "\n",
    "**solution**\n",
    "\n",
    "$[-1, 0]$\n",
    "\n",
    "$f(-1) < 0 < f(0)$\n",
    "\n",
    "$[0, 1]$\n",
    "\n",
    "$f(1) < 0 < f(0)$\n",
    "\n",
    "$[4, 5]$\n",
    "\n",
    "$f(5) < 0 < f(4)$\n",
    "\n",
    "### 3b\n",
    "\n",
    "Show that $f'(x)$ is 0 at least once in the given intervals.\n",
    "\n",
    "$f(x) = (x - 1) \\tan x + x \\sin \\pi x, \\ \\ \\ [0, 1]$\n",
    "\n",
    "**solution**\n",
    "\n",
    "$$f(1)=(1-1)\\tan 1 + 1 \\sin \\pi $$\n",
    "$$f(1)=0 + 0 = 0$$\n",
    "\n",
    "1 is in the closed interval and $f(1)=0$.\n",
    "\n",
    "### 4b\n",
    "\n",
    "Find $max_{a \\le x \\le b} |f(x)|$  for the following functions and intervals.\n",
    "\n",
    "$f(x) = (4x-3)/(x^2-2x), \\ \\ \\ [0.5, 1]$\n",
    "\n",
    "**solution**\n",
    "\n",
    "$f(x)$ is continuous, decreasing, and convex up on the interval $[0.5, 1]$.\n",
    "\n",
    "$f(0.5) = (2-3)(1/4-1) = -1/-3/4 = 4/3$\n",
    "\n",
    "$f(1) = (4-3)/(1-2) = 1/-1 = -1 $\n",
    "\n",
    "$f(0.5) > f(1)$, so $f(0.5)$ is the max.\n",
    "\n",
    "### 12\n",
    "\n",
    "Let $f(x)=2x \\cos(2x) - (x - 2)^2$ and $x_0=0$.\n",
    "\n",
    "#### a\n",
    "\n",
    "Find the third Taylor polynomial $P_{3}(x)$ and use it to approximate $f(0.4)$.\n",
    "\n",
    "**solution**\n",
    "\n",
    "$$f'(x)=- 4 x \\sin{\\left(2 x \\right)} - 2 x + 2 \\cos{\\left(2 x \\right)} + 4$$\n",
    "$$f''(x)=- 2 \\cdot \\left(4 x \\cos{\\left(2 x \\right)} + 4 \\sin{\\left(2 x \\right)} + 1\\right)$$\n",
    "$$f'''(x)=8 \\cdot \\left(2 x \\sin{\\left(2 x \\right)} - 3 \\cos{\\left(2 x \\right)}\\right)$$\n",
    "\n",
    "#### b\n",
    "\n",
    "Use the error formula in Taylor's Theorem to find an upper bound for the error $|f(0.4)-P_{3}(0.4)|$.\n",
    "Compute the actual error.\n",
    "\n",
    "**solution**\n",
    "\n",
    "$f(0.4) \\approx 2.016$\n",
    "\n",
    "actual error = 0.0133653674777321\n",
    "\n",
    "err bound $(0.4^4 * (32+64))/24$\n",
    "\n",
    "upper bound = 0.1024\n",
    "\n",
    "#### c\n",
    "\n",
    "Find the fourth Taylor polynomial $P_{4}(x)$ and use it to approximate $f(0.4)$.\n",
    "\n",
    "**solution**\n",
    "\n",
    "$f(0.4) \\approx 2.016$\n",
    "\n",
    "#### d\n",
    "\n",
    "Use the error formula in Taylor's Theorem to find an upper bound for the error $|f(0.4)-P_{4}(0.4)|$.\n",
    "Compute the actual error.\n",
    "\n",
    "**solution**\n",
    "\n",
    "actual error = 0.0133653674777321\n",
    "\n",
    "err bound $(0.4^5 * (64 + 160))/120\n",
    "\n",
    "upper bound = 0.0191146666666667"
   ]
  },
  {
   "cell_type": "markdown",
   "id": "17d6e3f4-30ce-46a9-9784-53e65c25f217",
   "metadata": {},
   "source": [
    "## Exercise set 1.2\n",
    "\n",
    "### 1e\n",
    "\n",
    "Compute the absolute error and relative error in approximations of $p$ by $p^*$.\n",
    "\n",
    "$p = e^{10}, p^{*} = 22000$\n",
    "\n",
    "**solution**\n",
    "\n",
    "Absolute error = $|p-p^*| = |22026.465 - 22000| \\approx 26.5$\n",
    "\n",
    "Relative error = $\\frac{|p-p^*|}{|p|} = \\frac{|22026.465 - 22000|}{2206.465} = 0.0012$.\n",
    "\n",
    "### 2a\n",
    "\n",
    "Find the largest interval in which $p^{*}$ must lie to approximate $p$ with relative error at most $10^{-4}$ for each value of $p$.\n",
    "\n",
    "$\\pi$\n",
    "\n",
    "**solution**\n",
    "\n",
    "$\\pm \\pi(1 + 10^{-4})$\n",
    "\n",
    "### 5h\n",
    "\n",
    "Use three-digit rounding arithmetic to perform the following calculations.\n",
    "Compute the absolute error and relative error with the exact value determined to at least five digits.\n",
    "\n",
    "$\\frac{\\pi - \\frac{22}{7}}{\\frac{1}{17}}$\n",
    "\n",
    "**solution**\n",
    "\n",
    "-50.3\n",
    "\n",
    "Absolute error = $0.0020837$\n",
    "\n",
    "Relative error = $−4.1437 \\cdot 10^{-5}$\n",
    "\n",
    "### 7h\n",
    "\n",
    "Repeat Exercise 5 using three-digit chopping arithmetic.\n",
    "\n",
    "**solution**\n",
    "\n",
    "Chopping results in $3.14-3.14$ which results in zero in the numerator.\n",
    "We need more digits! :)"
   ]
  },
  {
   "cell_type": "markdown",
   "id": "0443eaa8-bb37-4e0b-89f7-458146eb7c0e",
   "metadata": {},
   "source": [
    "## Exercise set 1.3\n",
    "\n",
    "### 3a\n",
    "\n",
    "The Maclaurin series for the arctangent function converges for $-1 < x \\le 1$ and is given by\n",
    "$$ \\arctan x = \\lim_{n \\to \\infty} P_n(x) = \\lim_{n \\to \\infty} \\sum_{i=1}^{n}(-1)^{i+1} \\frac{x^{2i-1}}{2i-1} $$\n",
    "\n",
    "Use the fact that $\\tan \\pi / 4 = 1$ to determine the number of $n$ terms of the series that need to be summed to ensure that $|4P_n(1) - \\pi| < 10^{-3}$.\n",
    "\n",
    "**solution**\n",
    "\n",
    "### 6a\n",
    "\n",
    "Find the rates of convergence of the following dequences as $n \\to \\infty$.\n",
    "\n",
    "$$\\lim_{n \\to \\infty} \\sin \\frac{1}{n} = 0$$\n",
    "\n",
    "**solution**"
   ]
  },
  {
   "cell_type": "code",
   "execution_count": 1,
   "id": "a2763f2e-275e-435f-9fee-812b08bc590d",
   "metadata": {},
   "outputs": [],
   "source": [
    "from IPython.display import display\n",
    "\n",
    "from sympy import *\n",
    "x, y, z = symbols('x y z')\n",
    "init_printing(use_unicode=True)"
   ]
  },
  {
   "cell_type": "code",
   "execution_count": 34,
   "id": "e804ec3e-ba78-45f2-b605-ef33fd04f042",
   "metadata": {},
   "outputs": [
    {
     "data": {
      "text/latex": [
       "$\\displaystyle -2.00263463252227$"
      ],
      "text/plain": [
       "-2.00263463252227"
      ]
     },
     "metadata": {},
     "output_type": "display_data"
    },
    {
     "data": {
      "text/latex": [
       "$\\displaystyle - 4 x^{3} - x^{2} + 6 x - 4$"
      ],
      "text/plain": [
       "     3    2          \n",
       "- 4⋅x  - x  + 6⋅x - 4"
      ]
     },
     "metadata": {},
     "output_type": "display_data"
    },
    {
     "data": {
      "text/latex": [
       "$\\displaystyle -2.016$"
      ],
      "text/plain": [
       "-2.01600000000000"
      ]
     },
     "metadata": {},
     "output_type": "display_data"
    },
    {
     "data": {
      "text/latex": [
       "$\\displaystyle \\frac{x^{4} \\cdot \\left(32 ξ{\\left(x \\right)} \\cos{\\left(2 ξ{\\left(x \\right)} \\right)} + 64 \\sin{\\left(2 ξ{\\left(x \\right)} \\right)}\\right)}{24}$"
      ],
      "text/plain": [
       " 4                                       \n",
       "x ⋅(32⋅ξ(x)⋅cos(2⋅ξ(x)) + 64⋅sin(2⋅ξ(x)))\n",
       "─────────────────────────────────────────\n",
       "                    24                   "
      ]
     },
     "metadata": {},
     "output_type": "display_data"
    },
    {
     "name": "stdout",
     "output_type": "stream",
     "text": [
      "--------------------------------------------------------------------------------\n"
     ]
    },
    {
     "data": {
      "text/latex": [
       "$\\displaystyle - 4 x^{3} - x^{2} + 6 x - 4$"
      ],
      "text/plain": [
       "     3    2          \n",
       "- 4⋅x  - x  + 6⋅x - 4"
      ]
     },
     "metadata": {},
     "output_type": "display_data"
    },
    {
     "data": {
      "text/latex": [
       "$\\displaystyle -2.016$"
      ],
      "text/plain": [
       "-2.01600000000000"
      ]
     },
     "metadata": {},
     "output_type": "display_data"
    },
    {
     "data": {
      "text/latex": [
       "$\\displaystyle \\frac{x^{5} \\left(- 64 ξ{\\left(x \\right)} \\sin{\\left(2 ξ{\\left(x \\right)} \\right)} + 160 \\cos{\\left(2 ξ{\\left(x \\right)} \\right)}\\right)}{120}$"
      ],
      "text/plain": [
       " 5                                         \n",
       "x ⋅(-64⋅ξ(x)⋅sin(2⋅ξ(x)) + 160⋅cos(2⋅ξ(x)))\n",
       "───────────────────────────────────────────\n",
       "                    120                    "
      ]
     },
     "metadata": {},
     "output_type": "display_data"
    }
   ],
   "source": [
    "f = 2*x*cos(2*x)-(x-2)**2\n",
    "# f = cos(x)\n",
    "\n",
    "def taylor(func, sym, n):\n",
    "    \"\"\"\n",
    "    Parameters\n",
    "    ----------\n",
    "    func\n",
    "        Sympy symbolic expression.\n",
    "    sym\n",
    "        Take the derivative with respect to `sym`.\n",
    "    n : int\n",
    "        The number of iterations to calculate.\n",
    "    \"\"\"\n",
    "    r = func.subs({x: 0})\n",
    "    for t in range(1, n+1):\n",
    "        r += diff(func, sym, t).subs({x: 0})*x**t/factorial(t)\n",
    "    err = diff(f, sym, n+1).subs({x: 'ξ(x)'})*x**(n+1)/factorial(n+1)\n",
    "    return r, err\n",
    "\n",
    "display(f.subs({x: 0.4}))\n",
    "sol, err = taylor(f, x, 3)\n",
    "display(sol)\n",
    "display(sol.subs({x: 0.4}))\n",
    "display(err)\n",
    "\n",
    "print('-'*80)\n",
    "\n",
    "sol, err = taylor(f, x, 4)\n",
    "display(sol)\n",
    "display(sol.subs({x: 0.4}))\n",
    "display(err)"
   ]
  },
  {
   "cell_type": "code",
   "execution_count": 39,
   "id": "7c94c589-808f-4292-ae72-a2663eaef73e",
   "metadata": {},
   "outputs": [
    {
     "data": {
      "text/latex": [
       "$\\displaystyle 0.1024$"
      ],
      "text/plain": [
       "0.1024"
      ]
     },
     "execution_count": 39,
     "metadata": {},
     "output_type": "execute_result"
    }
   ],
   "source": [
    "(0.4**4 * (32+64))/24"
   ]
  },
  {
   "cell_type": "code",
   "execution_count": 47,
   "id": "347cf5f1-a90b-4540-970d-7944543a153b",
   "metadata": {},
   "outputs": [
    {
     "data": {
      "text/latex": [
       "$\\displaystyle -50.2869787749816$"
      ],
      "text/plain": [
       "-50.2869787749816"
      ]
     },
     "metadata": {},
     "output_type": "display_data"
    },
    {
     "data": {
      "text/latex": [
       "$\\displaystyle -50.3$"
      ],
      "text/plain": [
       "-50.3"
      ]
     },
     "metadata": {},
     "output_type": "display_data"
    },
    {
     "data": {
      "text/latex": [
       "$\\displaystyle -4.14366714630059 \\cdot 10^{-5}$"
      ],
      "text/plain": [
       "-4.14366714630059e-5"
      ]
     },
     "execution_count": 47,
     "metadata": {},
     "output_type": "execute_result"
    }
   ],
   "source": [
    "# https://docs.sympy.org/latest/modules/evalf.html\n",
    "absolute = N(pi - 22/7/(1/17))\n",
    "three_dig = N(pi - 22/7/(1/17), 3)\n",
    "display(absolute)\n",
    "display(three_dig)\n",
    "\n",
    "(absolute - three_dig)/absolute\n"
   ]
  }
 ],
 "metadata": {
  "kernelspec": {
   "display_name": "Python 3 (ipykernel)",
   "language": "python",
   "name": "python3"
  },
  "language_info": {
   "codemirror_mode": {
    "name": "ipython",
    "version": 3
   },
   "file_extension": ".py",
   "mimetype": "text/x-python",
   "name": "python",
   "nbconvert_exporter": "python",
   "pygments_lexer": "ipython3",
   "version": "3.9.2"
  }
 },
 "nbformat": 4,
 "nbformat_minor": 5
}
