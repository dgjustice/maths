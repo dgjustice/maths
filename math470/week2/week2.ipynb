{
 "cells": [
  {
   "cell_type": "markdown",
   "id": "557c4d09-76b8-49ea-aa98-f80444745b08",
   "metadata": {},
   "source": [
    "# Homework\n",
    "\n",
    "## Exercise set 2.1\n",
    "\n",
    "### 6b\n",
    "\n",
    "Use the bisection method to find solutions, accurate to within $10^{-5}$ for the following problems.\n",
    "\n",
    "$2x + 3 \\cos x = e^x = 0$ for $0 \\le x \\le 1$\n",
    "\n",
    "### 10a\n",
    "\n",
    "Let $f(x) = (x + 2)(x + 1)^2 x(x-1)^3 (x-2)$. To which zero of $f$ does the Bisection method converge when applied on the following intervals?\n",
    "\n",
    "$[-1.5, 2.5]$\n",
    "\n",
    "### 16\n",
    "\n",
    "Let $f(x) = (x - 1)^{10}$, $p = 1$, and $p_n = 1 + 1/n$.  Show that $|f(p_n)| < 10^{-3}$ whenever $n>1$ but that $|p-p_n|<10^{-3}$ requires that $n > 1000$.\n",
    "\n",
    "### 20\n",
    "\n",
    "A particle starts at rest on a smooth inclined plane whose angle $\\theta$ is changing at a constant rate\n",
    "\n",
    "$$\\frac{d \\theta}{dt} = \\omega < 0$$\n",
    "\n",
    "At the end of $t$ seconds, the position of the object is given by\n",
    "\n",
    "$$x(t) = -\\frac{g}{2 \\omega^2} \\left( \\frac{e^{\\omega t} - e^{-\\omega t}}{2} - \\sin \\omega t \\right)$$\n",
    "\n",
    "Suppose the particle has moved 1.7 ft in 1 s.  Find, to within $10^{-5}$, the rate $\\omega$ at which $\\theta$ changes.  Assume that $g=32.17 ft/s^2$."
   ]
  },
  {
   "cell_type": "markdown",
   "id": "d70bf1a7-8e5e-4e76-9244-481b3905e86b",
   "metadata": {},
   "source": [
    "## Exercise set 2.2\n",
    "\n",
    "For each of the following equations, use the given interval or determine an intervale $[a, b]$ on which fixed-point iteration will converge.\n",
    "Estimate the number of iterations necessary to obtain approximations accurate to within $10^{-5}$, and perform the calculations.\n",
    "\n",
    "### 12a\n",
    "\n",
    "$$x=\\frac{2-e^x+x^2}{3}$$\n",
    "\n",
    "### 12d\n",
    "\n",
    "$$x=5^{-x}$$"
   ]
  },
  {
   "cell_type": "markdown",
   "id": "99e2b551-b5fa-4efd-86c0-bb1fc193cf3c",
   "metadata": {},
   "source": [
    "## Exercise set 2.3\n",
    "\n",
    "### 12a\n",
    "\n",
    "Use all three methods in this Section to find solutions to within $10^{-7}$ for the following problems.\n",
    "\n",
    "$x^2-4x+4-\\ln x = 0$ for $1 \\le x \\le 2$ and for $2 \\le x \\le 4$\n",
    "\n",
    "### 20a\n",
    "\n",
    "The equation $x^2-10 \\cos x = 0$ has two solutions, $\\pm 1.3793646$.\n",
    "Use Newton's method to approximate the solutions to within $10^{-5}$ with the following values of $p_0$.\n",
    "\n",
    "$p_0 = -100$\n",
    "\n",
    "### 28\n",
    "\n",
    "A drug administered to a patient produces a concentration in the blood stream given by $c(t) = Ate^{-t/3}$ milligrams per milliliter, $t$ hours after $A$ units have been injected.\n",
    "The maximum safe concentration is 1 mg/mL.\n",
    "\n",
    "#### a\n",
    "\n",
    "What amount should be injected to reach this maximum safe concentration, and when does this maximum occur?\n",
    "\n",
    "#### b\n",
    "An additional amount of this drug is to be administered to the patient after the concentration falls to 0.25 mg/mL.\n",
    "Determine, to the nearest minute, when this second injection should be given.\n",
    "\n",
    "#### c\n",
    "\n",
    "Assume that the concentration from consecutive injections is additive and that 75% of the amount originally injected is administered in the second injection.\n",
    "When is it time for the third injection?\n"
   ]
  },
  {
   "cell_type": "markdown",
   "id": "d1d0d02c-1c0a-434a-a35d-5e105b63e2fa",
   "metadata": {},
   "source": [
    "## Exercise set 2.4\n",
    "\n",
    "### 6a\n",
    "\n",
    "Show that the following sequences converge linearly to $p=0$.\n",
    "How large must $n$ be before $|p_n-p| \\le 5 \\times 10^{-2}$?\n",
    "\n",
    "### 10\n",
    "\n",
    "Suppose $p$ is a zero of multiplicity $m$ of $f$, where $f^{(m)}$ is continuous on an open interval containing $p$.\n",
    "Show that the following fixed-point method has $g'(p)=0$:\n",
    "\n",
    "$$g(x) = x - \\frac{mf(x)}{f'(x)}$$\n"
   ]
  },
  {
   "cell_type": "markdown",
   "id": "1d33d733-f144-4617-8049-6ce9e610e329",
   "metadata": {},
   "source": [
    "## Exercise set 2.5\n",
    "\n",
    "### 2\n",
    "\n",
    "Consider the function $f(x)=e^{6x} + 3(\\ln 2)^2 e^{2x} - (\\ln 8) e^{4x} - (\\ln 2)^3$.\n",
    "Use Newton's method with $p_0=0$ to approximate a zero of $f$.\n",
    "Generate terms until $|p_{n+1}-p_n| < 0.0002$.\n",
    "Construct the sequence $\\{\\hat{p}_n\\}$.\n",
    "Is the convergence improved?\n"
   ]
  }
 ],
 "metadata": {
  "kernelspec": {
   "display_name": "Python 3 (ipykernel)",
   "language": "python",
   "name": "python3"
  },
  "language_info": {
   "codemirror_mode": {
    "name": "ipython",
    "version": 3
   },
   "file_extension": ".py",
   "mimetype": "text/x-python",
   "name": "python",
   "nbconvert_exporter": "python",
   "pygments_lexer": "ipython3",
   "version": "3.9.2"
  }
 },
 "nbformat": 4,
 "nbformat_minor": 5
}
