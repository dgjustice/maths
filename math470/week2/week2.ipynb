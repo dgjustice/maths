{
 "cells": [
  {
   "cell_type": "markdown",
   "id": "557c4d09-76b8-49ea-aa98-f80444745b08",
   "metadata": {},
   "source": [
    "# Homework\n",
    "\n",
    "## Exercise set 2.1\n",
    "\n",
    "### 6b\n",
    "\n",
    "Use the bisection method to find solutions, accurate to within $10^{-5}$ for the following problems.\n",
    "\n",
    "$2x + 3 \\cos x = e^x = 0$ for $0 \\le x \\le 1$\n",
    "\n",
    "### 10a\n",
    "\n",
    "Let $f(x) = (x + 2)(x + 1)^2 x(x-1)^3 (x-2)$. To which zero of $f$ does the Bisection method converge when applied on the following intervals?\n",
    "\n",
    "$[-1.5, 2.5]$\n",
    "\n",
    "### 16\n",
    "\n",
    "Let $f(x) = (x - 1)^{10}$, $p = 1$, and $p_n = 1 + 1/n$.  Show that $|f(p_n)| < 10^{-3}$ whenever $n>1$ but that $|p-p_n|<10^{-3}$ requires that $n > 1000$.\n",
    "\n",
    "### 20\n",
    "\n",
    "A particle starts at rest on a smooth inclined plane whose angle $\\theta$ is changing at a constant rate\n",
    "\n",
    "$$\\frac{d \\theta}{dt} = \\omega < 0$$\n",
    "\n",
    "At the end of $t$ seconds, the position of the object is given by\n",
    "\n",
    "$$x(t) = -\\frac{g}{2 \\omega^2} \\left( \\frac{e^{\\omega t} - e^{-\\omega t}}{2} - \\sin \\omega t \\right)$$\n",
    "\n",
    "Suppose the particle has moved 1.7 ft in 1 s.  Find, to within $10^{-5}$, the rate $\\omega$ at which $\\theta$ changes.  Assume that $g=32.17 ft/s^2$."
   ]
  },
  {
   "cell_type": "markdown",
   "id": "d70bf1a7-8e5e-4e76-9244-481b3905e86b",
   "metadata": {},
   "source": [
    "## Exercise set 2.2\n",
    "\n",
    "### 12a\n",
    "\n",
    "### 12d\n"
   ]
  },
  {
   "cell_type": "markdown",
   "id": "99e2b551-b5fa-4efd-86c0-bb1fc193cf3c",
   "metadata": {},
   "source": [
    "## Exercise set 2.3\n",
    "\n",
    "### 12a\n",
    "\n",
    "### 20a\n",
    "\n",
    "### 28\n"
   ]
  },
  {
   "cell_type": "markdown",
   "id": "d1d0d02c-1c0a-434a-a35d-5e105b63e2fa",
   "metadata": {},
   "source": [
    "## Exercise set 2.4\n",
    "\n",
    "### 6a\n",
    "\n",
    "### 10\n",
    "\n"
   ]
  },
  {
   "cell_type": "markdown",
   "id": "1d33d733-f144-4617-8049-6ce9e610e329",
   "metadata": {},
   "source": [
    "## Exercise set 2.5\n",
    "\n",
    "### 2\n"
   ]
  }
 ],
 "metadata": {
  "kernelspec": {
   "display_name": "Python 3 (ipykernel)",
   "language": "python",
   "name": "python3"
  },
  "language_info": {
   "codemirror_mode": {
    "name": "ipython",
    "version": 3
   },
   "file_extension": ".py",
   "mimetype": "text/x-python",
   "name": "python",
   "nbconvert_exporter": "python",
   "pygments_lexer": "ipython3",
   "version": "3.9.2"
  }
 },
 "nbformat": 4,
 "nbformat_minor": 5
}
