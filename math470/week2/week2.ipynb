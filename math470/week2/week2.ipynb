{
 "cells": [
  {
   "cell_type": "code",
   "execution_count": 22,
   "id": "5e9093d1-253f-4703-b1b5-ddcd6ae6426e",
   "metadata": {},
   "outputs": [],
   "source": [
    "from IPython.display import display\n",
    "\n",
    "from sympy import *\n",
    "x, y, z = symbols('x y z')\n",
    "init_printing(use_unicode=True)"
   ]
  },
  {
   "cell_type": "code",
   "execution_count": 23,
   "id": "406929b8-ac34-4a9e-af0c-9e983d12ee5c",
   "metadata": {},
   "outputs": [],
   "source": [
    "MAX_ITERS = 1000\n",
    "\n",
    "class MaxIterationsError(Exception):\n",
    "    \"\"\"Function has exceeded the maximum configured iterations.\"\"\"\n",
    "    pass\n",
    "\n",
    "\n",
    "# ALGORITHM 2.1\n",
    "def bisect_approx(func, a: float, b: float, tol: float):\n",
    "    \"\"\"\n",
    "    Parameters\n",
    "    ----------\n",
    "    func\n",
    "        Sympy symbolic expression.\n",
    "    a, b : float\n",
    "        Endpoints above and below a zero of func.\n",
    "    tol : float\n",
    "        Desired tolerance.\n",
    "        \n",
    "    TODO: even if tol reached, might not be a zero\n",
    "    \"\"\"\n",
    "    i = 1\n",
    "    fa = func.subs({x: a})\n",
    "    while i <= MAX_ITERS:\n",
    "        p = a + (b - a) / 2\n",
    "        fp = N(func.subs({x: p}))\n",
    "        if fp == 0 or (b - a) / 2 < tol:\n",
    "            return p\n",
    "        i += 1\n",
    "        if fa * fp > 0:\n",
    "            a = p\n",
    "            fa = fp\n",
    "        else:\n",
    "            b = p\n",
    "    raise MaxIterationsError"
   ]
  },
  {
   "cell_type": "markdown",
   "id": "557c4d09-76b8-49ea-aa98-f80444745b08",
   "metadata": {},
   "source": [
    "# Homework\n",
    "\n",
    "## Exercise set 2.1\n",
    "\n",
    "### 6b\n",
    "\n",
    "Use the bisection method to find solutions, accurate to within $10^{-5}$ for the following problems.\n",
    "\n",
    "$2x + 3 \\cos x - e^x = 0$ for $0 \\le x \\le 1$\n",
    "\n",
    "**solution**\n",
    "\n",
    "¯\\\\_(ツ)_/¯ there is no zero on this interval"
   ]
  },
  {
   "cell_type": "code",
   "execution_count": 24,
   "id": "ec5f7e9d-52c6-49a5-b998-094fb23af8b8",
   "metadata": {},
   "outputs": [
    {
     "name": "stdout",
     "output_type": "stream",
     "text": [
      "#6b 0.99993896484375 0.902822999445757\n"
     ]
    }
   ],
   "source": [
    "# 2.1, 6b\n",
    "f = 2*x + 3 * cos(x) - exp(x) # for 0 <= x <= 1\n",
    "v = bisect_approx(f, 0, 1, 10e-5)\n",
    "print('#6b', v, f.subs({x: v}))"
   ]
  },
  {
   "cell_type": "markdown",
   "id": "95468fcf-f925-4d91-9959-a5edc243d5fa",
   "metadata": {},
   "source": [
    "### 10a\n",
    "\n",
    "Let $f(x) = (x + 2)(x + 1)^2 x(x-1)^3 (x-2)$. To which zero of $f$ does the Bisection method converge when applied on the following intervals?\n",
    "\n",
    "$[-1.5, 2.5]$\n",
    "\n",
    "**solution**\n",
    "\n",
    "$x=0$"
   ]
  },
  {
   "cell_type": "code",
   "execution_count": 25,
   "id": "c9b9e2ef-093a-458f-b30e-a234e84ba3a1",
   "metadata": {},
   "outputs": [
    {
     "name": "stdout",
     "output_type": "stream",
     "text": [
      "#10a 0.0 0\n"
     ]
    }
   ],
   "source": [
    "# 2.1, 10a\n",
    "f = (x + 2) * (x + 1)**2 * x * (x - 1)**3 * (x - 2)\n",
    "v = bisect_approx(f, -1.5, 2.5, 10e-5)\n",
    "print('#10a', v, f.subs({x: v}))"
   ]
  },
  {
   "cell_type": "markdown",
   "id": "53b89c5e-1f3b-4ad9-a335-0a243a43b5de",
   "metadata": {},
   "source": [
    "### 16\n",
    "\n",
    "Let $f(x) = (x - 1)^{10}$, $p = 1$, and $p_n = 1 + 1/n$.  Show that $|f(p_n)| < 10^{-3}$ whenever $n>1$ but that $|p-p_n|<10^{-3}$ requires that $n > 1000$.\n",
    "\n",
    "**solution**\n",
    "\n",
    "Assuming $n$ is an integer: $p_2 = 1 + 1/2 = 3/2$, $f(3/2) = (1/2)^{10} < 10^{-3}$\n",
    "\n",
    "$n = 1000, |p - p_n| = |1 - 1 + 1/1000| = 1/1000 = 10^{-3}$, so $n$ must be > 1000 for $|p - p_n| < 10^{-3}$."
   ]
  },
  {
   "cell_type": "code",
   "execution_count": 26,
   "id": "feb1c07f-ec62-41e0-8abe-5c8d62b74fcb",
   "metadata": {},
   "outputs": [
    {
     "name": "stdout",
     "output_type": "stream",
     "text": [
      "#16 0.000976562500000000\n"
     ]
    }
   ],
   "source": [
    "# 2.1, 16\n",
    "\n",
    "f = (x - 1)**10\n",
    "p_n = lambda n: 1 + 1 / n\n",
    "print('#16', abs(f.subs({x: p_n(2)})))"
   ]
  },
  {
   "cell_type": "markdown",
   "id": "922f5cc3-3580-4b0f-9887-5bf1934b72f7",
   "metadata": {},
   "source": [
    "### 20\n",
    "\n",
    "A particle starts at rest on a smooth inclined plane whose angle $\\theta$ is changing at a constant rate\n",
    "\n",
    "$$\\frac{d \\theta}{dt} = \\omega < 0$$\n",
    "\n",
    "At the end of $t$ seconds, the position of the object is given by\n",
    "\n",
    "$$x(t) = -\\frac{g}{2 \\omega^2} \\left( \\frac{e^{\\omega t} - e^{-\\omega t}}{2} - \\sin \\omega t \\right)$$\n",
    "\n",
    "Suppose the particle has moved 1.7 ft in 1 s.  Find, to within $10^{-5}$, the rate $\\omega$ at which $\\theta$ changes.  Assume that $g=32.17 ft/s^2$.\n",
    "\n",
    "**solution**\n",
    "\n",
    "$\\omega = -0.31708$"
   ]
  },
  {
   "cell_type": "code",
   "execution_count": 27,
   "id": "799cadd6-856d-4360-9e14-86accb6bbdbf",
   "metadata": {},
   "outputs": [
    {
     "name": "stdout",
     "output_type": "stream",
     "text": [
      "#20 -0.31707763671875 8.50528793492344e-5\n"
     ]
    }
   ],
   "source": [
    "# 2.1, 20\n",
    "f = -32.17 / (2 * x**2) * ((exp(x) - exp(-x))/2 - sin(x)) - 1.7\n",
    "v = bisect_approx(f, -1, 0, 10e-5)\n",
    "print('#20', v, f.subs({x: v}))"
   ]
  },
  {
   "cell_type": "code",
   "execution_count": 28,
   "id": "ba4a96ae-e74c-499c-8149-5612c094e526",
   "metadata": {},
   "outputs": [],
   "source": [
    "# ALGORITHM 2.2\n",
    "\n",
    "def fixed_point_approx(func, p_0, tol):\n",
    "    \"\"\"\n",
    "    Parameters\n",
    "    ----------\n",
    "    func\n",
    "        Sympy symbolic expression.\n",
    "    p_0 : float\n",
    "        Initial estimate.\n",
    "    tol : float\n",
    "        Desired tolerance.\n",
    "    \"\"\"\n",
    "    i = 1\n",
    "    while i <= MAX_ITERS:\n",
    "        p = N(func.subs({x: p_0}))\n",
    "        if abs(p - p_0) < tol:\n",
    "            print(i)\n",
    "            return p\n",
    "        i += 1\n",
    "        p_0 = p\n",
    "    raise MaxIterationsError"
   ]
  },
  {
   "cell_type": "markdown",
   "id": "d70bf1a7-8e5e-4e76-9244-481b3905e86b",
   "metadata": {},
   "source": [
    "## Exercise set 2.2\n",
    "\n",
    "For each of the following equations, use the given interval or determine an interval $[a, b]$ on which fixed-point iteration will converge.\n",
    "Estimate the number of iterations necessary to obtain approximations accurate to within $10^{-5}$, and perform the calculations.\n",
    "\n",
    "### 12a\n",
    "\n",
    "$$2 + \\sin x-x=0, \\text{ use }[2, 3]$$\n",
    "\n",
    "**solution**\n",
    "\n",
    "118 iterations, $p=1.49865$."
   ]
  },
  {
   "cell_type": "code",
   "execution_count": 29,
   "id": "d100e6f7-784a-4537-b91e-6d65f94add6d",
   "metadata": {},
   "outputs": [
    {
     "name": "stdout",
     "output_type": "stream",
     "text": [
      "118\n",
      "1.49865319188876 1.49874562063312\n"
     ]
    }
   ],
   "source": [
    "# 2.2, 12a\n",
    "f = 2 + sin(x) - x\n",
    "v = fixed_point_approx(f, 1, 10e-5)\n",
    "print(v, f.subs({x: v}))"
   ]
  },
  {
   "cell_type": "markdown",
   "id": "36662158-ef80-4170-880f-00198c798ed7",
   "metadata": {},
   "source": [
    "### 12d\n",
    "\n",
    "$$x - \\cos x = 0$$\n",
    "\n",
    "**solution**\n",
    "\n",
    "Use interval $[0, 1]$.\n",
    "\n",
    "6 iterations, $p=-1.57080$."
   ]
  },
  {
   "cell_type": "code",
   "execution_count": 30,
   "id": "b76fe049-a7a6-4236-ab2d-de4094c1758d",
   "metadata": {},
   "outputs": [
    {
     "name": "stdout",
     "output_type": "stream",
     "text": [
      "6\n",
      "-1.57079632679490 -1.57079632679490\n"
     ]
    }
   ],
   "source": [
    "# 2.2, 12d\n",
    "f = x - cos(x)\n",
    "v = fixed_point_approx(f, 1, 10e-5)\n",
    "print(v, f.subs({x: v}))"
   ]
  },
  {
   "cell_type": "code",
   "execution_count": 31,
   "id": "817cb866-9f45-4368-b7cc-3de608ea87ee",
   "metadata": {},
   "outputs": [],
   "source": [
    "# ALGORITHM 2.3\n",
    "def newton_approx(func, p_0, tol):\n",
    "    \"\"\"\n",
    "    Parameters\n",
    "    ----------\n",
    "    func\n",
    "        Sympy symbolic expression.\n",
    "    p_0 : float\n",
    "        Initial estimate.\n",
    "    tol : float\n",
    "        Desired tolerance.\n",
    "    \"\"\"\n",
    "    i = 1\n",
    "    while i <= MAX_ITERS:\n",
    "        p = N(p_0 - f.subs({x: p_0}) / diff(f, x, 1).subs({x: p_0}))\n",
    "        if abs(p - p_0) < tol:\n",
    "            print(i)\n",
    "            return p\n",
    "        i += 1\n",
    "        p_0 = p\n",
    "    raise MaxIterationsError        \n",
    "\n",
    "    \n",
    "# ALGORITHM 2.4\n",
    "def secant_approx(func, p_0, p_1, tol):\n",
    "    \"\"\"\n",
    "    Parameters\n",
    "    ----------\n",
    "    func\n",
    "        Sympy symbolic expression.\n",
    "    p_0, p_1 : float\n",
    "        Initial estimates.\n",
    "    tol : float\n",
    "        Desired tolerance.\n",
    "    \"\"\"\n",
    "    i = 2\n",
    "    q_0 = N(f.subs({x: p_0}))\n",
    "    q_1 = N(f.subs({x: p_1}))\n",
    "    while i <= MAX_ITERS:\n",
    "        p = p_1 - q_1 * (p_1 - p_0) / (q_1 - q_0)\n",
    "        if abs(p - p_1) < tol:\n",
    "            print(i)\n",
    "            return p\n",
    "        i += 1\n",
    "        p_0 = p_1\n",
    "        q_0 = q_1\n",
    "        p_1 = p\n",
    "        q_1 = N(f.subs({x: p}))\n",
    "    raise MaxIterationsError\n",
    "\n",
    "\n",
    "# ALGORITHM 2.5\n",
    "def false_pos_approx(func, p_0, p_1, tol):\n",
    "    \"\"\"\n",
    "    Parameters\n",
    "    ----------\n",
    "    func\n",
    "        Sympy symbolic expression.\n",
    "    p_0, p_1 : float\n",
    "        Initial estimate.\n",
    "    tol : float\n",
    "        Desired tolerance.\n",
    "    \"\"\"\n",
    "    i = 2\n",
    "    q_0 = N(f.subs({x: p_0}))\n",
    "    q_1 = N(f.subs({x: p_1}))\n",
    "    while i <= MAX_ITERS:\n",
    "        p = p_1 - q_1 * (p_1 - p_0) / (q_1 - q_0)\n",
    "        if abs(p - p_1) < tol:\n",
    "            print(i)\n",
    "            return p\n",
    "        i += 1\n",
    "        q = N(f.subs({x: p}))\n",
    "        if q * q_1 < 0:\n",
    "            p_0 = p_1\n",
    "            q_0 = q_1\n",
    "        p_1 = p\n",
    "        q_1 = q\n",
    "    raise MaxIterationsError"
   ]
  },
  {
   "cell_type": "markdown",
   "id": "99e2b551-b5fa-4efd-86c0-bb1fc193cf3c",
   "metadata": {},
   "source": [
    "## Exercise set 2.3\n",
    "\n",
    "### 12a\n",
    "\n",
    "Use all three methods in this Section to find solutions to within $10^{-7}$ for the following problems.\n",
    "\n",
    "$x^2-4x+4-\\ln x = 0$ for $1 \\le x \\le 2$ and for $2 \\le x \\le 4$\n",
    "\n",
    "**solution**\n",
    "\n",
    "$p=1.4123912, p=3.0571035$"
   ]
  },
  {
   "cell_type": "code",
   "execution_count": 32,
   "id": "20fa4511-d00d-4fe7-9ceb-545666552596",
   "metadata": {},
   "outputs": [
    {
     "name": "stdout",
     "output_type": "stream",
     "text": [
      "4\n",
      "#12a 1.41239117202388\n",
      "4\n",
      "#12a 3.05710354999474\n",
      "8\n",
      "#12a 1.41239117202398\n",
      "9\n",
      "#12a 3.05710354991754\n",
      "11\n",
      "#12a 1.41239144591295\n",
      "16\n",
      "#12a 3.05710302172176\n"
     ]
    }
   ],
   "source": [
    "# 2.3, 12a\n",
    "\n",
    "f = x**2 - 4 * x + 4 - ln(x)\n",
    "print('#12a', newton_approx(f, 1.5, 10e-7))\n",
    "print('#12a', newton_approx(f, 3, 10e-7))\n",
    "\n",
    "print('#12a', secant_approx(f, 1, 2, 10e-7))\n",
    "print('#12a', secant_approx(f, 2, 4, 10e-7))\n",
    "\n",
    "print('#12a', false_pos_approx(f, 1, 2, 10e-7))\n",
    "print('#12a', false_pos_approx(f, 2, 4, 10e-7))"
   ]
  },
  {
   "cell_type": "markdown",
   "id": "8be7a5fc-1ee3-437e-b3d4-866bf4fbc6e7",
   "metadata": {},
   "source": [
    "### 20a\n",
    "\n",
    "The equation $x^2-10 \\cos x = 0$ has two solutions, $\\pm 1.3793646$.\n",
    "Use Newton's method to approximate the solutions to within $10^{-5}$ with the following values of $p_0$.\n",
    "\n",
    "$p_0 = -100$\n",
    "\n",
    "**solution**\n",
    "\n",
    "$p=-1.37936$"
   ]
  },
  {
   "cell_type": "code",
   "execution_count": 33,
   "id": "08f69ae0-9223-4088-8d2b-5b4bf5564f6e",
   "metadata": {},
   "outputs": [
    {
     "name": "stdout",
     "output_type": "stream",
     "text": [
      "8\n",
      "#20a -1.37936459422703\n"
     ]
    }
   ],
   "source": [
    "# 2.3, 20a\n",
    "\n",
    "f = x**2 - 10 * cos(x)\n",
    "print('#20a', newton_approx(f, -100, 10e-5))"
   ]
  },
  {
   "cell_type": "markdown",
   "id": "b630804c-c933-4f37-be19-613f7abc7ff0",
   "metadata": {},
   "source": [
    "### 28\n",
    "\n",
    "A drug administered to a patient produces a concentration in the blood stream given by $c(t) = Ate^{-t/3}$ milligrams per milliliter, $t$ hours after $A$ units have been injected.\n",
    "The maximum safe concentration is 1 mg/mL.\n",
    "\n",
    "#### a\n",
    "\n",
    "What amount should be injected to reach this maximum safe concentration, and when does this maximum occur?\n",
    "\n",
    "**solution**\n",
    "\n",
    "0.90609 units, maximum c occurs at t=3."
   ]
  },
  {
   "cell_type": "code",
   "execution_count": 34,
   "id": "1d5a7653-57f9-4ed7-bd68-62054cd4daec",
   "metadata": {},
   "outputs": [
    {
     "name": "stdout",
     "output_type": "stream",
     "text": [
      "2\n",
      "#28 A: 0.906093942819682\n"
     ]
    }
   ],
   "source": [
    "# 2.3, 28\n",
    "# max occurs at t = 3 regardless of other params\n",
    "f = x * 3 * exp(-1) - 1\n",
    "A = newton_approx(f, 1, 10e-5)\n",
    "print('#28 A:', A)"
   ]
  },
  {
   "cell_type": "markdown",
   "id": "8163e580-3711-42ea-b08b-19b7ef038609",
   "metadata": {},
   "source": [
    "#### b\n",
    "An additional amount of this drug is to be administered to the patient after the concentration falls to 0.25 mg/mL.\n",
    "Determine, to the nearest minute, when this second injection should be given.\n",
    "\n",
    "**solution**\n",
    "\n",
    "11 hours, 5 minutes"
   ]
  },
  {
   "cell_type": "code",
   "execution_count": 35,
   "id": "d85cff25-c763-4eb8-b986-04ceccdac84b",
   "metadata": {},
   "outputs": [
    {
     "name": "stdout",
     "output_type": "stream",
     "text": [
      "4\n",
      "#28 t: 11.0779035866691\n"
     ]
    }
   ],
   "source": [
    "f = A * x * exp(-1 * x / 3) - 0.25\n",
    "t = newton_approx(f, 10, 10e-5)\n",
    "print('#28 t:', t)"
   ]
  },
  {
   "cell_type": "markdown",
   "id": "9da17b88-6669-4d2a-a6cf-1c35dcd0a045",
   "metadata": {},
   "source": [
    "#### c\n",
    "\n",
    "Assume that the concentration from consecutive injections is additive and that 75% of the amount originally injected is administered in the second injection.\n",
    "When is it time for the third injection?\n",
    "\n",
    "**solution**\n",
    "\n",
    "0.67957 units"
   ]
  },
  {
   "cell_type": "code",
   "execution_count": 36,
   "id": "83cdc02f-f7ef-44d2-8278-1b25beda8a52",
   "metadata": {},
   "outputs": [
    {
     "name": "stdout",
     "output_type": "stream",
     "text": [
      "2\n",
      "#28 A_2: 0.679570457114761\n"
     ]
    }
   ],
   "source": [
    "f = x * 3 * exp(-1) - 0.75\n",
    "A = newton_approx(f, 1, 10e-5)\n",
    "print('#28 A_2:', A)"
   ]
  },
  {
   "cell_type": "markdown",
   "id": "d1d0d02c-1c0a-434a-a35d-5e105b63e2fa",
   "metadata": {},
   "source": [
    "## Exercise set 2.4\n",
    "\n",
    "### 6a\n",
    "\n",
    "Show that the following sequences converge linearly to $p=0$.\n",
    "How large must $n$ be before $|p_n-p| \\le 5 \\times 10^{-2}$?\n",
    "\n",
    "$p_n=\\frac{1}{n}, n \\ge 1$\n",
    "\n",
    "**solution**\n",
    "\n",
    "$$\\begin{aligned}\n",
    "\\lim{n \\to \\infty} \\frac{1}{n} = 0 \\\\\n",
    "\\bigg|0 - \\frac{1}{20}\\bigg| \\le 5 \\times 10^{-2} \\\\\n",
    "n = 20 \\\\\n",
    "\\end{aligned}$$\n",
    "\n",
    "### 10\n",
    "\n",
    "Suppose $p$ is a zero of multiplicity $m$ of $f$, where $f^{(m)}$ is continuous on an open interval containing $p$.\n",
    "Show that the following fixed-point method has $g'(p)=0$:\n",
    "\n",
    "$$g(x) = x - \\frac{mf(x)}{f'(x)}$$\n",
    "\n",
    "**solution**\n",
    "\n",
    "$$\\begin{aligned}\n",
    "g(p) = p - \\frac{mf(p)}{f'(p)} \\\\\n",
    "\\text{If }m > 0, f(p)=0, g(p) = p - \\frac{0}{f'(p)} \\\\\n",
    "g(p) = p \\\\\n",
    "g'(p) = 0 \\text{ because }p \\text{ is a constant} \\\\\n",
    "\\end{aligned}$$"
   ]
  },
  {
   "cell_type": "code",
   "execution_count": 37,
   "id": "17dfcf80-a822-48fe-959d-9d374f2483e0",
   "metadata": {},
   "outputs": [],
   "source": [
    "# ALGORITHM 2.6\n",
    "def steffensen_approx(func, p_0, tol):\n",
    "    \"\"\"\n",
    "    Parameters\n",
    "    ----------\n",
    "    func\n",
    "        Sympy symbolic expression.\n",
    "    p_0 : float\n",
    "        Initial estimate.\n",
    "    tol : float\n",
    "        Desired tolerance.\n",
    "    \"\"\"\n",
    "    i = 1\n",
    "    while i <= MAX_ITERS:\n",
    "        p_1 = N(f.subs({x: p_0}))\n",
    "        p_2 = N(f.subs({x: p_1}))\n",
    "        p = p_0 - (p_1 - p_0)**2 / (p_2 - 2 * p_1 + p_0)\n",
    "        if abs(p - p_0) < tol:\n",
    "            print(i)\n",
    "            return p\n",
    "        i += 1\n",
    "        p_0 = p\n",
    "    raise MaxIterationsError   "
   ]
  },
  {
   "cell_type": "markdown",
   "id": "1d33d733-f144-4617-8049-6ce9e610e329",
   "metadata": {},
   "source": [
    "## Exercise set 2.5\n",
    "\n",
    "### 2\n",
    "\n",
    "Consider the function $f(x)=e^{6x} + 3(\\ln 2)^2 e^{2x} - (\\ln 8) e^{4x} - (\\ln 2)^3$.\n",
    "Use Newton's method with $p_0=0$ to approximate a zero of $f$.\n",
    "Generate terms until $|p_{n+1}-p_n| < 0.0002$.\n",
    "Construct the sequence $\\{\\hat{p}_n\\}$.\n",
    "Is the convergence improved?\n",
    "\n",
    "**solution**\n",
    "\n",
    "$p=-0.1828$.  Convergence isn't improved (16 iterations each), but that may be an implementation error on my part."
   ]
  },
  {
   "cell_type": "code",
   "execution_count": 38,
   "id": "8f312e86-b44b-4c1c-8342-d40d195f5f9e",
   "metadata": {},
   "outputs": [
    {
     "name": "stdout",
     "output_type": "stream",
     "text": [
      "16\n",
      "#2 -0.182888275193836 1.33120459671281e-10\n",
      "16\n",
      "#2b -0.182977713382273 -0.182977713468980\n"
     ]
    }
   ],
   "source": [
    "# 2.5, 2\n",
    "f = exp(6 * x) + 3 * (ln(2))**2 * exp(2 * x) - (ln(8)) * exp(4 * x) - (ln(2))**3\n",
    "p = newton_approx(f, 0, 2e-4)\n",
    "print('#2', p, N(f.subs({x: p})))\n",
    "\n",
    "\n",
    "f = ln((ln(2)**3) / (exp(4 * x) + 3 * (ln(2))**2 - (ln(8)) * exp(2 * x))) / 2\n",
    "p = steffensen_approx(f, 0, 2e-4)\n",
    "print('#2b', p, N(f.subs({x: p})))"
   ]
  }
 ],
 "metadata": {
  "kernelspec": {
   "display_name": "Python 3 (ipykernel)",
   "language": "python",
   "name": "python3"
  },
  "language_info": {
   "codemirror_mode": {
    "name": "ipython",
    "version": 3
   },
   "file_extension": ".py",
   "mimetype": "text/x-python",
   "name": "python",
   "nbconvert_exporter": "python",
   "pygments_lexer": "ipython3",
   "version": "3.9.2"
  }
 },
 "nbformat": 4,
 "nbformat_minor": 5
}
