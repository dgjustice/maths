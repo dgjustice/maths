{
 "cells": [
  {
   "cell_type": "code",
   "execution_count": 1,
   "id": "020d6469-4c90-4127-8c82-cf19bc71aa70",
   "metadata": {},
   "outputs": [],
   "source": [
    "from IPython.display import display\n",
    "\n",
    "from sympy import *\n",
    "x, y, z = symbols('x y z')\n",
    "init_printing(use_unicode=True)"
   ]
  },
  {
   "cell_type": "code",
   "execution_count": 2,
   "id": "1fd557ca-3cf6-4437-a8e5-5fed48c21b16",
   "metadata": {},
   "outputs": [],
   "source": [
    "# No algorithm provided, I wrote this from the steps in the text\n",
    "def lagrange_interpolate(\n",
    "    vals: (list[float], list[float]),\n",
    "    n: int,\n",
    "    target: float,\n",
    ") -> float:\n",
    "    \"\"\"\n",
    "    TODO! Prioritize points closest to target\n",
    "    \n",
    "    Parameters\n",
    "    ----------\n",
    "    vals : (list[float], list[float])\n",
    "        x, y values\n",
    "    n : int\n",
    "        L_n Lagrange interpolation to find.\n",
    "    target : float\n",
    "        Target x to calculate.\n",
    "    \"\"\"\n",
    "    sol = 0\n",
    "    xs, ys = vals\n",
    "    for i in range(n+1):\n",
    "        inter = 1\n",
    "        for k in range(n+1):\n",
    "            if k == i:\n",
    "                continue\n",
    "            inter *=  (target - xs[k])/(xs[i] - xs[k])\n",
    "        sol += ys[i] * inter\n",
    "    return sol"
   ]
  },
  {
   "cell_type": "markdown",
   "id": "bb2f302d-aa09-4fe5-8b25-712afa2176e8",
   "metadata": {},
   "source": [
    "# Homework\n",
    "\n",
    "## Exercise set 3.1\n",
    "\n",
    "### 6b\n",
    "\n",
    "Use appropriate Lagrange interpolating polynomials of degrees one, two, and three to approximate each of the following:\n",
    "\n",
    "$f(0)$ if $f(-0.5)=1.93750, f(-0.25) = 1.33203, f(0.25) = 0.800781, f(0.5) = 0.687500$\n",
    "\n",
    "**solution**\n",
    "\n",
    "```console\n",
    "L_0 0.7265600000000001\n",
    "L_1 0.9531236666666667\n",
    "L_2 0.984374\n",
    "```"
   ]
  },
  {
   "cell_type": "code",
   "execution_count": 3,
   "id": "75a6d4d6-5994-4d33-9c22-a5333aecfdc6",
   "metadata": {},
   "outputs": [
    {
     "name": "stdout",
     "output_type": "stream",
     "text": [
      "L_0 0.7265600000000001\n",
      "L_1 0.9531236666666667\n",
      "L_2 0.984374\n"
     ]
    }
   ],
   "source": [
    "# 3.1, 6b\n",
    "vals = (\n",
    "    [-0.5, -0.25, 0.25, 0.5],\n",
    "    [1.93750, 1.33203, 0.800781, 0.687500],\n",
    ")\n",
    "\n",
    "for i in range(3):\n",
    "    print(\n",
    "        'L_{}'.format(i),\n",
    "        lagrange_interpolate(vals, i + 1, 0),\n",
    "    )"
   ]
  },
  {
   "cell_type": "markdown",
   "id": "a9cda56d-1331-4a27-9adf-2af9b87a6b74",
   "metadata": {},
   "source": [
    "### 8b\n",
    "\n",
    "The data for Exercise 6 were generated using the following functions.\n",
    "Use the error forumla to find a bound for the error, and compare the bound to the actual error for the cases $n=1$ and $n=2$.\n",
    "\n",
    "$f(x)=x^4-x^3+x^2-x+1$\n",
    "\n",
    "**solution**\n",
    "\n",
    "$$\\begin{align}\n",
    "f^1(x)= 4x^3 + 3x^2 + 2x - 1 \\\\\n",
    "f^2(x)= 12x^2 + 6x + 2\\\\\n",
    "f^3(x)= 24x + 6 \\\\\n",
    "f^4(x) = 24 \\\\\n",
    "\\end{align}$$\n",
    "\n",
    "error form: $$\\frac{24+6}{3!}(x+0.5)(x-0.25)(x-0.5)$$\n",
    "\n",
    "absolute error $n=1, 0.70313$\n",
    "\n",
    "bound: $$\\frac{24+6}{3!}(1+0.5)(1-0.25)(1-0.5)=2.8125$$\n",
    "\n",
    "absolute error $n=2, 14.76569$\n",
    "\n",
    "bound: $$\\frac{24+6}{3!}(2+0.5)(2-0.25)(2-0.5)=32.8125$$"
   ]
  },
  {
   "cell_type": "code",
   "execution_count": 4,
   "id": "f1fe7e2a-8c97-43d1-b036-cf3bb69e35fa",
   "metadata": {},
   "outputs": [
    {
     "name": "stdout",
     "output_type": "stream",
     "text": [
      "0.703130000000002\n",
      "14.7656900000000\n"
     ]
    }
   ],
   "source": [
    "# 3.1, 8b\n",
    "P = lagrange_interpolate(vals, 3, x)\n",
    "f = lambda x: x**4 - x**3 + x**2 - x + 1\n",
    "\n",
    "print(abs(f(1) - P.subs({x: 1})))\n",
    "\n",
    "print(abs(f(2) - P.subs({x: 2})))"
   ]
  },
  {
   "cell_type": "markdown",
   "id": "e2d1e56f-cbb3-4edf-a7fd-e8ac9e92efdc",
   "metadata": {},
   "source": [
    "## Exercise set 3.2\n",
    "\n",
    "### 2a\n",
    "\n",
    "Use Neville's method to obtain the approximations for Lagrange interpolating polynomials of degrees one, two, and three to approximate each of the following:\n",
    "\n",
    "$f(0.43)$ if $f(0)=1, f(0.25) = 1.64872, f(0.5) = 2.71828, f(0.75) = 4.48169$\n",
    "\n",
    "**solution**\n",
    "\n"
   ]
  },
  {
   "cell_type": "markdown",
   "id": "e9cf62e7-1197-40ca-ba0e-259f8f067a44",
   "metadata": {},
   "source": [
    "### 6\n",
    "\n",
    "Neville's method is used to approximate $f(0.5)$, giving the following table.\n",
    "\n",
    "|||||\n",
    "|---|---|---|---|\n",
    "|$x_0=0$|$P_0=0$|||\n",
    "|$x_1=0.4$|$P_1=2.8$|$P_{0,1}=3.5$||\n",
    "|$x_2=0.7$|$P_2$|$P_{1,2}$|$P_{0,1,2}=\\frac{27}{7}$|\n",
    "\n",
    "Determine $P_2=f(0.7)$.\n",
    "\n",
    "**solution**\n"
   ]
  },
  {
   "cell_type": "markdown",
   "id": "c66b44a3-aeae-43eb-8dec-df2cc361fcbb",
   "metadata": {},
   "source": [
    "## Exercise set 3.3\n",
    "\n",
    "### 4a\n",
    "\n",
    "Use the Newton forward-difference formula to construct interpolating polynomials of degree one, two, and three for the following data.\n",
    "Approximate the specified value using each of the polynomials.\n",
    "\n",
    "$f(0.43)$ if $f(0)=1, f(0.25) = 1.64872, f(0.5) = 2.71828, f(0.75) = 4.48169$\n",
    "\n",
    "**solution**\n",
    "\n"
   ]
  },
  {
   "cell_type": "markdown",
   "id": "0d4c890c-fbcc-4962-abc7-28042b1fcf18",
   "metadata": {},
   "source": [
    "### 5a\n",
    "\n",
    "Use the Newton backward-difference formula to construct interpolating polynomials of degree one, two, and three for the following data.\n",
    "Approximate the specified value using each of the polynomials.\n",
    "\n",
    "$f(-\\frac{1}{3})$ if $f(-0.75) = -0.07181250, f(-0.5) = -0.02475000, f(-0.25) = 0.33493750, f(0) = 1.10100000$\n",
    "\n",
    "**solution**\n"
   ]
  },
  {
   "cell_type": "markdown",
   "id": "4fb22a98-92a8-47eb-8b56-f8f2ad2ceaa5",
   "metadata": {},
   "source": [
    "## Exercise set 3.4\n",
    "\n",
    "### 2b\n",
    "\n",
    "Use Theorem 3.9 or Algorithm 3.3 to construct an approximating polynomial for the following data.\n",
    "\n",
    "|$x$|$f(x)$|$f'(x)$|\n",
    "|---|---|---|\n",
    "|-0.25|1.33203|0.437500|\n",
    "|0.25|0.800781|-0.625000|\n",
    "\n",
    "**solution**\n",
    "\n"
   ]
  },
  {
   "cell_type": "markdown",
   "id": "7cc8af0c-7981-4939-a185-1d00a290f93c",
   "metadata": {},
   "source": [
    "### 4b\n",
    "\n",
    "The data in Exercise 2 were generated using the following functions.\n",
    "Use the polynomials constructed in Exercise 2 for the given value of $x$ to approximate $f(x)$, and calculate the absolute error.\n",
    "\n",
    "$f(x)=x^4-x^3+x^2-x+1$; approximate $f(0)$.\n",
    "\n",
    "**solution**\n"
   ]
  },
  {
   "cell_type": "markdown",
   "id": "76c41591-3922-4b8e-969d-377bf64d8929",
   "metadata": {},
   "source": [
    "### 10\n",
    "\n",
    "A car traveling along a straight road is clocked at a number of points.\n",
    "The data from the observations are given in the following table, where the time is in seconds, the distance is in feet, and the speed is in feet per second.\n",
    "\n",
    "| | | | | | |\n",
    "|---|---|---|---|---|---|\n",
    "|Time|0|3|5|8|13|\n",
    "|Distance|0|255|383|623|993|\n",
    "|Speed|75|77|80|74|72|\n",
    "\n",
    "\n",
    "### a\n",
    "\n",
    "Use a Hermite polynomial to predict the position of the car and its speed when $t=10s$.\n",
    "\n",
    "**solution**\n"
   ]
  },
  {
   "cell_type": "markdown",
   "id": "6ee70471-9bd4-4742-811a-a045573628be",
   "metadata": {},
   "source": [
    "### b\n",
    "\n",
    "Use the derivative of the Hermite polynomial to determine whether the car ever exceeds a 55 mi/h speed limit on the road.\n",
    "If so, what is the first time the car exceeds this speed?\n",
    "\n",
    "**solution**\n"
   ]
  },
  {
   "cell_type": "markdown",
   "id": "dd818aa3-9057-4d69-a38c-86f147969d44",
   "metadata": {},
   "source": [
    "### c\n",
    "\n",
    "What is the predicted maximum speed for the car?\n",
    "\n",
    "**solution**\n"
   ]
  }
 ],
 "metadata": {
  "kernelspec": {
   "display_name": "Python 3 (ipykernel)",
   "language": "python",
   "name": "python3"
  },
  "language_info": {
   "codemirror_mode": {
    "name": "ipython",
    "version": 3
   },
   "file_extension": ".py",
   "mimetype": "text/x-python",
   "name": "python",
   "nbconvert_exporter": "python",
   "pygments_lexer": "ipython3",
   "version": "3.9.2"
  }
 },
 "nbformat": 4,
 "nbformat_minor": 5
}
