{
 "cells": [
  {
   "cell_type": "code",
   "execution_count": 9,
   "id": "020d6469-4c90-4127-8c82-cf19bc71aa70",
   "metadata": {},
   "outputs": [],
   "source": [
    "from IPython.display import display\n",
    "\n",
    "from sympy import *\n",
    "import numpy as np\n",
    "\n",
    "x, y, z = symbols('x y z')\n",
    "init_printing(use_unicode=True)"
   ]
  },
  {
   "cell_type": "code",
   "execution_count": 6,
   "id": "1fd557ca-3cf6-4437-a8e5-5fed48c21b16",
   "metadata": {},
   "outputs": [],
   "source": [
    "# No algorithm provided, I wrote this from the steps in the text\n",
    "def lagrange_interpolate(\n",
    "    vals: (list[float], list[float]),\n",
    "    n: int,\n",
    "    target: float,\n",
    ") -> float:\n",
    "    \"\"\"\n",
    "    TODO! Prioritize points closest to target\n",
    "    \n",
    "    Parameters\n",
    "    ----------\n",
    "    vals : (list[float], list[float])\n",
    "        x, y values\n",
    "    n : int\n",
    "        L_n Lagrange interpolation to find.\n",
    "    target : float\n",
    "        Target x to calculate.\n",
    "    \"\"\"\n",
    "    sol = 0\n",
    "    xs, ys = vals\n",
    "    for i in range(n+1):\n",
    "        inter = 1\n",
    "        for k in range(n+1):\n",
    "            if k == i:\n",
    "                continue\n",
    "            inter *=  (target - xs[k])/(xs[i] - xs[k])\n",
    "        sol += ys[i] * inter\n",
    "    return sol"
   ]
  },
  {
   "cell_type": "markdown",
   "id": "bb2f302d-aa09-4fe5-8b25-712afa2176e8",
   "metadata": {},
   "source": [
    "# Homework\n",
    "\n",
    "## Exercise set 3.1\n",
    "\n",
    "### 6b\n",
    "\n",
    "Use appropriate Lagrange interpolating polynomials of degrees one, two, and three to approximate each of the following:\n",
    "\n",
    "$f(0)$ if $f(-0.5)=1.93750, f(-0.25) = 1.33203, f(0.25) = 0.800781, f(0.5) = 0.687500$\n",
    "\n",
    "**solution**\n",
    "\n",
    "$L_0, f(0) \\approx 0.7265600000000001$\n",
    "\n",
    "$L_1, f(0) \\approx 0.9531236666666667$\n",
    "\n",
    "$L_2, f(0) \\approx 0.984374$\n"
   ]
  },
  {
   "cell_type": "code",
   "execution_count": 124,
   "id": "75a6d4d6-5994-4d33-9c22-a5333aecfdc6",
   "metadata": {},
   "outputs": [
    {
     "name": "stdout",
     "output_type": "stream",
     "text": [
      "L_0 0.7265600000000001\n",
      "L_1 0.9531236666666667\n",
      "L_2 0.984374\n"
     ]
    }
   ],
   "source": [
    "# 3.1, 6b\n",
    "vals = (\n",
    "    [-0.5, -0.25, 0.25, 0.5],\n",
    "    [1.93750, 1.33203, 0.800781, 0.687500],\n",
    ")\n",
    "\n",
    "for i in range(3):\n",
    "    print(\n",
    "        'L_{}'.format(i),\n",
    "        lagrange_interpolate(vals, i + 1, 0),\n",
    "    )"
   ]
  },
  {
   "cell_type": "markdown",
   "id": "a9cda56d-1331-4a27-9adf-2af9b87a6b74",
   "metadata": {},
   "source": [
    "### 8b\n",
    "\n",
    "The data for Exercise 6 were generated using the following functions.\n",
    "Use the error forumla to find a bound for the error, and compare the bound to the actual error for the cases $n=1$ and $n=2$.\n",
    "\n",
    "$f(x)=x^4-x^3+x^2-x+1$\n",
    "\n",
    "**solution**\n",
    "\n",
    "$$\\begin{align}\n",
    "f^1(x)= 4x^3 + 3x^2 + 2x - 1 \\\\\n",
    "f^2(x)= 12x^2 + 6x + 2\\\\\n",
    "f^3(x)= 24x + 6 \\\\\n",
    "f^4(x) = 24 \\\\\n",
    "\\end{align}$$\n",
    "\n",
    "error form: $$\\frac{24+6}{3!}(x+0.5)(x-0.25)(x-0.5)$$\n",
    "\n",
    "absolute error $n=1, 0.70313$\n",
    "\n",
    "bound: $$\\frac{24+6}{3!}(1+0.5)(1-0.25)(1-0.5)=2.8125$$\n",
    "\n",
    "absolute error $n=2, 14.76569$\n",
    "\n",
    "bound: $$\\frac{24+6}{3!}(2+0.5)(2-0.25)(2-0.5)=32.8125$$"
   ]
  },
  {
   "cell_type": "code",
   "execution_count": 125,
   "id": "f1fe7e2a-8c97-43d1-b036-cf3bb69e35fa",
   "metadata": {},
   "outputs": [
    {
     "name": "stdout",
     "output_type": "stream",
     "text": [
      "0.703130000000002\n",
      "14.7656900000000\n"
     ]
    }
   ],
   "source": [
    "# 3.1, 8b\n",
    "P = lagrange_interpolate(vals, 3, x)\n",
    "f = lambda x: x**4 - x**3 + x**2 - x + 1\n",
    "\n",
    "print(abs(f(1) - P.subs({x: 1})))\n",
    "\n",
    "print(abs(f(2) - P.subs({x: 2})))"
   ]
  },
  {
   "cell_type": "code",
   "execution_count": 126,
   "id": "8d45914f-dea2-4cda-942a-b5076b7e7728",
   "metadata": {},
   "outputs": [],
   "source": [
    "# ALGORITHM 3.1\n",
    "\n",
    "def neville_iterated_interpolation(\n",
    "    vals: (list[float], list[float]),\n",
    "    target: float,\n",
    "):\n",
    "    \"\"\"\n",
    "    Parameters\n",
    "    ----------\n",
    "    vals : (list[float], list[float])\n",
    "        x, y values\n",
    "    target : float\n",
    "        Target x to calculate.\n",
    "    \"\"\"\n",
    "    xs, ys = vals\n",
    "    assert len(xs) == len(ys)\n",
    "    Q = np.zeros((len(xs), len(ys)))\n",
    "    Q[:,0] = ys\n",
    "    for i in range(1, len(xs)):\n",
    "        # display(Q)\n",
    "        for j in range(1, i+1):\n",
    "            Q[i][j] = ((target - xs[i-j]) * Q[i][j-1] - (target - xs[i]) * Q[i-1][j-1]) / (xs[i] - xs[i-j])\n",
    "    return Q\n",
    "# test from given answers in book\n",
    "# neville_iterated_interpolation(([8.1, 8.3, 8.6, 8.7], [16.94410, 17.56492, 18.50515, 18.82091]), 8.4)\n",
    "# neville_iterated_interpolation(([2.0, 2.2, 2.3], [0.6931, 0.7885, 0.8329]), 2.1)"
   ]
  },
  {
   "cell_type": "markdown",
   "id": "e2d1e56f-cbb3-4edf-a7fd-e8ac9e92efdc",
   "metadata": {},
   "source": [
    "## Exercise set 3.2\n",
    "\n",
    "### 2a\n",
    "\n",
    "Use Neville's method to obtain the approximations for Lagrange interpolating polynomials of degrees one, two, and three to approximate each of the following:\n",
    "\n",
    "$f(0.43)$ if $f(0)=1, f(0.25) = 1.64872, f(0.5) = 2.71828, f(0.75) = 4.48169$\n",
    "\n",
    "**solution**\n",
    "\n",
    "$P_1, f(0.43) \\approx 2.11580$\n",
    "\n",
    "$P_2, f(0.43) \\approx 2.37638$\n",
    "\n",
    "$P_3, f(0.43) \\approx 2.36060$"
   ]
  },
  {
   "cell_type": "code",
   "execution_count": 129,
   "id": "8ce68d83-4bc5-4452-818f-698a3353af09",
   "metadata": {},
   "outputs": [
    {
     "data": {
      "text/plain": [
       "array([[1.        , 0.        , 0.        , 0.        ],\n",
       "       [1.64872   , 2.1157984 , 0.        , 0.        ],\n",
       "       [2.71828   , 2.4188032 , 2.37638253, 0.        ],\n",
       "       [4.48169   , 2.2245252 , 2.34886312, 2.36060473]])"
      ]
     },
     "execution_count": 129,
     "metadata": {},
     "output_type": "execute_result"
    }
   ],
   "source": [
    "neville_iterated_interpolation(\n",
    "    (\n",
    "        [0, 0.25, 0.5, 0.75],\n",
    "        [1, 1.64872, 2.71828, 4.48169],\n",
    "    ),\n",
    "    0.43,\n",
    ")"
   ]
  },
  {
   "cell_type": "markdown",
   "id": "e9cf62e7-1197-40ca-ba0e-259f8f067a44",
   "metadata": {},
   "source": [
    "### 6\n",
    "\n",
    "Neville's method is used to approximate $f(0.5)$, giving the following table.\n",
    "\n",
    "|||||\n",
    "|---|---|---|---|\n",
    "|$x_0=0$|$P_0=0$|||\n",
    "|$x_1=0.4$|$P_1=2.8$|$P_{0,1}=3.5$||\n",
    "|$x_2=0.7$|$P_2$|$P_{1,2}$|$P_{0,1,2}=\\frac{27}{7}$|\n",
    "\n",
    "Determine $P_2=f(0.7)$.\n",
    "\n",
    "**solution**\n",
    "\n",
    "$P_2, f(0.7) \\approx 6.4$"
   ]
  },
  {
   "cell_type": "code",
   "execution_count": 130,
   "id": "7445f8e2-a066-4c6d-a670-08f02bd14e2e",
   "metadata": {},
   "outputs": [
    {
     "data": {
      "text/plain": [
       "array([[0.        , 0.        , 0.        ],\n",
       "       [2.8       , 3.5       , 0.        ],\n",
       "       [6.4       , 4.        , 3.85714286]])"
      ]
     },
     "execution_count": 130,
     "metadata": {},
     "output_type": "execute_result"
    }
   ],
   "source": [
    "neville_iterated_interpolation(\n",
    "    (\n",
    "        [0, 0.4, 0.7],\n",
    "        [0, 2.8, 6.4],\n",
    "    ),\n",
    "    0.5,\n",
    ")"
   ]
  },
  {
   "cell_type": "code",
   "execution_count": 131,
   "id": "adbf8582-3acc-4889-bbc9-50f1c7bc7476",
   "metadata": {},
   "outputs": [],
   "source": [
    "# ALGORITHM 3.2\n",
    "\n",
    "def newton_div_diff_interpolation(\n",
    "    vals: (list[float], list[float]),\n",
    "):\n",
    "    \"\"\"\n",
    "    Parameters\n",
    "    ----------\n",
    "    vals : (list[float], list[float])\n",
    "        x, y values\n",
    "    \"\"\"\n",
    "    xs, ys = vals\n",
    "    assert len(xs) == len(ys)\n",
    "    F = np.zeros((len(xs), len(ys)))\n",
    "    F[:,0] = ys\n",
    "    for i in range(1, len(xs)):\n",
    "        for j in range(1, i+1):\n",
    "            F[i][j] = (F[i][j-1] - F[i-1][j-1])/(xs[i] - xs[i-j])\n",
    "    return F\n",
    "\n",
    "\n",
    "def newton_forward_diff(F, h, s, n):\n",
    "    D = F.diagonal()\n",
    "    assert len(D) >= n\n",
    "    res = 0\n",
    "    for i in range(n+1):\n",
    "        inner = 1\n",
    "        for j in range(i):\n",
    "             inner *= (s - j)\n",
    "        res += D[i] * pow(h, i) * inner\n",
    "    return res\n",
    "\n",
    "\n",
    "def newton_backward_diff(F, h, s, n):\n",
    "    D = F[-1]\n",
    "    assert len(D) >= n\n",
    "    res = 0\n",
    "    for i in range(n+1):\n",
    "        inner = 1\n",
    "        for j in range(i):\n",
    "             inner *= (s + j)\n",
    "        res += D[i] * pow(h, i) * inner\n",
    "    return res\n",
    "\n",
    "# test from book\n",
    "F = newton_div_diff_interpolation(\n",
    "    (\n",
    "        [1.0, 1.3, 1.6, 1.9, 2.2],\n",
    "        [0.7651977, 0.6200860, 0.4554022, 0.2818186, 0.1103623],\n",
    "    ),\n",
    ")\n",
    "# display(F)\n",
    "# display(newton_forward_diff(F, 0.3, 1/3, 4))\n",
    "# display(newton_backward_diff(F, 0.3, -2/3, 4))"
   ]
  },
  {
   "cell_type": "markdown",
   "id": "c66b44a3-aeae-43eb-8dec-df2cc361fcbb",
   "metadata": {},
   "source": [
    "## Exercise set 3.3\n",
    "\n",
    "### 4a\n",
    "\n",
    "Use the Newton forward-difference formula to construct interpolating polynomials of degree one, two, and three for the following data.\n",
    "Approximate the specified value using each of the polynomials.\n",
    "\n",
    "$f(0.43)$ if $f(0)=1, f(0.25) = 1.64872, f(0.5) = 2.71828, f(0.75) = 4.48169$\n",
    "\n",
    "**solution**\n",
    "\n",
    "$s=\\frac{1}{h}(x-x_0)=4*(0.43-0.25)=0.72$\n",
    "\n",
    "$P_n(0.43)=P_n(0.25 + 0.72*0.25), h=0.25, s=0.72$\n",
    "\n",
    "$P_1(0.43)\\approx 1.46708$\n",
    "\n",
    "$P_2(0.43)\\approx 1.42466$\n",
    "\n",
    "$P_3(0.43)\\approx 1.43640$"
   ]
  },
  {
   "cell_type": "code",
   "execution_count": 134,
   "id": "43f35f10-aa42-4991-864f-55358016a953",
   "metadata": {},
   "outputs": [
    {
     "data": {
      "text/latex": [
       "$\\displaystyle 1.4670784$"
      ],
      "text/plain": [
       "1.4670784"
      ]
     },
     "metadata": {},
     "output_type": "display_data"
    },
    {
     "data": {
      "text/latex": [
       "$\\displaystyle 1.424657728$"
      ],
      "text/plain": [
       "1.424657728"
      ]
     },
     "metadata": {},
     "output_type": "display_data"
    },
    {
     "data": {
      "text/latex": [
       "$\\displaystyle 1.43639934208$"
      ],
      "text/plain": [
       "1.4363993420799999"
      ]
     },
     "metadata": {},
     "output_type": "display_data"
    }
   ],
   "source": [
    "F = newton_div_diff_interpolation(\n",
    "    (\n",
    "        [0, 0.25, 0.5, 0.75],\n",
    "        [1, 1.64872, 2.71828, 4.48169],\n",
    "    ),\n",
    ")\n",
    "for n in range(1, 4):\n",
    "    v = newton_forward_diff(F, 0.25, 0.72, n)\n",
    "    display(v)"
   ]
  },
  {
   "cell_type": "markdown",
   "id": "0d4c890c-fbcc-4962-abc7-28042b1fcf18",
   "metadata": {},
   "source": [
    "### 5a\n",
    "\n",
    "Use the Newton backward-difference formula to construct interpolating polynomials of degree one, two, and three for the following data.\n",
    "Approximate the specified value using each of the polynomials.\n",
    "\n",
    "$f(-\\frac{1}{3})$ if $f(-0.75) = -0.07181250, f(-0.5) = -0.02475000, f(-0.25) = 0.33493750, f(0) = 1.10100000$\n",
    "\n",
    "**solution**\n",
    "\n",
    "$s=\\frac{1}{h}(x-x_n)=4*(-\\frac{1}{3}-0)=-\\frac{4}{3}$\n",
    "\n",
    "$P_n(-\\frac{1}{3})=P_n(0.25 + 0.72*0.25), h=0.25, s=-\\frac{4}{3}$\n",
    "\n",
    "$P_1, f(-\\frac{1}{3})\\approx 0.07958$\n",
    "\n",
    "$P_2, f(-\\frac{1}{3})\\approx 0.16989$\n",
    "\n",
    "$P_3, f(-\\frac{1}{3})\\approx 0.17451$\n"
   ]
  },
  {
   "cell_type": "code",
   "execution_count": 135,
   "id": "948eb822-26f7-407f-a4ac-bd28eeafe017",
   "metadata": {},
   "outputs": [
    {
     "data": {
      "text/latex": [
       "$\\displaystyle 0.0795833333333333$"
      ],
      "text/plain": [
       "0.07958333333333334"
      ]
     },
     "metadata": {},
     "output_type": "display_data"
    },
    {
     "data": {
      "text/latex": [
       "$\\displaystyle 0.169888888888889$"
      ],
      "text/plain": [
       "0.16988888888888887"
      ]
     },
     "metadata": {},
     "output_type": "display_data"
    },
    {
     "data": {
      "text/latex": [
       "$\\displaystyle 0.174518518518518$"
      ],
      "text/plain": [
       "0.1745185185185185"
      ]
     },
     "metadata": {},
     "output_type": "display_data"
    }
   ],
   "source": [
    "F = newton_div_diff_interpolation(\n",
    "    (\n",
    "        [-0.75, -0.5, -0.25, 0],\n",
    "        [-0.07181250, -0.02475000, 0.33493750, 1.10100000],\n",
    "    ),\n",
    ")\n",
    "for n in range(1, 4):\n",
    "    v = newton_backward_diff(F, 0.25, -4/3, n)\n",
    "    display(v)"
   ]
  },
  {
   "cell_type": "markdown",
   "id": "4fb22a98-92a8-47eb-8b56-f8f2ad2ceaa5",
   "metadata": {},
   "source": [
    "## Exercise set 3.4\n",
    "\n",
    "### 2b\n",
    "\n",
    "Use Theorem 3.9 or Algorithm 3.3 to construct an approximating polynomial for the following data.\n",
    "\n",
    "|$x$|$f(x)$|$f'(x)$|\n",
    "|---|---|---|\n",
    "|-0.25|1.33203|0.437500|\n",
    "|0.25|0.800781|-0.625000|\n",
    "\n",
    "**solution**\n",
    "\n"
   ]
  },
  {
   "cell_type": "markdown",
   "id": "7cc8af0c-7981-4939-a185-1d00a290f93c",
   "metadata": {},
   "source": [
    "### 4b\n",
    "\n",
    "The data in Exercise 2 were generated using the following functions.\n",
    "Use the polynomials constructed in Exercise 2 for the given value of $x$ to approximate $f(x)$, and calculate the absolute error.\n",
    "\n",
    "$f(x)=x^4-x^3+x^2-x+1$; approximate $f(0)$.\n",
    "\n",
    "**solution**\n"
   ]
  },
  {
   "cell_type": "markdown",
   "id": "76c41591-3922-4b8e-969d-377bf64d8929",
   "metadata": {},
   "source": [
    "### 10\n",
    "\n",
    "A car traveling along a straight road is clocked at a number of points.\n",
    "The data from the observations are given in the following table, where the time is in seconds, the distance is in feet, and the speed is in feet per second.\n",
    "\n",
    "| | | | | | |\n",
    "|---|---|---|---|---|---|\n",
    "|Time|0|3|5|8|13|\n",
    "|Distance|0|255|383|623|993|\n",
    "|Speed|75|77|80|74|72|\n",
    "\n",
    "\n",
    "### a\n",
    "\n",
    "Use a Hermite polynomial to predict the position of the car and its speed when $t=10s$.\n",
    "\n",
    "**solution**\n"
   ]
  },
  {
   "cell_type": "markdown",
   "id": "6ee70471-9bd4-4742-811a-a045573628be",
   "metadata": {},
   "source": [
    "### b\n",
    "\n",
    "Use the derivative of the Hermite polynomial to determine whether the car ever exceeds a 55 mi/h speed limit on the road.\n",
    "If so, what is the first time the car exceeds this speed?\n",
    "\n",
    "**solution**\n"
   ]
  },
  {
   "cell_type": "markdown",
   "id": "dd818aa3-9057-4d69-a38c-86f147969d44",
   "metadata": {},
   "source": [
    "### c\n",
    "\n",
    "What is the predicted maximum speed for the car?\n",
    "\n",
    "**solution**\n"
   ]
  }
 ],
 "metadata": {
  "kernelspec": {
   "display_name": "Python 3 (ipykernel)",
   "language": "python",
   "name": "python3"
  },
  "language_info": {
   "codemirror_mode": {
    "name": "ipython",
    "version": 3
   },
   "file_extension": ".py",
   "mimetype": "text/x-python",
   "name": "python",
   "nbconvert_exporter": "python",
   "pygments_lexer": "ipython3",
   "version": "3.9.2"
  }
 },
 "nbformat": 4,
 "nbformat_minor": 5
}
