{
 "cells": [
  {
   "cell_type": "markdown",
   "id": "bb2f302d-aa09-4fe5-8b25-712afa2176e8",
   "metadata": {},
   "source": [
    "# Homework\n",
    "\n",
    "## Exercise set 3.1\n",
    "\n",
    "### 6b\n",
    "\n",
    "Use appropriate Lagrange interpolating polynomials of degrees one, two, and three to approximate each of the following:\n",
    "\n",
    "$f(0)$ if $f(-0.5)=1.93750, f(-0.25) = 1.33203, f(0.25) = 0.800781, f(0.5) = 0.687500$\n",
    "\n",
    "**solution**\n",
    "\n",
    "```console\n",
    "L_0 0.7265600000000001\n",
    "L_1 0.9531236666666667\n",
    "L_2 0.984374\n",
    "```\n",
    "\n",
    "### 8b\n",
    "\n",
    "The data for Exercise 6 were generated using the following functions.\n",
    "Use the error forumla to find a bound for the error, and compare the bound to the actual error for the cases $n=1$ and $n=2$.\n",
    "\n",
    "$f(x)=x^4-x^3+x^2-x+1$\n",
    "\n",
    "**solution**\n",
    "\n",
    "$$\\begin{align}\n",
    "f^1(x)= 4x^3 + 3x^2 + 2x - 1 \\\\\n",
    "f^2(x)= 12x^2 + 6x + 2\\\\\n",
    "f^3(x)= 24x + 6 \\\\\n",
    "f^4(x) = 24 \\\\\n",
    "\\end{align}$$\n",
    "\n",
    "error form: $$\\frac{24+6}{3!}(x+0.5)(x-0.25)(x-0.5)$$\n",
    "\n",
    "absolute error $n=1, 0.70313$\n",
    "\n",
    "bound: $$\\frac{24+6}{3!}(1+0.5)(1-0.25)(1-0.5)=2.8125$$\n",
    "\n",
    "absolute error $n=2, 14.76569$\n",
    "\n",
    "bound: $$\\frac{24+6}{3!}(2+0.5)(2-0.25)(2-0.5)=32.8125$$\n"
   ]
  },
  {
   "cell_type": "markdown",
   "id": "e2d1e56f-cbb3-4edf-a7fd-e8ac9e92efdc",
   "metadata": {},
   "source": [
    "## Exercise set 3.2\n",
    "\n",
    "### 2a\n",
    "\n",
    "**solution**\n",
    "\n",
    "### 6\n",
    "\n",
    "**solution**\n"
   ]
  },
  {
   "cell_type": "markdown",
   "id": "c66b44a3-aeae-43eb-8dec-df2cc361fcbb",
   "metadata": {},
   "source": [
    "## Exercise set 3.3\n",
    "\n",
    "### 4a\n",
    "\n",
    "**solution**\n",
    "\n",
    "### 5a\n",
    "\n",
    "**solution**\n"
   ]
  },
  {
   "cell_type": "markdown",
   "id": "4fb22a98-92a8-47eb-8b56-f8f2ad2ceaa5",
   "metadata": {},
   "source": [
    "## Exercise set 3.4\n",
    "\n",
    "### 2b\n",
    "\n",
    "**solution**\n",
    "\n",
    "### 4b\n",
    "\n",
    "**solution**\n",
    "\n",
    "### 10\n",
    "\n",
    "**solution**\n"
   ]
  },
  {
   "cell_type": "code",
   "execution_count": 2,
   "id": "020d6469-4c90-4127-8c82-cf19bc71aa70",
   "metadata": {},
   "outputs": [],
   "source": [
    "from IPython.display import display\n",
    "\n",
    "from sympy import *\n",
    "x, y, z = symbols('x y z')\n",
    "init_printing(use_unicode=True)"
   ]
  },
  {
   "cell_type": "code",
   "execution_count": 91,
   "id": "1fd557ca-3cf6-4437-a8e5-5fed48c21b16",
   "metadata": {},
   "outputs": [],
   "source": [
    "def lagrange_interpolate(\n",
    "    vals: (list[float], list[float]),\n",
    "    n: int,\n",
    "    target: float,\n",
    ") -> float:\n",
    "    \"\"\"\n",
    "    Parameters\n",
    "    ----------\n",
    "    vals : (list[float], list[float])\n",
    "        x, y values\n",
    "    n : int\n",
    "        L_n Lagrange interpolation to find.\n",
    "    target : float\n",
    "        Target x to calculate.\n",
    "    \"\"\"\n",
    "    sol = 0\n",
    "    xs, ys = vals\n",
    "    for i in range(n+1):\n",
    "        inter = 1\n",
    "        for k in range(n+1):\n",
    "            if k == i:\n",
    "                continue\n",
    "            inter *=  (target - xs[k])/(xs[i] - xs[k])\n",
    "        sol += ys[i] * inter\n",
    "    return sol"
   ]
  },
  {
   "cell_type": "code",
   "execution_count": 92,
   "id": "75a6d4d6-5994-4d33-9c22-a5333aecfdc6",
   "metadata": {},
   "outputs": [
    {
     "name": "stdout",
     "output_type": "stream",
     "text": [
      "L_0 0.7265600000000001\n",
      "L_1 0.9531236666666667\n",
      "L_2 0.984374\n"
     ]
    }
   ],
   "source": [
    "# 3.1, 6b\n",
    "vals = (\n",
    "    [-0.5, -0.25, 0.25, 0.5],\n",
    "    [1.93750, 1.33203, 0.800781, 0.687500],\n",
    ")\n",
    "\n",
    "for i in range(3):\n",
    "    print(\n",
    "        'L_{}'.format(i),\n",
    "        lagrange_interpolate(vals, i + 1, 0),\n",
    "    )"
   ]
  },
  {
   "cell_type": "code",
   "execution_count": 95,
   "id": "f1fe7e2a-8c97-43d1-b036-cf3bb69e35fa",
   "metadata": {},
   "outputs": [
    {
     "name": "stdout",
     "output_type": "stream",
     "text": [
      "0.703130000000002\n",
      "14.7656900000000\n"
     ]
    }
   ],
   "source": [
    "P = lagrange_interpolate(vals, 3, x)\n",
    "f = lambda x: x**4 - x**3 + x**2 - x + 1\n",
    "\n",
    "print(abs(f(1) - P.subs({x: 1})))\n",
    "\n",
    "print(abs(f(2) - P.subs({x: 2})))"
   ]
  },
  {
   "cell_type": "code",
   "execution_count": 100,
   "id": "27df25df-4059-4fbf-b6a5-b9d108cc8841",
   "metadata": {},
   "outputs": [
    {
     "data": {
      "text/latex": [
       "$\\displaystyle 2.8125$"
      ],
      "text/plain": [
       "2.8125"
      ]
     },
     "execution_count": 100,
     "metadata": {},
     "output_type": "execute_result"
    }
   ],
   "source": [
    "(24+6)/(6)*(1+0.5)*(1-0.25)*(1-0.5)"
   ]
  },
  {
   "cell_type": "code",
   "execution_count": null,
   "id": "2fbd87d2-0f69-4ce5-879e-411befed11bb",
   "metadata": {},
   "outputs": [],
   "source": []
  }
 ],
 "metadata": {
  "kernelspec": {
   "display_name": "Python 3 (ipykernel)",
   "language": "python",
   "name": "python3"
  },
  "language_info": {
   "codemirror_mode": {
    "name": "ipython",
    "version": 3
   },
   "file_extension": ".py",
   "mimetype": "text/x-python",
   "name": "python",
   "nbconvert_exporter": "python",
   "pygments_lexer": "ipython3",
   "version": "3.9.2"
  }
 },
 "nbformat": 4,
 "nbformat_minor": 5
}
