{
 "cells": [
  {
   "cell_type": "markdown",
   "id": "bb2f302d-aa09-4fe5-8b25-712afa2176e8",
   "metadata": {},
   "source": [
    "# Homework\n",
    "\n",
    "## Exercise set 3.1\n",
    "\n",
    "### 6b\n",
    "\n",
    "Use appropriate Lagrange interpolating polynomials of degrees one, two, and three to approximate each of the following:\n",
    "\n",
    "$f(0)$ if $f(-0.5)=1.93750, f(-0.25) = 1.33203, f(0.25) = 0.800781, f(0.5) = 0.687500$\n",
    "\n",
    "**solution**\n",
    "\n",
    "### 8b\n",
    "\n",
    "The data for Exercise 6 were generated using the following functions.\n",
    "Use the error forumla to find abound for the error, and compare the bound to the actual error for the cases $n=1$ and $n=2$.\n",
    "\n",
    "$f(x)=x^4-x^3+x^2-x+1$\n",
    "\n",
    "**solution**\n"
   ]
  },
  {
   "cell_type": "markdown",
   "id": "e2d1e56f-cbb3-4edf-a7fd-e8ac9e92efdc",
   "metadata": {},
   "source": [
    "## Exercise set 3.2\n",
    "\n",
    "### 2a\n",
    "\n",
    "**solution**\n",
    "\n",
    "### 6\n",
    "\n",
    "**solution**\n"
   ]
  },
  {
   "cell_type": "markdown",
   "id": "c66b44a3-aeae-43eb-8dec-df2cc361fcbb",
   "metadata": {},
   "source": [
    "## Exercise set 3.3\n",
    "\n",
    "### 4a\n",
    "\n",
    "**solution**\n",
    "\n",
    "### 5a\n",
    "\n",
    "**solution**\n"
   ]
  },
  {
   "cell_type": "markdown",
   "id": "4fb22a98-92a8-47eb-8b56-f8f2ad2ceaa5",
   "metadata": {},
   "source": [
    "## Exercise set 3.4\n",
    "\n",
    "### 2b\n",
    "\n",
    "**solution**\n",
    "\n",
    "### 4b\n",
    "\n",
    "**solution**\n",
    "\n",
    "### 10\n",
    "\n",
    "**solution**\n"
   ]
  },
  {
   "cell_type": "code",
   "execution_count": 2,
   "id": "020d6469-4c90-4127-8c82-cf19bc71aa70",
   "metadata": {},
   "outputs": [],
   "source": [
    "from IPython.display import display\n",
    "\n",
    "from sympy import *\n",
    "x, y, z = symbols('x y z')\n",
    "init_printing(use_unicode=True)"
   ]
  },
  {
   "cell_type": "code",
   "execution_count": 61,
   "id": "1fd557ca-3cf6-4437-a8e5-5fed48c21b16",
   "metadata": {},
   "outputs": [],
   "source": [
    "def lagrange_interpolate(vals: (list[float], list[float]), n: int, target: float):\n",
    "    sol = 0\n",
    "    xs, ys = vals\n",
    "    for i in range(n+1):\n",
    "        inter = 1\n",
    "        for k in range(n+1):\n",
    "            if k == i:\n",
    "                continue\n",
    "            inter *=  (target - xs[k])/(xs[i] - xs[k])\n",
    "        sol += ys[i] * inter\n",
    "    return sol"
   ]
  },
  {
   "cell_type": "code",
   "execution_count": 66,
   "id": "e97f712f-a998-4d23-871e-75c1343fdf13",
   "metadata": {},
   "outputs": [
    {
     "name": "stdout",
     "output_type": "stream",
     "text": [
      "L_1 17.87833\n",
      "L_2 17.877155000000002\n",
      "L_3 17.8771425\n"
     ]
    }
   ],
   "source": [
    "vals = (\n",
    "    [8.1, 8.3, 8.6, 8.7],\n",
    "    [16.94410, 17.56492, 18.50515, 18.82091],\n",
    ")\n",
    "\n",
    "# vals = (\n",
    "#     [8.3, 8.6, 8.7, 8.1],\n",
    "#     [17.56492, 18.50515, 18.82091, 16.94410],\n",
    "# )\n",
    "\n",
    "# 17.87833\n",
    "# 17.87716\n",
    "# 17.87714\n",
    "for i in range(3):\n",
    "    print(\n",
    "        'L_{}'.format(i+1),\n",
    "        lagrange_interpolate(vals, i + 1, 8.4),\n",
    "    )"
   ]
  },
  {
   "cell_type": "code",
   "execution_count": 64,
   "id": "75a6d4d6-5994-4d33-9c22-a5333aecfdc6",
   "metadata": {},
   "outputs": [
    {
     "name": "stdout",
     "output_type": "stream",
     "text": [
      "L_1 0.7265600000000001\n",
      "L_2 0.9531236666666667\n",
      "L_3 0.984374\n"
     ]
    }
   ],
   "source": [
    "# 3.1, 6b\n",
    "vals = (\n",
    "    [-0.5, -0.25, 0.25, 0.5],\n",
    "    [1.93750, 1.33203, 0.800781, 0.687500],\n",
    ")\n",
    "\n",
    "for i in range(3):\n",
    "    print(\n",
    "        'L_{}'.format(i+1),\n",
    "        lagrange_interpolate(vals, i + 1, 0),\n",
    "    )"
   ]
  },
  {
   "cell_type": "code",
   "execution_count": null,
   "id": "3f42bd77-44c3-4918-ac6a-b5cc6fda5c26",
   "metadata": {},
   "outputs": [],
   "source": []
  }
 ],
 "metadata": {
  "kernelspec": {
   "display_name": "Python 3 (ipykernel)",
   "language": "python",
   "name": "python3"
  },
  "language_info": {
   "codemirror_mode": {
    "name": "ipython",
    "version": 3
   },
   "file_extension": ".py",
   "mimetype": "text/x-python",
   "name": "python",
   "nbconvert_exporter": "python",
   "pygments_lexer": "ipython3",
   "version": "3.9.2"
  }
 },
 "nbformat": 4,
 "nbformat_minor": 5
}
