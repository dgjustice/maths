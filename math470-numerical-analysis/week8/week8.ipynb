{
 "cells": [
  {
   "cell_type": "code",
   "execution_count": 2,
   "id": "3c8f78b6-d65a-49e6-a0c2-d0303af6ab38",
   "metadata": {},
   "outputs": [],
   "source": [
    "from IPython.display import display\n",
    "\n",
    "import math\n",
    "import sympy\n",
    "import scipy\n",
    "import numpy as np\n",
    "\n",
    "# x, y, z = symbols('x y z')\n",
    "sympy.init_printing(use_unicode=True)"
   ]
  },
  {
   "cell_type": "markdown",
   "id": "773a8996-bc07-424e-a237-4202557f7ac7",
   "metadata": {},
   "source": [
    "# Homework\n",
    "\n",
    "## Exercise set 9.6\n",
    "\n",
    "Determine the singular values of the following matrices.\n",
    "\n",
    "### 2a\n",
    "\n",
    "$A=\n",
    "\\quad\n",
    "\\begin{bmatrix}\n",
    "-1 & 1 \\\\\n",
    "1 & 1 \\\\\n",
    "\\end{bmatrix}$\n",
    "\n",
    "**solution**\n",
    "\n",
    "The eigenvalues of $A^tA$ are 2 and 2.\n",
    "\n",
    "The sinuglar values are both $\\sqrt{2}$."
   ]
  },
  {
   "cell_type": "code",
   "execution_count": 23,
   "id": "bdcc009b-22e2-4443-8a36-318b07bc7a55",
   "metadata": {},
   "outputs": [
    {
     "data": {
      "image/png": "[encoded data removed]",
      "text/latex": [
       "$\\displaystyle \\left\\{ 2 : 2\\right\\}$"
      ],
      "text/plain": [
       "{2: 2}"
      ]
     },
     "metadata": {},
     "output_type": "display_data"
    }
   ],
   "source": [
    "m = sympy.Matrix([\n",
    "    [-1, 1],\n",
    "    [1, 1],\n",
    "])\n",
    "ata = m.transpose() * m\n",
    "display(ata.eigenvals())"
   ]
  },
  {
   "cell_type": "markdown",
   "id": "5c7ed10d-b744-4236-bad7-f7cfc4ca272c",
   "metadata": {},
   "source": [
    "### 2d\n",
    "\n",
    "$A=\n",
    "\\quad\n",
    "\\begin{bmatrix}\n",
    "0 & 1 & 1 \\\\\n",
    "0 & 1 & 0 \\\\\n",
    "1 & 1 & 0 \\\\\n",
    "0 & 1 & 0 \\\\\n",
    "1 & 0 & 1 \\\\\n",
    "\\end{bmatrix}$\n",
    "\n",
    "**solution**\n",
    "\n",
    "The eigenvalues of $A^tA$ are 1, 2, and 5.\n",
    "\n",
    "The singular values are $\\sqrt{5}$, $\\sqrt{2}$, and 1."
   ]
  },
  {
   "cell_type": "code",
   "execution_count": 30,
   "id": "f13de3d7-6570-4602-9a98-bb75cbf9b0cf",
   "metadata": {},
   "outputs": [
    {
     "data": {
      "image/png": "[encoded data removed]",
      "text/latex": [
       "$\\displaystyle \\left\\{ 1 : 1, \\  2 : 1, \\  5 : 1\\right\\}$"
      ],
      "text/plain": [
       "{1: 1, 2: 1, 5: 1}"
      ]
     },
     "execution_count": 30,
     "metadata": {},
     "output_type": "execute_result"
    }
   ],
   "source": [
    "m = sympy.Matrix([\n",
    "    [0, 1, 1],\n",
    "    [0, 1, 0],\n",
    "    [1, 1, 0],\n",
    "    [0, 1, 0],\n",
    "    [1, 0, 1],\n",
    "])\n",
    "ata = m.transpose() * m\n",
    "ata.eigenvals()"
   ]
  },
  {
   "cell_type": "markdown",
   "id": "a2cb3181-8f58-48f7-ae77-85e6356b95c6",
   "metadata": {},
   "source": [
    "### 4a\n",
    "\n",
    "Determine a singular value decomposition for the matrices in Exercise 2.\n",
    "\n",
    "**solution**\n",
    "\n",
    "$$U=\n",
    "\\quad\n",
    "\\begin{bmatrix}\n",
    "-\\frac{\\sqrt{2}}{2} & \\frac{\\sqrt{2}}{2} \\\\\n",
    "\\frac{\\sqrt{2}}{2} & \\frac{\\sqrt{2}}{2} \\\\\n",
    "\\end{bmatrix}\n",
    "$$\n",
    "\n",
    "$$S=\n",
    "\\quad\n",
    "\\begin{bmatrix}\n",
    "\\sqrt{2} & 0 \\\\\n",
    "0 & \\sqrt{2} \\\\\n",
    "\\end{bmatrix}\n",
    "$$\n",
    "\n",
    "$$V^t=\n",
    "\\quad\n",
    "\\begin{bmatrix}\n",
    "1 & 0 \\\\\n",
    "0 & 1 \\\\\n",
    "\\end{bmatrix}\n",
    "$$"
   ]
  },
  {
   "cell_type": "code",
   "execution_count": 29,
   "id": "9a907ca3-0fc9-4598-a77f-570882b64802",
   "metadata": {},
   "outputs": [
    {
     "data": {
      "text/latex": [
       "$\\displaystyle \\left[\\begin{matrix}- \\frac{\\sqrt{2}}{2} & \\frac{\\sqrt{2}}{2}\\\\\\frac{\\sqrt{2}}{2} & \\frac{\\sqrt{2}}{2}\\end{matrix}\\right]$"
      ],
      "text/plain": [
       "⎡-√2   √2⎤\n",
       "⎢────  ──⎥\n",
       "⎢ 2    2 ⎥\n",
       "⎢        ⎥\n",
       "⎢ √2   √2⎥\n",
       "⎢ ──   ──⎥\n",
       "⎣ 2    2 ⎦"
      ]
     },
     "metadata": {},
     "output_type": "display_data"
    },
    {
     "data": {
      "text/latex": [
       "$\\displaystyle \\left[\\begin{matrix}\\sqrt{2} & 0\\\\0 & \\sqrt{2}\\end{matrix}\\right]$"
      ],
      "text/plain": [
       "⎡√2  0 ⎤\n",
       "⎢      ⎥\n",
       "⎣0   √2⎦"
      ]
     },
     "metadata": {},
     "output_type": "display_data"
    },
    {
     "data": {
      "text/latex": [
       "$\\displaystyle \\left[\\begin{matrix}1 & 0\\\\0 & 1\\end{matrix}\\right]$"
      ],
      "text/plain": [
       "⎡1  0⎤\n",
       "⎢    ⎥\n",
       "⎣0  1⎦"
      ]
     },
     "metadata": {},
     "output_type": "display_data"
    }
   ],
   "source": [
    "m = sympy.Matrix([\n",
    "    [-1, 1],\n",
    "    [1, 1],\n",
    "])\n",
    "U, S, V = m.singular_value_decomposition()\n",
    "display(U)\n",
    "display(S)\n",
    "display(V)"
   ]
  },
  {
   "cell_type": "markdown",
   "id": "df9d0c60-de9a-4ed2-9c56-60d4af3363dd",
   "metadata": {},
   "source": [
    "### 4d\n",
    "\n",
    "**solution**\n",
    "\n",
    "$$U=\n",
    "\\quad\n",
    "\\begin{bmatrix}\n",
    "\\frac{\\sqrt{2}}{2} & 0 & \\frac{\\sqrt{30}}{10} \\\\\n",
    "0 & -\\frac{\\sqrt{6}}{6} & \\frac{\\sqrt{30}}{15} \\\\\n",
    "\\frac{\\sqrt{2}}{2} & 0 & \\frac{\\sqrt{30}}{10} \\\\\n",
    "0 & -\\frac{\\sqrt{6}}{6} & \\frac{\\sqrt{30}}{15} \\\\\n",
    "0 & \\frac{\\sqrt{6}}{3} & \\frac{\\sqrt{30}}{15} \\\\\n",
    "\\end{bmatrix}\n",
    "$$\n",
    "\n",
    "$$S=\n",
    "\\quad\n",
    "\\begin{bmatrix}\n",
    "1 & 0 & 0 \\\\\n",
    "0 & \\sqrt{2} & 0 \\\\\n",
    "0 & 0 & \\sqrt{5} \\\\\n",
    "\\end{bmatrix}\n",
    "$$\n",
    "\n",
    "$$V^t=\n",
    "\\quad\n",
    "\\begin{bmatrix}\n",
    "-\\frac{\\sqrt{2}}{2} & \\frac{\\sqrt{3}}{3} & \\frac{\\sqrt{6}}{6} \\\\\n",
    "0 & -\\frac{\\sqrt{3}}{3} & \\frac{\\sqrt{6}}{6} \\\\\n",
    "\\frac{\\sqrt{2}}{2} & \\frac{\\sqrt{3}}{3} & \\frac{\\sqrt{6}}{6} \\\\\n",
    "\\end{bmatrix}\n",
    "$$"
   ]
  },
  {
   "cell_type": "code",
   "execution_count": 32,
   "id": "3dfc7bf6-a4a1-46ff-9735-a32022287640",
   "metadata": {},
   "outputs": [
    {
     "data": {
      "text/latex": [
       "$\\displaystyle \\left[\\begin{matrix}\\frac{\\sqrt{2}}{2} & 0 & \\frac{\\sqrt{30}}{10}\\\\0 & - \\frac{\\sqrt{6}}{6} & \\frac{\\sqrt{30}}{15}\\\\- \\frac{\\sqrt{2}}{2} & 0 & \\frac{\\sqrt{30}}{10}\\\\0 & - \\frac{\\sqrt{6}}{6} & \\frac{\\sqrt{30}}{15}\\\\0 & \\frac{\\sqrt{6}}{3} & \\frac{\\sqrt{30}}{15}\\end{matrix}\\right]$"
      ],
      "text/plain": [
       "⎡ √2         √30⎤\n",
       "⎢ ──    0    ───⎥\n",
       "⎢ 2           10⎥\n",
       "⎢               ⎥\n",
       "⎢      -√6   √30⎥\n",
       "⎢ 0    ────  ───⎥\n",
       "⎢       6     15⎥\n",
       "⎢               ⎥\n",
       "⎢-√2         √30⎥\n",
       "⎢────   0    ───⎥\n",
       "⎢ 2           10⎥\n",
       "⎢               ⎥\n",
       "⎢      -√6   √30⎥\n",
       "⎢ 0    ────  ───⎥\n",
       "⎢       6     15⎥\n",
       "⎢               ⎥\n",
       "⎢       √6   √30⎥\n",
       "⎢ 0     ──   ───⎥\n",
       "⎣       3     15⎦"
      ]
     },
     "metadata": {},
     "output_type": "display_data"
    },
    {
     "data": {
      "text/latex": [
       "$\\displaystyle \\left[\\begin{matrix}1 & 0 & 0\\\\0 & \\sqrt{2} & 0\\\\0 & 0 & \\sqrt{5}\\end{matrix}\\right]$"
      ],
      "text/plain": [
       "⎡1  0   0 ⎤\n",
       "⎢         ⎥\n",
       "⎢0  √2  0 ⎥\n",
       "⎢         ⎥\n",
       "⎣0  0   √5⎦"
      ]
     },
     "metadata": {},
     "output_type": "display_data"
    },
    {
     "data": {
      "text/latex": [
       "$\\displaystyle \\left[\\begin{matrix}- \\frac{\\sqrt{2}}{2} & \\frac{\\sqrt{3}}{3} & \\frac{\\sqrt{6}}{6}\\\\0 & - \\frac{\\sqrt{3}}{3} & \\frac{\\sqrt{6}}{3}\\\\\\frac{\\sqrt{2}}{2} & \\frac{\\sqrt{3}}{3} & \\frac{\\sqrt{6}}{6}\\end{matrix}\\right]$"
      ],
      "text/plain": [
       "⎡-√2    √3   √6⎤\n",
       "⎢────   ──   ──⎥\n",
       "⎢ 2     3    6 ⎥\n",
       "⎢              ⎥\n",
       "⎢      -√3   √6⎥\n",
       "⎢ 0    ────  ──⎥\n",
       "⎢       3    3 ⎥\n",
       "⎢              ⎥\n",
       "⎢ √2    √3   √6⎥\n",
       "⎢ ──    ──   ──⎥\n",
       "⎣ 2     3    6 ⎦"
      ]
     },
     "metadata": {},
     "output_type": "display_data"
    }
   ],
   "source": [
    "m = sympy.Matrix([\n",
    "    [0, 1, 1],\n",
    "    [0, 1, 0],\n",
    "    [1, 1, 0],\n",
    "    [0, 1, 0],\n",
    "    [1, 0, 1],\n",
    "])\n",
    "U, S, V = m.singular_value_decomposition()\n",
    "display(U)\n",
    "display(S)\n",
    "display(V)"
   ]
  }
 ],
 "metadata": {
  "kernelspec": {
   "display_name": "Python 3 (ipykernel)",
   "language": "python",
   "name": "python3"
  },
  "language_info": {
   "codemirror_mode": {
    "name": "ipython",
    "version": 3
   },
   "file_extension": ".py",
   "mimetype": "text/x-python",
   "name": "python",
   "nbconvert_exporter": "python",
   "pygments_lexer": "ipython3",
   "version": "3.9.2"
  }
 },
 "nbformat": 4,
 "nbformat_minor": 5
}
