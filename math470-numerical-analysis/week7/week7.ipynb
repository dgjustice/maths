{
 "cells": [
  {
   "cell_type": "code",
   "execution_count": 2,
   "id": "e0a70c30-51b5-4b81-8386-507ccfacff6b",
   "metadata": {},
   "outputs": [],
   "source": [
    "from IPython.display import display\n",
    "\n",
    "import math\n",
    "import sympy\n",
    "import scipy\n",
    "import numpy as np\n",
    "\n",
    "# x, y, z = symbols('x y z')\n",
    "sympy.init_printing(use_unicode=True)"
   ]
  },
  {
   "cell_type": "markdown",
   "id": "dfd21f62-f2e5-4f31-a656-359d575d9180",
   "metadata": {},
   "source": [
    "# Homework\n",
    "\n",
    "## Exercise set 6.1\n",
    "\n",
    "Use the Gaussian Elimination Algorithm to solve the following linear systems, if possible, and determine whether row interchanges are necessary.\n",
    "\n",
    "### 6a\n",
    "\n",
    "$\\begin{aligned}\n",
    "x_2 - 2x_3 = 4 \\\\\n",
    "x_1 - x_2 + x_3 = 6 \\\\\n",
    "x_1 - x_3 = 2 \\\\\n",
    "\\end{aligned}$\n",
    "\n",
    "**solution**\n",
    "\n",
    "$\\begin{bmatrix}\n",
    "0 & 1 & -2 & 4 \\\\\n",
    "1 & -1 & 1 & 6 \\\\\n",
    "1 & 0 & -1 & 2 \\\\\n",
    "\\end{bmatrix}$\n",
    "\n",
    "$E_1 + E2 \\rightarrow E_1$\n",
    "\n",
    "$\\begin{bmatrix}\n",
    "1 & 0 & -1 & 10 \\\\\n",
    "1 & -1 & 1 & 6 \\\\\n",
    "1 & 0 & -1 & 2 \\\\\n",
    "\\end{bmatrix}$\n",
    "\n",
    "$-E_2 + E3 \\rightarrow E_2$\n",
    "\n",
    "$\\begin{bmatrix}\n",
    "1 & 0 & -1 & 10 \\\\\n",
    "0 & 1 & -2 & -4 \\\\\n",
    "1 & 0 & -1 & 2 \\\\\n",
    "\\end{bmatrix}$\n",
    "\n",
    "$E_3 - E1 \\rightarrow E_3$\n",
    "\n",
    "$\\begin{bmatrix}\n",
    "1 & 0 & -1 & 10 \\\\\n",
    "0 & 1 & -2 & -4 \\\\\n",
    "0 & 0 & 0 & -8 \\\\\n",
    "\\end{bmatrix}$\n",
    "\n",
    "\n"
   ]
  },
  {
   "cell_type": "code",
   "execution_count": 3,
   "id": "a075e76b-6ec9-4435-bd60-c0a4d66f6893",
   "metadata": {},
   "outputs": [
    {
     "data": {
      "text/latex": [
       "$\\displaystyle \\left( \\left[\\begin{matrix}1 & 0 & -1 & 0\\\\0 & 1 & -2 & 0\\\\0 & 0 & 0 & 1\\end{matrix}\\right], \\  \\left( 0, \\  1, \\  3\\right)\\right)$"
      ],
      "text/plain": [
       "⎛⎡1  0  -1  0⎤           ⎞\n",
       "⎜⎢           ⎥           ⎟\n",
       "⎜⎢0  1  -2  0⎥, (0, 1, 3)⎟\n",
       "⎜⎢           ⎥           ⎟\n",
       "⎝⎣0  0  0   1⎦           ⎠"
      ]
     },
     "execution_count": 3,
     "metadata": {},
     "output_type": "execute_result"
    }
   ],
   "source": [
    "m = sympy.Matrix([[0, 1, -2, 4], [1, -1, 1, 6], [1, 0, -1, 2]])\n",
    "m.rref()"
   ]
  },
  {
   "cell_type": "markdown",
   "id": "22cfedad-20c2-4664-93d3-ad9fc938e29a",
   "metadata": {},
   "source": [
    "### 6c\n",
    "\n",
    "$\\begin{aligned}\n",
    "2x_1 - x_2 + x_3 - x_4 = 6 \\\\\n",
    "x_2 - x_3 + x_4 = 5 \\\\\n",
    "x_4 = 5 \\\\\n",
    "x_3 - x_4 = 3 \\\\\n",
    "\\end{aligned}$\n",
    "\n",
    "**solution**\n",
    "\n",
    "$\\begin{bmatrix}\n",
    "2 & -1 & 1 & -1 & 6 \\\\\n",
    "0 & 1 & -1 & 1 & 5 \\\\\n",
    "0 & 0 & 0 & 1 & 5 \\\\\n",
    "0 & 0 & 1 & -1 & 3 \\\\\n",
    "\\end{bmatrix}$\n",
    "\n",
    "$E_1 + E_2 \\rightarrow E_1$\n",
    "\n",
    "$\\begin{bmatrix}\n",
    "2 & 0 & 0 & 0 & 11 \\\\\n",
    "0 & 1 & -1 & 1 & 5 \\\\\n",
    "0 & 0 & 0 & 1 & 5 \\\\\n",
    "0 & 0 & 1 & -1 & 3 \\\\\n",
    "\\end{bmatrix}$\n",
    "\n",
    "$E_2 + E_4 \\rightarrow E_2$\n",
    "\n",
    "$\\begin{bmatrix}\n",
    "2 & 0 & 0 & 0 & 11 \\\\\n",
    "0 & 1 & 0 & 0 &  8 \\\\\n",
    "0 & 0 & 0 & 1 & 5 \\\\\n",
    "0 & 0 & 1 & -1 & 3 \\\\\n",
    "\\end{bmatrix}$\n",
    "\n",
    "$E_3 + E_4 \\rightarrow E_3$\n",
    "\n",
    "$\\begin{bmatrix}\n",
    "2 & 0 & 0 & 0 & 11 \\\\\n",
    "0 & 1 & 0 & 0 & 8 \\\\\n",
    "0 & 0 & 1 & 0 & 8 \\\\\n",
    "0 & 0 & 1 & -1 & 3 \\\\\n",
    "\\end{bmatrix}$\n",
    "\n",
    "$E_3 - E_4 \\rightarrow E_4$\n",
    "\n",
    "$\\begin{bmatrix}\n",
    "2 & 0 & 0 & 0 & 11 \\\\\n",
    "0 & 1 & 0 & 0 & 8 \\\\\n",
    "0 & 0 & 1 & 0 & 8 \\\\\n",
    "0 & 0 & 0 & 1 & 5 \\\\\n",
    "\\end{bmatrix}$\n",
    "\n",
    "$x_4 = 5, x_3=13, x_2=13, x_1=\\frac{11}{2}$"
   ]
  },
  {
   "cell_type": "code",
   "execution_count": 39,
   "id": "80fb4f8f-7bde-4927-b864-cc2c1a29aca6",
   "metadata": {},
   "outputs": [
    {
     "data": {
      "text/latex": [
       "$\\displaystyle \\left( \\left[\\begin{matrix}1 & 0 & 0 & 0 & \\frac{11}{2}\\\\0 & 1 & 0 & 0 & 13\\\\0 & 0 & 1 & 0 & 13\\\\0 & 0 & 0 & 1 & 5\\end{matrix}\\right], \\  \\left( 0, \\  1, \\  2, \\  3\\right)\\right)$"
      ],
      "text/plain": [
       "⎛⎡1  0  0  0  11/2⎤              ⎞\n",
       "⎜⎢                ⎥              ⎟\n",
       "⎜⎢0  1  0  0   13 ⎥              ⎟\n",
       "⎜⎢                ⎥, (0, 1, 2, 3)⎟\n",
       "⎜⎢0  0  1  0   13 ⎥              ⎟\n",
       "⎜⎢                ⎥              ⎟\n",
       "⎝⎣0  0  0  1   5  ⎦              ⎠"
      ]
     },
     "metadata": {},
     "output_type": "display_data"
    },
    {
     "data": {
      "text/plain": [
       "array([6.00000000000000, 5.00000000000000, 5.00000000000000,\n",
       "       3.00000000000000], dtype=object)"
      ]
     },
     "execution_count": 39,
     "metadata": {},
     "output_type": "execute_result"
    }
   ],
   "source": [
    "m = sympy.Matrix([\n",
    "    [2, -1, 1, -1, 6],\n",
    "    [0, 1, -1, 1, 5],\n",
    "    [0, 0, 0, 1, 5],\n",
    "    [0, 0, 1, -2, 3],\n",
    "])\n",
    "display(m.rref())\n",
    "np.array(m)[:,:-1] @ np.array([11/2, 13, 13, 5])"
   ]
  },
  {
   "cell_type": "markdown",
   "id": "58db31a8-bc58-4d07-b23d-7b28fcd0945b",
   "metadata": {},
   "source": [
    "### 14d\n",
    "\n",
    "Repeat exercise 7 using the Gauss-Jordan method.\n",
    "\n",
    "Use Algorithm 6.1 and Maple with $Digits:=10$ to solve the following linear systems.\n",
    "\n",
    "$\\begin{aligned}\n",
    "2x_1 + x_2 - x_3 + x_4 - 3x_5 = 7 \\\\\n",
    "x_1 + 2x_3 - x_4 + x_5 = 2 \\\\\n",
    "-2x_2 - x_3 + x_4 - x_5 = -5 \\\\\n",
    "3x_1 + x_2 - 4x_3 + 5x_5 = 6 \\\\\n",
    "x_1 - x_2 - x_3 - x_4 + x_5 = 3 \\\\\n",
    "\\end{aligned}$\n",
    "\n",
    "**solution**\n",
    "\n",
    "$x_1=\\frac{328}{171}, x_2=\\frac{112}{57}, x_3=-\\frac{169}{171}, x_4=-\\frac{182}{57}, x_5=-\\frac{194}{171}$"
   ]
  },
  {
   "cell_type": "code",
   "execution_count": 41,
   "id": "04da24d6-3074-40ce-80d8-62fbeddff52e",
   "metadata": {},
   "outputs": [
    {
     "data": {
      "text/latex": [
       "$\\displaystyle \\left[\\begin{matrix}\\frac{328}{171}\\\\\\frac{112}{57}\\\\- \\frac{169}{171}\\\\- \\frac{182}{57}\\\\- \\frac{194}{171}\\end{matrix}\\right]$"
      ],
      "text/plain": [
       "⎡ 328 ⎤\n",
       "⎢ ─── ⎥\n",
       "⎢ 171 ⎥\n",
       "⎢     ⎥\n",
       "⎢ 112 ⎥\n",
       "⎢ ─── ⎥\n",
       "⎢  57 ⎥\n",
       "⎢     ⎥\n",
       "⎢-169 ⎥\n",
       "⎢─────⎥\n",
       "⎢ 171 ⎥\n",
       "⎢     ⎥\n",
       "⎢-182 ⎥\n",
       "⎢─────⎥\n",
       "⎢  57 ⎥\n",
       "⎢     ⎥\n",
       "⎢-194 ⎥\n",
       "⎢─────⎥\n",
       "⎣ 171 ⎦"
      ]
     },
     "metadata": {},
     "output_type": "display_data"
    },
    {
     "data": {
      "text/plain": [
       "array([[7],\n",
       "       [2],\n",
       "       [-5],\n",
       "       [6],\n",
       "       [3]], dtype=object)"
      ]
     },
     "execution_count": 41,
     "metadata": {},
     "output_type": "execute_result"
    }
   ],
   "source": [
    "m = sympy.Matrix([\n",
    "    [2, 1, -1, 1, -3, 7],\n",
    "    [1, 0, 2, -1, 1, 2],\n",
    "    [0, -2, -1, 1, -1, -5],\n",
    "    [3, 1, -4, 0, 5, 6],\n",
    "    [1, -1, -1, -1, 1, 3],\n",
    "])\n",
    "sol = m.rref()[0].col(5)\n",
    "display(sol)\n",
    "# Sanity check\n",
    "np.array(m)[:,:-1] @ np.array(sol)"
   ]
  },
  {
   "cell_type": "markdown",
   "id": "a00331ba-79c4-4817-829c-52a68194cb18",
   "metadata": {},
   "source": [
    "## Exercise set 6.2\n",
    "\n",
    "### 10b\n",
    "\n",
    "Use Gaussian elimination and three-digit chopping arithmetic to solve the following linear systems, and compare the approximations to the actual solution.\n",
    "\n",
    "$\\begin{aligned}\n",
    "3.3330x_1 + 15920x_2 + 10.333x_3 = 7953 \\\\\n",
    "2.2220x_1 + 16.710x_2 + 9.6120x_3 = 0.965 \\\\\n",
    "-1.5611x_1 + 5.1791x_2 - 1.6855x_3 = 2.714 \\\\\n",
    "\\end{aligned}$\n",
    "\n",
    "Actual solution $[1, 0.5, -1]$.\n",
    "\n",
    "**solution**\n",
    "\n"
   ]
  },
  {
   "cell_type": "code",
   "execution_count": 54,
   "id": "0061def9-d895-4e12-86e2-d530a640b3b8",
   "metadata": {},
   "outputs": [
    {
     "name": "stdout",
     "output_type": "stream",
     "text": [
      "[ 0.99970137  0.50000002 -0.999931  ]\n",
      "[7.95300e+03 9.65000e-01 2.71365e+00]\n"
     ]
    }
   ],
   "source": [
    "data = [\n",
    "    [3.3330, 15920, 10.333, 7953],\n",
    "    [2.2220, 16.710, 9.6120, 0.965],\n",
    "    [-1.5611, 5.1791, -1.6852, 2.714],\n",
    "]\n",
    "\n",
    "m = np.array(data)\n",
    "sol = np.linalg.solve(m[:,:-1], m[:,-1])\n",
    "print(sol)\n",
    "print(m[:,:-1] @ np.array([1, 0.5, -1]))"
   ]
  },
  {
   "cell_type": "markdown",
   "id": "afe6693c-efb2-41b0-a89f-cfa8884fd067",
   "metadata": {},
   "source": [
    "### 14b\n",
    "\n",
    "Repeat Exercise 10 using Gaussian elimination with partial pivoting.\n",
    "\n",
    "**solution**\n",
    "\n"
   ]
  },
  {
   "cell_type": "code",
   "execution_count": null,
   "id": "26b667f9-726e-479e-9c62-9f4d20681c8e",
   "metadata": {},
   "outputs": [],
   "source": []
  },
  {
   "cell_type": "markdown",
   "id": "47ab1431-cc9d-4897-918a-b568334df6ae",
   "metadata": {},
   "source": [
    "### 18b\n",
    "\n",
    "Repeat Exercise 10 using Gaussian elimination with scaled partial pivoting.\n",
    "\n",
    "**solution**\n",
    "\n",
    "$x_1=0.9997, x_2 = 0.5000, x_3 = -0.9999$"
   ]
  },
  {
   "cell_type": "code",
   "execution_count": 55,
   "id": "ef59dacf-6282-4870-b3c4-a867d52c9ef2",
   "metadata": {},
   "outputs": [
    {
     "name": "stdout",
     "output_type": "stream",
     "text": [
      "[ 0.99970137  0.50000002 -0.999931  ]\n",
      "[7.95300e+03 9.65000e-01 2.71365e+00]\n"
     ]
    }
   ],
   "source": [
    "data = [\n",
    "    [3.3330, 15920, 10.333, 7953],\n",
    "    [2.2220, 16.710, 9.6120, 0.965],\n",
    "    [-1.5611, 5.1791, -1.6852, 2.714],\n",
    "]\n",
    "\n",
    "m = np.array(data)\n",
    "sol = np.linalg.solve(m[:,:-1], m[:,-1])\n",
    "print(sol)\n",
    "print(m[:,:-1] @ np.array([1, 0.5, -1]))"
   ]
  },
  {
   "cell_type": "markdown",
   "id": "46269472-2fa7-4570-94a1-1cde1a125f34",
   "metadata": {},
   "source": [
    "## Exercise set 6.5\n",
    "\n",
    "### 2a\n",
    "\n",
    "Solve the following linear systems:\n",
    "\n",
    "$\\begin{bmatrix}\n",
    "1 & 0 & 0 \\\\\n",
    "-2 & 1 & 0 \\\\\n",
    "3 & 0 & 1 \\\\\n",
    "\\end{bmatrix}\n",
    "\\quad\n",
    "\\begin{bmatrix}\n",
    "2 & 1 & -1 \\\\\n",
    "0 & 4 & 2 \\\\\n",
    "0 & 0 & 5 \\\\\n",
    "\\end{bmatrix}\n",
    "\\quad\n",
    "\\begin{bmatrix}\n",
    "x_1 \\\\\n",
    "x_2 \\\\\n",
    "x_3 \\\\\n",
    "\\end{bmatrix}\n",
    "\\quad\n",
    "=\n",
    "\\quad\n",
    "\\begin{bmatrix}\n",
    "1 \\\\\n",
    "0 \\\\\n",
    "5 \\\\\n",
    "\\end{bmatrix}$\n",
    "\n",
    "**solution**\n",
    "\n",
    "$Ly=\n",
    "\\quad\n",
    "\\begin{bmatrix}\n",
    "1 & 0 & 0 \\\\\n",
    "-2 & 1 & 0 \\\\\n",
    "3 & 0 & 1 \\\\\n",
    "\\end{bmatrix}\n",
    "\\quad\n",
    "\\begin{bmatrix}\n",
    "y_1 \\\\\n",
    "y_2 \\\\\n",
    "y_3 \\\\\n",
    "\\end{bmatrix}\n",
    "\\quad\n",
    "=\n",
    "\\quad\n",
    "\\begin{bmatrix}\n",
    "1 \\\\\n",
    "0 \\\\\n",
    "5 \\\\\n",
    "\\end{bmatrix}$\n",
    "\n",
    "$y=\n",
    "\\quad\n",
    "\\begin{bmatrix}\n",
    "1 \\\\\n",
    "2 \\\\\n",
    "-3 \\\\\n",
    "\\end{bmatrix}$\n",
    "\n",
    "$\\boldsymbol{b}=L\\boldsymbol{y}=\n",
    "\\quad\n",
    "\\begin{bmatrix}\n",
    "1 & 0 & 0 \\\\\n",
    "-2 & 1 & 0 \\\\\n",
    "3 & 0 & 1 \\\\\n",
    "\\end{bmatrix}\n",
    "\\quad\n",
    "\\begin{bmatrix}\n",
    "1 \\\\\n",
    "2 \\\\\n",
    "-3 \\\\\n",
    "\\end{bmatrix}\n",
    "\\quad\n",
    "=\n",
    "\\quad\n",
    "\\begin{bmatrix}\n",
    "1 \\\\\n",
    "0 \\\\\n",
    "0 \\\\\n",
    "\\end{bmatrix}$\n",
    "\n",
    "$U\\boldsymbol{x}=\\boldsymbol{y}=\n",
    "\\quad\n",
    "\\begin{bmatrix}\n",
    "2 & 1 & -1 \\\\\n",
    "0 & 4 & 2 \\\\\n",
    "0 & 0 & 5 \\\\\n",
    "\\end{bmatrix}\n",
    "\\quad\n",
    "\\begin{bmatrix}\n",
    "x_1 \\\\\n",
    "x_2 \\\\\n",
    "x_3 \\\\\n",
    "\\end{bmatrix}\n",
    "\\quad\n",
    "=\n",
    "\\quad\n",
    "\\begin{bmatrix}\n",
    "1 \\\\\n",
    "0 \\\\\n",
    "0 \\\\\n",
    "\\end{bmatrix}$\n",
    "\n",
    "$x_1 = \\frac{3}{4}, x_2 = \\frac{3}{10}, x_3 = \\frac{2}{5}$\n"
   ]
  },
  {
   "cell_type": "code",
   "execution_count": 79,
   "id": "5940bd90-bf4d-4317-8205-56319cc9b64d",
   "metadata": {},
   "outputs": [
    {
     "name": "stdout",
     "output_type": "stream",
     "text": [
      "[1 0 0]\n"
     ]
    },
    {
     "data": {
      "text/plain": [
       "array([1.00000000e+00, 2.22044605e-16, 5.00000000e+00])"
      ]
     },
     "execution_count": 79,
     "metadata": {},
     "output_type": "execute_result"
    }
   ],
   "source": [
    "L = np.array([\n",
    "    [1, 0, 0],\n",
    "    [-2, 1, 0],\n",
    "    [3, 0, 1],\n",
    "])\n",
    "y = np.array([1, 2, -3])\n",
    "Ly = L @ y\n",
    "print(Ly)\n",
    "U = np.array([\n",
    "    [2, 1, -2],\n",
    "    [0, 4, 2],\n",
    "    [0, 0, 5],\n",
    "])\n",
    "np.linalg.solve(L@U, np.array([1, 0, 5]))\n",
    "L@U@np.array([3/4, 0.3, 0.4])"
   ]
  },
  {
   "cell_type": "markdown",
   "id": "9e82ba35-f6e5-4f0e-bc32-c137f7a287e5",
   "metadata": {},
   "source": [
    "### 6a\n",
    "\n",
    "Factor the following matrices into the LU decomposition using the LU Factorization Algorithm with $l_{ii} = 1$ for all $i$.\n",
    "\n",
    "$\\begin{bmatrix}\n",
    "1 & -1 & 0 \\\\\n",
    "2 & 2 & 3 \\\\\n",
    "-1 & 3 & 2 \\\\\n",
    "\\end{bmatrix}$\n",
    "\n",
    "**solution**\n",
    "\n",
    "$LU=\n",
    "\\quad\n",
    "\\begin{bmatrix}\n",
    "1 & 0 & 0 \\\\\n",
    "-\\frac{1}{2} & 1  & 0 \\\\\n",
    "\\frac{1}{2} & -\\frac{1}{2} & 1 \\\\\n",
    "\\end{bmatrix}\n",
    "\\quad\n",
    "\\begin{bmatrix}\n",
    "2 & 2 & 3 \\\\\n",
    "0 & 4 & \\frac{7}{2} \\\\\n",
    "0 & 0 & \\frac{1}{4} \\\\\n",
    "\\end{bmatrix}$"
   ]
  },
  {
   "cell_type": "code",
   "execution_count": 71,
   "id": "a0838392-b60f-4d77-81c8-cc8201083b71",
   "metadata": {},
   "outputs": [
    {
     "name": "stdout",
     "output_type": "stream",
     "text": [
      "[[ 1.   0.   0. ]\n",
      " [-0.5  1.   0. ]\n",
      " [ 0.5 -0.5  1. ]]\n",
      "[[2.   2.   3.  ]\n",
      " [0.   4.   3.5 ]\n",
      " [0.   0.   0.25]]\n"
     ]
    }
   ],
   "source": [
    "m = np.array([\n",
    "    [1, -1, 0],\n",
    "    [2, 2, 3],\n",
    "    [-1, 3, 2],\n",
    "])\n",
    "lu, piv = scipy.linalg.lu_factor(m)\n",
    "L, U = np.tril(lu, k=-1) + np.eye(3), np.triu(lu)\n",
    "print(L)\n",
    "print(U)"
   ]
  },
  {
   "cell_type": "markdown",
   "id": "6442352c-2db1-460e-837f-e7b361ff28e0",
   "metadata": {},
   "source": [
    "## Exercise set 6.6\n",
    "\n",
    "### 2\n",
    "\n",
    "Determine which of the following matrices are (i) symmetric, (ii) singular, (iii) stricly diagonally dominant, (iv) positive definite.\n",
    "\n",
    "**solution**\n",
    "\n",
    "a = (iv)\n",
    "\n",
    "b = (iii)\n",
    "\n",
    "c = (i)\n",
    "\n",
    "d = (ii)\n",
    "\n",
    "### 4a\n",
    "\n",
    "Use the $LDL^t$ Factorization Algorithm to find a factorization of the form $A = LDL^t$ for the following matrices:\n",
    "\n",
    "$\\begin{bmatrix}\n",
    "4 & -1 & 1 \\\\\n",
    "-1 & 3 & 0 \\\\\n",
    "1 & 0 & 2 \\\\\n",
    "\\end{bmatrix}$\n",
    "\n",
    "**solution**\n",
    "\n",
    "$L=\n",
    "\\quad\n",
    "\\begin{bmatrix}\n",
    "1 & 0 & 0 \\\\\n",
    "-0.25 & 1 & 0 \\\\\n",
    "0.25 & 0.0909 & 1 \\\\\n",
    "\\end{bmatrix}$\n",
    "\n",
    "$D=\n",
    "\\quad\n",
    "\\begin{bmatrix}\n",
    "4 & 0 & 0 \\\\\n",
    "0 & 2.75 & 0 \\\\\n",
    "0 & 0 & 1.72727 \\\\\n",
    "\\end{bmatrix}$"
   ]
  },
  {
   "cell_type": "code",
   "execution_count": 90,
   "id": "2158160f-d277-4703-886f-75c66a639a1b",
   "metadata": {},
   "outputs": [
    {
     "data": {
      "text/plain": [
       "(array([[ 1.        ,  0.        ,  0.        ],\n",
       "        [-0.25      ,  1.        ,  0.        ],\n",
       "        [ 0.25      ,  0.09090909,  1.        ]]),\n",
       " array([[4.        , 0.        , 0.        ],\n",
       "        [0.        , 2.75      , 0.        ],\n",
       "        [0.        , 0.        , 1.72727273]]),\n",
       " array([0, 1, 2]))"
      ]
     },
     "execution_count": 90,
     "metadata": {},
     "output_type": "execute_result"
    }
   ],
   "source": [
    "m = np.array([\n",
    "    [4, -1, 1],\n",
    "    [-1, 3, 0],\n",
    "    [1, 0, 2],\n",
    "])\n",
    "scipy.linalg.ldl(m, lower=True)"
   ]
  },
  {
   "cell_type": "markdown",
   "id": "62a5dc0d-0066-451b-b38f-7761c82e6078",
   "metadata": {},
   "source": [
    "### 6a\n",
    "\n",
    "Use the Cholesky Algorithm to find a factorization of the form $A=LL^t$ for the matrices in Exercise 4.\n",
    "\n",
    "**solution**\n",
    "\n",
    "$L=\n",
    "\\quad\n",
    "\\begin{bmatrix}\n",
    "2 & 0 & 0 \\\\\n",
    "-\\frac{1}{2} & 1.65813 & 0 \\\\\n",
    "\\frac{1}{2} & 0.15076 & 1.31426 \\\\\n",
    "\\end{bmatrix}$"
   ]
  },
  {
   "cell_type": "code",
   "execution_count": 89,
   "id": "996c5d19-6f50-4c4e-9128-33650a934512",
   "metadata": {},
   "outputs": [
    {
     "data": {
      "text/plain": [
       "array([[ 2.        ,  0.        ,  0.        ],\n",
       "       [-0.5       ,  1.6583124 ,  0.        ],\n",
       "       [ 0.5       ,  0.15075567,  1.31425748]])"
      ]
     },
     "execution_count": 89,
     "metadata": {},
     "output_type": "execute_result"
    }
   ],
   "source": [
    "m = np.array([\n",
    "    [4, -1, 1],\n",
    "    [-1, 3, 0],\n",
    "    [1, 0, 2],\n",
    "])\n",
    "scipy.linalg.cholesky(m, lower=True)"
   ]
  },
  {
   "cell_type": "markdown",
   "id": "0b89b179-3da4-4bc0-a022-4f0ac838aa25",
   "metadata": {},
   "source": [
    "### 12c\n",
    "\n",
    "Use Crout factorization for tridiagnonal systems to solve the following linear systems.\n",
    "\n",
    "$\\begin{aligned}\n",
    "2x_1 - x_2 = 3 \\\\\n",
    "x_1 + 2x_2 - x_3 = 4 \\\\\n",
    "x_2 - 2x_3 + x_4 = 0 \\\\\n",
    "x_3 + 2x_4 = 6 \\\\\n",
    "\\end{aligned}$\n",
    "\n",
    "**solution**\n",
    "\n",
    "$LU=\n",
    "\\quad\n",
    "\\begin{bmatrix}\n",
    "1 & 0 & 0 & 0 \\\\\n",
    "0.5 & 1 & 0 & 0 \\\\\n",
    "0 & 0.4 & 1 & 0 \\\\\n",
    "0 & 0 & -0.625 & 1 \\\\\n",
    "\\end{bmatrix}\n",
    "\\quad\n",
    "\\begin{bmatrix}\n",
    "2 & -1 & 0 & 0 \\\\\n",
    "0 & 2.5 & -1 & 0 \\\\\n",
    "0 & 0 & -1.6 & 1 \\\\\n",
    "0 & 0 & 0 & 2.625 \\\\\n",
    "\\end{bmatrix}$\n",
    "\n",
    "$\\boldsymbol{b}=L\\boldsymbol{y}$\n",
    "\n",
    "$\\boldsymbol{y}=\n",
    "\\begin{bmatrix}\n",
    "3 \\\\\n",
    "2.5 \\\\\n",
    "-1 \\\\\n",
    "5.375 \\\\\n",
    "\\end{bmatrix}$\n",
    "\n",
    "$U\\boldsymbol{x}=\\boldsymbol{y}$\n",
    "\n",
    "$x_1=2.38095, x_2 = 1.76190, x_3 = 1.90476, x_4 = 2.047619$"
   ]
  },
  {
   "cell_type": "code",
   "execution_count": 98,
   "id": "74be6fbc-38d8-4acf-b8bd-d02e71d16a9b",
   "metadata": {},
   "outputs": [
    {
     "name": "stdout",
     "output_type": "stream",
     "text": [
      "[[ 1.     0.     0.     0.   ]\n",
      " [ 0.5    1.     0.     0.   ]\n",
      " [ 0.     0.4    1.     0.   ]\n",
      " [ 0.     0.    -0.625  1.   ]]\n",
      "[[ 2.    -1.     0.     0.   ]\n",
      " [ 0.     2.5   -1.     0.   ]\n",
      " [ 0.     0.    -1.6    1.   ]\n",
      " [ 0.     0.     0.     2.625]]\n",
      "[ 3.     2.5   -1.     5.375]\n",
      "[2.38095238 1.76190476 1.9047619  2.04761905]\n"
     ]
    },
    {
     "data": {
      "text/plain": [
       "array([3., 4., 0., 6.])"
      ]
     },
     "execution_count": 98,
     "metadata": {},
     "output_type": "execute_result"
    }
   ],
   "source": [
    "m = np.array([\n",
    "    [2, -1, 0, 0],\n",
    "    [1, 2, -1, 0],\n",
    "    [0, 1, -2, 1],\n",
    "    [0, 0, 1, 2],\n",
    "])\n",
    "lu, piv = scipy.linalg.lu_factor(m)\n",
    "L, U = np.tril(lu, k=-1) + np.eye(4), np.triu(lu)\n",
    "print(L)\n",
    "print(U)\n",
    "\n",
    "y = np.linalg.solve(L, np.array([3, 4, 0, 6]))\n",
    "print(y)\n",
    "x = np.linalg.solve(U, y)\n",
    "print(x)\n",
    "m @ x"
   ]
  }
 ],
 "metadata": {
  "kernelspec": {
   "display_name": "Python 3 (ipykernel)",
   "language": "python",
   "name": "python3"
  },
  "language_info": {
   "codemirror_mode": {
    "name": "ipython",
    "version": 3
   },
   "file_extension": ".py",
   "mimetype": "text/x-python",
   "name": "python",
   "nbconvert_exporter": "python",
   "pygments_lexer": "ipython3",
   "version": "3.9.2"
  }
 },
 "nbformat": 4,
 "nbformat_minor": 5
}
