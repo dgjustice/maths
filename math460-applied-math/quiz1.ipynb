{
 "cells": [
  {
   "cell_type": "markdown",
   "id": "dda676ab-4c72-45ee-a16a-f309d1d9f297",
   "metadata": {},
   "source": [
    "1) Find the Fourier series of $f(x)=|\\sin x|$ for $-\\pi < x < \\pi$ which is assumed to have the period of $2\\pi$.  Show the details of your work.  Sketch or graph the partial sums up to that including $\\cos 5x$ and $\\sin 5x$.\n",
    "\n",
    "**solution**\n",
    "\n",
    "$f(x)$ is even, so $b_n=0$\n",
    "\n",
    "$$a_0=\\frac{1}{2\\pi} \\int_{-\\pi}^{\\pi}|\\sin x| dx= \\frac{2}{\\pi}$$\n",
    "\n",
    "$$a_n=\\frac{- \\frac{2 \\cos{\\left(\\pi n \\right)}}{n^{2} - 1} - \\frac{2}{n^{2} - 1}}{\\pi}$$\n",
    "\n",
    "$$F(x)=\\frac{2}{\\pi} -\\frac{4 \\cos{\\left(2 x \\right)}}{3 \\pi} - \\frac{4 \\cos{\\left(4 x \\right)}}{15 \\pi} - \\frac{4 \\cos{\\left(6 x \\right)}}{35 \\pi} \\dots$$\n",
    "\n",
    "![fig1](num1.png \"fig1\")"
   ]
  },
  {
   "cell_type": "markdown",
   "id": "ad380660-28bd-4ecf-a88f-337771e792c7",
   "metadata": {},
   "source": [
    "2) Is the function $f(x)=1-\\frac{x^2}{4}, (-2<x<2), p=4$ even or odd or neither.  Find its Fourier series.  Show the details of your work.\n",
    "\n",
    "**solution**\n",
    "\n",
    "$f(x)$ is even, it is reflected across the y-axis.\n",
    "\n",
    "$$a_n=\\frac{4 \\cos{\\left(\\pi n \\right)}}{\\pi^{2} n^{2}} + \\frac{4 \\sin{\\left(\\pi n \\right)}}{\\pi^{3} n^{3}}$$\n",
    "\n",
    "$$F(x)=\\frac{2}{3}+ \\frac{4 \\cos{\\left(\\frac{\\pi x}{2} \\right)}}{\\pi^{2}} - \\frac{\\cos{\\left(\\pi x \\right)}}{\\pi^{2}} + \\frac{\\cos{\\left(\\frac{12 \\pi x}{18} \\right)}}{\\pi^{2}} - \\frac{\\cos{\\frac{2 \\pi x}{4}}}{\\pi^{2}} + \\frac{\\cos{\\left(\\frac{20 \\pi x}{50} \\right)}}{\\pi^{2}}\\dots$$"
   ]
  },
  {
   "cell_type": "markdown",
   "id": "b037d5d2-0982-4981-a475-df03837ad877",
   "metadata": {},
   "source": [
    "3) Find the Fourier cosine series and the Fourier sine series of $f(x)=\\sin x$.  Sketch the function and its two periodic extensions.  Show the details.\n",
    "\n",
    "**solution**\n",
    "\n",
    "I have included up to $n=3$ in the equations, but the graphs use $n=5$.\n",
    "\n",
    "$$a_0 = \\frac{2}{\\pi}$$\n",
    "\n",
    "$$a_n = \\frac{2 - \\frac{\\cos{\\left(\\pi n \\right)}}{n^{2} - 1} - \\frac{1}{n^{2} - 1}}{\\pi}$$\n",
    "\n",
    "$$F(x) = \\frac{2}{\\pi} - \\frac{4 \\cos{\\left(2 x \\right)}}{3 \\pi} - \\frac{4 \\cos{\\left(4 x \\right)}}{15 \\pi} \\dots$$\n",
    "\n",
    "The graph of the cosine (even) expansion is:\n",
    "\n",
    "![fig2](num3a.png \"fig2\")\n",
    "\n",
    "$$b_n=\\frac{-2 \\frac{\\sin \\pi n}{n^2-1}}{\\pi}$$\n",
    "\n",
    "$b_1=1$ because $\\sin x$ is positive over the interval $(0, \\pi)$.\n",
    "The integral of every other multiple of $\\sin nx$ is 0.\n",
    "Therefore, the sine expansion is simply $F(x)=\\sin x$.\n",
    "\n",
    "The graph of the sine (odd) expansion is:\n",
    "\n",
    "![fig3](num3b.png \"fig3\")"
   ]
  },
  {
   "cell_type": "markdown",
   "id": "8cfe4aba-cd24-4b01-9d15-ca8561491925",
   "metadata": {},
   "source": [
    "4) Find the trigonometric polynomial of the form $F(x)=A_0 + \\sum_{n=1}^{N}(A_n \\cos nx + B_n \\sin nx)$ for which the square error with respect to $f(x)=|\\sin x|$, on the interval $-\\pi < x < \\pi$ is minimum.  Compute the minimum values for $N=1, 2, \\dots, 5$.\n",
    "\n",
    "**solution**\n",
    "\n",
    "$$\\begin{aligned}\n",
    "&F(x)=\\frac{1}{2}-\\frac{\\cos2}{2} \\\\\n",
    "&-\\frac{4}{3\\pi} \\sin 2x \\\\\n",
    "&-\\frac{4}{15\\pi} \\sin 4x \\\\\n",
    "&-\\frac{4}{35\\pi} \\sin 8x \\dots \\\\\n",
    "\\end{aligned}$$\n",
    "\n",
    "|N|E*|\n",
    "|-|--|\n",
    "|    1|0.5951|\n",
    "|    2|0.0292|\n",
    "|    3|0.0292|\n",
    "|    4|0.0066|\n",
    "|    5|0.0066|\n",
    "|    6|0.0024|\n",
    "|    7|0.0024|\n",
    "|    8|0.0012|\n",
    "|    9|0.0012|\n",
    "|   10|0.0006|"
   ]
  }
 ],
 "metadata": {
  "kernelspec": {
   "display_name": "Python 3 (ipykernel)",
   "language": "python",
   "name": "python3"
  },
  "language_info": {
   "codemirror_mode": {
    "name": "ipython",
    "version": 3
   },
   "file_extension": ".py",
   "mimetype": "text/x-python",
   "name": "python",
   "nbconvert_exporter": "python",
   "pygments_lexer": "ipython3",
   "version": "3.9.2"
  }
 },
 "nbformat": 4,
 "nbformat_minor": 5
}
